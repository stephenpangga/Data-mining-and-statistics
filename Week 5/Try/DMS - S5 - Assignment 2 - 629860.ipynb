{
 "cells": [
  {
   "cell_type": "markdown",
   "metadata": {},
   "source": [
    "**this is a template notebook for Assignment 2 on Clustering. To get a 60 you will need to complete chapter 1 and 2.\n",
    "    The template is also just an indication. You can add more cells if needed, and can of course delete this line**\n",
    "\n",
    "# <span>Classification Assignment: Australia Weather<Title of your notebook>\n"
   ]
  },
  {
   "cell_type": "markdown",
   "metadata": {},
   "source": [
    "Author: <span>Stephen Pangga </span><br>\n",
    "Student number: <span> 629860 </span><br>\n",
    "Date: <span> 21/05/2022 </span>"
   ]
  },
  {
   "cell_type": "markdown",
   "metadata": {},
   "source": [
    "For this notebook to work you must have installed the following packages (usually via pip install *packageName*:\n",
    "* numpy\n",
    "* pandas\n",
    "* sklearn\n",
    "* **\\<add other packages\\>**\n",
    "\n",
    "From these we will need the following libraries:"
   ]
  },
  {
   "cell_type": "code",
   "execution_count": 106,
   "metadata": {},
   "outputs": [
    {
     "name": "stdout",
     "output_type": "stream",
     "text": [
      "NumPy already installed, only imported\n",
      "PyPlot already installed, only imported\n",
      "pandas already installed, only imported\n",
      "seaborn already installed, only imported\n",
      "sklearn already installed, only imported\n"
     ]
    }
   ],
   "source": [
    "# enter here all those 'from .... import ....'\n",
    "# numpy as np\n",
    "try:\n",
    "    import numpy as np\n",
    "    print('NumPy already installed, only imported')\n",
    "except:\n",
    "    %pip install numpy\n",
    "    import numpy as np\n",
    "    print('NumPy was not installed, installed and imported')\n",
    "      \n",
    "# pyplot as plt\n",
    "try:\n",
    "    import matplotlib.pyplot as plt\n",
    "    print('PyPlot already installed, only imported')\n",
    "except:\n",
    "    %pip install matplotlib\n",
    "    import matplotlib.pyplot as plt\n",
    "    print('PyPlot was not installed, installed and imported')\n",
    "\n",
    "# pandas as pd   \n",
    "try:\n",
    "    import pandas as pd\n",
    "    print('pandas already installed, only imported')\n",
    "except:\n",
    "    %pip install pandas\n",
    "    import pandas as pd\n",
    "    print('pandas was not installed, installed and imported')\n",
    "    \n",
    "try:\n",
    "    import seaborn as sn\n",
    "    print('seaborn already installed, only imported')\n",
    "except:\n",
    "    %pip install seaborn\n",
    "    import seaborn as sn\n",
    "    print('seaborn was not installed, installed and imported')\n",
    "\n",
    "try:\n",
    "    from sklearn.model_selection import train_test_split\n",
    "    print('sklearn already installed, only imported')\n",
    "except:\n",
    "    %pip install sklearn\n",
    "    from sklearn.model_selection import train_test_split\n",
    "    print('sklearn was not installed, installed and imported')\n",
    "    \n",
    "\n",
    "from sklearn import metrics\n",
    "from sklearn.metrics import confusion_matrix\n",
    "from sklearn.dummy import DummyClassifier\n",
    "    "
   ]
  },
  {
   "cell_type": "markdown",
   "metadata": {},
   "source": [
    "# 1. The Data\n",
    "We are going to use the datafile **<span style ='background:yellow'>weatherAUS.csv</span>**. This contains data **<span style ='background:yellow'> from kaggle and its about the daily weather for the past 10 years from the country Australia </span>**.\n",
    "\n",
    "\n",
    "\n",
    "The explanation of the variable and type from https://www.kaggle.com/datasets/jsphyg/weather-dataset-rattle-package."
   ]
  },
  {
   "cell_type": "code",
   "execution_count": 107,
   "metadata": {},
   "outputs": [],
   "source": [
    "# enter the code to load the data\n",
    "data = pd.read_csv('weatherAUS.csv')"
   ]
  },
  {
   "cell_type": "markdown",
   "metadata": {},
   "source": [
    "Here's a quick look at the data:"
   ]
  },
  {
   "cell_type": "code",
   "execution_count": 108,
   "metadata": {},
   "outputs": [
    {
     "data": {
      "text/html": [
       "<div>\n",
       "<style scoped>\n",
       "    .dataframe tbody tr th:only-of-type {\n",
       "        vertical-align: middle;\n",
       "    }\n",
       "\n",
       "    .dataframe tbody tr th {\n",
       "        vertical-align: top;\n",
       "    }\n",
       "\n",
       "    .dataframe thead th {\n",
       "        text-align: right;\n",
       "    }\n",
       "</style>\n",
       "<table border=\"1\" class=\"dataframe\">\n",
       "  <thead>\n",
       "    <tr style=\"text-align: right;\">\n",
       "      <th></th>\n",
       "      <th>Date</th>\n",
       "      <th>Location</th>\n",
       "      <th>MinTemp</th>\n",
       "      <th>MaxTemp</th>\n",
       "      <th>Rainfall</th>\n",
       "      <th>Evaporation</th>\n",
       "      <th>Sunshine</th>\n",
       "      <th>WindGustDir</th>\n",
       "      <th>WindGustSpeed</th>\n",
       "      <th>WindDir9am</th>\n",
       "      <th>...</th>\n",
       "      <th>Humidity9am</th>\n",
       "      <th>Humidity3pm</th>\n",
       "      <th>Pressure9am</th>\n",
       "      <th>Pressure3pm</th>\n",
       "      <th>Cloud9am</th>\n",
       "      <th>Cloud3pm</th>\n",
       "      <th>Temp9am</th>\n",
       "      <th>Temp3pm</th>\n",
       "      <th>RainToday</th>\n",
       "      <th>RainTomorrow</th>\n",
       "    </tr>\n",
       "  </thead>\n",
       "  <tbody>\n",
       "    <tr>\n",
       "      <th>6049</th>\n",
       "      <td>2009-01-01</td>\n",
       "      <td>Cobar</td>\n",
       "      <td>17.9</td>\n",
       "      <td>35.2</td>\n",
       "      <td>0.0</td>\n",
       "      <td>12.0</td>\n",
       "      <td>12.3</td>\n",
       "      <td>SSW</td>\n",
       "      <td>48.0</td>\n",
       "      <td>ENE</td>\n",
       "      <td>...</td>\n",
       "      <td>20.0</td>\n",
       "      <td>13.0</td>\n",
       "      <td>1006.3</td>\n",
       "      <td>1004.4</td>\n",
       "      <td>2.0</td>\n",
       "      <td>5.0</td>\n",
       "      <td>26.6</td>\n",
       "      <td>33.4</td>\n",
       "      <td>No</td>\n",
       "      <td>No</td>\n",
       "    </tr>\n",
       "    <tr>\n",
       "      <th>6050</th>\n",
       "      <td>2009-01-02</td>\n",
       "      <td>Cobar</td>\n",
       "      <td>18.4</td>\n",
       "      <td>28.9</td>\n",
       "      <td>0.0</td>\n",
       "      <td>14.8</td>\n",
       "      <td>13.0</td>\n",
       "      <td>S</td>\n",
       "      <td>37.0</td>\n",
       "      <td>SSE</td>\n",
       "      <td>...</td>\n",
       "      <td>30.0</td>\n",
       "      <td>8.0</td>\n",
       "      <td>1012.9</td>\n",
       "      <td>1012.1</td>\n",
       "      <td>1.0</td>\n",
       "      <td>1.0</td>\n",
       "      <td>20.3</td>\n",
       "      <td>27.0</td>\n",
       "      <td>No</td>\n",
       "      <td>No</td>\n",
       "    </tr>\n",
       "    <tr>\n",
       "      <th>6052</th>\n",
       "      <td>2009-01-04</td>\n",
       "      <td>Cobar</td>\n",
       "      <td>19.4</td>\n",
       "      <td>37.6</td>\n",
       "      <td>0.0</td>\n",
       "      <td>10.8</td>\n",
       "      <td>10.6</td>\n",
       "      <td>NNE</td>\n",
       "      <td>46.0</td>\n",
       "      <td>NNE</td>\n",
       "      <td>...</td>\n",
       "      <td>42.0</td>\n",
       "      <td>22.0</td>\n",
       "      <td>1012.3</td>\n",
       "      <td>1009.2</td>\n",
       "      <td>1.0</td>\n",
       "      <td>6.0</td>\n",
       "      <td>28.7</td>\n",
       "      <td>34.9</td>\n",
       "      <td>No</td>\n",
       "      <td>No</td>\n",
       "    </tr>\n",
       "    <tr>\n",
       "      <th>6053</th>\n",
       "      <td>2009-01-05</td>\n",
       "      <td>Cobar</td>\n",
       "      <td>21.9</td>\n",
       "      <td>38.4</td>\n",
       "      <td>0.0</td>\n",
       "      <td>11.4</td>\n",
       "      <td>12.2</td>\n",
       "      <td>WNW</td>\n",
       "      <td>31.0</td>\n",
       "      <td>WNW</td>\n",
       "      <td>...</td>\n",
       "      <td>37.0</td>\n",
       "      <td>22.0</td>\n",
       "      <td>1012.7</td>\n",
       "      <td>1009.1</td>\n",
       "      <td>1.0</td>\n",
       "      <td>5.0</td>\n",
       "      <td>29.1</td>\n",
       "      <td>35.6</td>\n",
       "      <td>No</td>\n",
       "      <td>No</td>\n",
       "    </tr>\n",
       "    <tr>\n",
       "      <th>6054</th>\n",
       "      <td>2009-01-06</td>\n",
       "      <td>Cobar</td>\n",
       "      <td>24.2</td>\n",
       "      <td>41.0</td>\n",
       "      <td>0.0</td>\n",
       "      <td>11.2</td>\n",
       "      <td>8.4</td>\n",
       "      <td>WNW</td>\n",
       "      <td>35.0</td>\n",
       "      <td>NW</td>\n",
       "      <td>...</td>\n",
       "      <td>19.0</td>\n",
       "      <td>15.0</td>\n",
       "      <td>1010.7</td>\n",
       "      <td>1007.4</td>\n",
       "      <td>1.0</td>\n",
       "      <td>6.0</td>\n",
       "      <td>33.6</td>\n",
       "      <td>37.6</td>\n",
       "      <td>No</td>\n",
       "      <td>No</td>\n",
       "    </tr>\n",
       "  </tbody>\n",
       "</table>\n",
       "<p>5 rows × 23 columns</p>\n",
       "</div>"
      ],
      "text/plain": [
       "            Date Location  MinTemp  MaxTemp  Rainfall  Evaporation  Sunshine  \\\n",
       "6049  2009-01-01    Cobar     17.9     35.2       0.0         12.0      12.3   \n",
       "6050  2009-01-02    Cobar     18.4     28.9       0.0         14.8      13.0   \n",
       "6052  2009-01-04    Cobar     19.4     37.6       0.0         10.8      10.6   \n",
       "6053  2009-01-05    Cobar     21.9     38.4       0.0         11.4      12.2   \n",
       "6054  2009-01-06    Cobar     24.2     41.0       0.0         11.2       8.4   \n",
       "\n",
       "     WindGustDir  WindGustSpeed WindDir9am  ... Humidity9am  Humidity3pm  \\\n",
       "6049         SSW           48.0        ENE  ...        20.0         13.0   \n",
       "6050           S           37.0        SSE  ...        30.0          8.0   \n",
       "6052         NNE           46.0        NNE  ...        42.0         22.0   \n",
       "6053         WNW           31.0        WNW  ...        37.0         22.0   \n",
       "6054         WNW           35.0         NW  ...        19.0         15.0   \n",
       "\n",
       "      Pressure9am  Pressure3pm  Cloud9am  Cloud3pm  Temp9am  Temp3pm  \\\n",
       "6049       1006.3       1004.4       2.0       5.0     26.6     33.4   \n",
       "6050       1012.9       1012.1       1.0       1.0     20.3     27.0   \n",
       "6052       1012.3       1009.2       1.0       6.0     28.7     34.9   \n",
       "6053       1012.7       1009.1       1.0       5.0     29.1     35.6   \n",
       "6054       1010.7       1007.4       1.0       6.0     33.6     37.6   \n",
       "\n",
       "      RainToday  RainTomorrow  \n",
       "6049         No            No  \n",
       "6050         No            No  \n",
       "6052         No            No  \n",
       "6053         No            No  \n",
       "6054         No            No  \n",
       "\n",
       "[5 rows x 23 columns]"
      ]
     },
     "execution_count": 108,
     "metadata": {},
     "output_type": "execute_result"
    }
   ],
   "source": [
    "# enter the code to see the first few rows of the data\n",
    "#remove na values\n",
    "data.dropna(inplace=True)\n",
    "data.head()"
   ]
  },
  {
   "cell_type": "markdown",
   "metadata": {},
   "source": [
    "**<span style ='background:yellow'>\\<explain the variables (/fields/columns) you are going to use for your prediction. The dependent y (the one you are going to predict) and two independent x's (the ones you are going to use to predict that y). What do these variables mean?\\></span>**\n",
    "*note:* Its easiest if your independent x variables are numeric.\n",
    "\n",
    "\n",
    "<span style ='background:blue'>\n",
    "The variabes that ill be using are Rainfall, RainToday and RainTomorrow are going to be use for my prediction.\n",
    "The Y dependent will be the RainTomorrow, the X indepentedent variables that i will be using are RainFall and RainToday.\n",
    "\n",
    "The x variables:\n",
    "* Rainfall - is the amount of rainfall that was recorded for the day. Measured in mm.\n",
    "* RainToday - is the representation if it rain today or not. The data is a boolean, 1 (yes) if the precipitation in the last 24 hours has exceeded 1mm if not then 0 (no).\n",
    "The y variables:\n",
    "* RainTomorrow: is the amount of rain the next day in mm. A kind of measurement or the posibility of rain the next day presented in boolean values.\n",
    "</span>"
   ]
  },
  {
   "cell_type": "markdown",
   "metadata": {},
   "source": [
    "The categorical dependent variable <span style ='background:blue'> RainTomorrow <your y variable name></span> has the following categories:"
   ]
  },
  {
   "cell_type": "code",
   "execution_count": 109,
   "metadata": {},
   "outputs": [
    {
     "data": {
      "text/plain": [
       "Index(['No', 'Yes'], dtype='object')"
      ]
     },
     "execution_count": 109,
     "metadata": {},
     "output_type": "execute_result"
    }
   ],
   "source": [
    "# code that returns the different categories in the y variable.\n",
    "data['RainTomorrow'] = pd.Categorical(data['RainTomorrow'])\n",
    "data['RainTomorrow'].cat.categories"
   ]
  },
  {
   "cell_type": "code",
   "execution_count": 110,
   "metadata": {},
   "outputs": [
    {
     "data": {
      "text/html": [
       "<div>\n",
       "<style scoped>\n",
       "    .dataframe tbody tr th:only-of-type {\n",
       "        vertical-align: middle;\n",
       "    }\n",
       "\n",
       "    .dataframe tbody tr th {\n",
       "        vertical-align: top;\n",
       "    }\n",
       "\n",
       "    .dataframe thead th {\n",
       "        text-align: right;\n",
       "    }\n",
       "</style>\n",
       "<table border=\"1\" class=\"dataframe\">\n",
       "  <thead>\n",
       "    <tr style=\"text-align: right;\">\n",
       "      <th></th>\n",
       "      <th>Rainfall</th>\n",
       "      <th>RainToday</th>\n",
       "      <th>RainTomorrow</th>\n",
       "    </tr>\n",
       "  </thead>\n",
       "  <tbody>\n",
       "    <tr>\n",
       "      <th>6049</th>\n",
       "      <td>0.0</td>\n",
       "      <td>0</td>\n",
       "      <td>0</td>\n",
       "    </tr>\n",
       "    <tr>\n",
       "      <th>6050</th>\n",
       "      <td>0.0</td>\n",
       "      <td>0</td>\n",
       "      <td>0</td>\n",
       "    </tr>\n",
       "    <tr>\n",
       "      <th>6052</th>\n",
       "      <td>0.0</td>\n",
       "      <td>0</td>\n",
       "      <td>0</td>\n",
       "    </tr>\n",
       "    <tr>\n",
       "      <th>6053</th>\n",
       "      <td>0.0</td>\n",
       "      <td>0</td>\n",
       "      <td>0</td>\n",
       "    </tr>\n",
       "    <tr>\n",
       "      <th>6054</th>\n",
       "      <td>0.0</td>\n",
       "      <td>0</td>\n",
       "      <td>0</td>\n",
       "    </tr>\n",
       "  </tbody>\n",
       "</table>\n",
       "</div>"
      ],
      "text/plain": [
       "      Rainfall  RainToday  RainTomorrow\n",
       "6049       0.0          0             0\n",
       "6050       0.0          0             0\n",
       "6052       0.0          0             0\n",
       "6053       0.0          0             0\n",
       "6054       0.0          0             0"
      ]
     },
     "execution_count": 110,
     "metadata": {},
     "output_type": "execute_result"
    }
   ],
   "source": [
    "#convert yes or no to 1 or 2 as it will be easier to handle\n",
    "data['RainToday'] = pd.Categorical(data['RainToday'])\n",
    "\n",
    "#to make it easier to visualize the data make a new dataframe with the column i will be using\n",
    "weather_df = pd.DataFrame()\n",
    "\n",
    "#add to the dataframe\n",
    "weather_df['Rainfall'] = data['Rainfall']\n",
    "weather_df['RainToday'] = data['RainToday'].cat.codes\n",
    "weather_df['RainTomorrow'] = data['RainTomorrow'].cat.codes\n",
    "\n",
    "#a small visualization of the new dataframe\n",
    "weather_df.head()\n"
   ]
  },
  {
   "cell_type": "markdown",
   "metadata": {},
   "source": [
    "We'll also need some training and testing data, so:"
   ]
  },
  {
   "cell_type": "code",
   "execution_count": 111,
   "metadata": {},
   "outputs": [],
   "source": [
    "# code to split data in training and testing\n",
    "\n",
    "#set the variables\n",
    "x_var = weather_df[['Rainfall', 'RainToday']]\n",
    "y_var = weather_df['RainTomorrow']\n",
    "\n",
    "#split the data\n",
    "x_train, x_test, y_train, y_test = train_test_split(x_var, y_var, test_size=0.2, random_state=109)\n"
   ]
  },
  {
   "cell_type": "markdown",
   "metadata": {},
   "source": [
    "All set, lets try to predict this using our independent variables **<span> Rainfall & RainToday.<your x variables names></span>**"
   ]
  },
  {
   "cell_type": "markdown",
   "metadata": {},
   "source": [
    "# 2. The Basic Classification Models\n",
    "\n",
    "In the Jupyter Notebook from lecture 5 a few different Clustering techniques were discussed. Lets explore how these perform on the data."
   ]
  },
  {
   "cell_type": "markdown",
   "metadata": {},
   "source": [
    "Before we look at some 'real' models, its a good idea to get a baseline in by using one or more of the dummy classifiers. Lets see how they perform:"
   ]
  },
  {
   "cell_type": "code",
   "execution_count": 112,
   "metadata": {},
   "outputs": [
    {
     "name": "stdout",
     "output_type": "stream",
     "text": [
      "Dummy classsifier - Most Frequent\n",
      "The accuracy score:  0.7884615384615384\n",
      "[[8897    0]\n",
      " [2387    0]]\n"
     ]
    },
    {
     "data": {
      "image/png": "[encoded data removed]",
      "text/plain": [
       "<Figure size 432x288 with 2 Axes>"
      ]
     },
     "metadata": {
      "needs_background": "light"
     },
     "output_type": "display_data"
    },
    {
     "name": "stdout",
     "output_type": "stream",
     "text": [
      "Dummy classsifier - Uniform\n",
      "The accuracy score:  0.5030131159163417\n",
      "[[4476 4421]\n",
      " [1187 1200]]\n"
     ]
    },
    {
     "data": {
      "image/png": "[encoded data removed]",
      "text/plain": [
       "<Figure size 432x288 with 2 Axes>"
      ]
     },
     "metadata": {
      "needs_background": "light"
     },
     "output_type": "display_data"
    },
    {
     "name": "stdout",
     "output_type": "stream",
     "text": [
      "Dummy classsifier - Stratified\n",
      "The accuracy score:  0.6606699751861043\n",
      "[[6941 1956]\n",
      " [1873  514]]\n"
     ]
    },
    {
     "data": {
      "image/png": "[encoded data removed]",
      "text/plain": [
       "<Figure size 432x288 with 2 Axes>"
      ]
     },
     "metadata": {
      "needs_background": "light"
     },
     "output_type": "display_data"
    },
    {
     "name": "stdout",
     "output_type": "stream",
     "text": [
      "Dummy classsifier - Prior\n",
      "The accuracy score:  0.7884615384615384\n",
      "[[8897    0]\n",
      " [2387    0]]\n"
     ]
    },
    {
     "data": {
      "image/png": "[encoded data removed]",
      "text/plain": [
       "<Figure size 432x288 with 2 Axes>"
      ]
     },
     "metadata": {
      "needs_background": "light"
     },
     "output_type": "display_data"
    }
   ],
   "source": [
    "# code to create, fit and measure the dummy classifiers (see chapter 5.4. in the lecture notebook)\n",
    "# include both the accuracy score and the confusion matrix for each.\n",
    "\n",
    "# print(\"Dummy classsifier - Most Frequent\")\n",
    "# dumMF = DummyClassifier(strategy='most_frequent')\n",
    "# dumMF = dumMF.fit(x_train, y_train)\n",
    "# y_pred = dumMF.predict(x_test)\n",
    "\n",
    "def confusion_matrix_plot(y_test, y_pred):\n",
    "    labels = data['RainTomorrow'].cat.categories\n",
    "    k = len(labels)\n",
    "    sn.heatmap(confusion_matrix(y_test, y_pred), annot=True, cmap='Blues', fmt='g')\n",
    "    plt.xlabel('predicted value')\n",
    "    plt.ylabel('actual value')\n",
    "    plt.xticks(np.arange(k)+1/k, labels)\n",
    "    plt.yticks(np.arange(k)+1/k, labels)\n",
    "    plt.show()\n",
    "    \n",
    "def dummy_classifier (xtrain, xtest, ytrain, strats):\n",
    "    dumMF = DummyClassifier(strategy=strats)\n",
    "    dumMF = dumMF.fit(xtrain, ytrain)\n",
    "    y_pred = dumMF.predict(xtest)\n",
    "    print('The accuracy score: ', metrics.accuracy_score(y_test, y_pred))\n",
    "    print(confusion_matrix(y_test, y_pred))\n",
    "    confusion_matrix_plot(y_test, y_pred)\n",
    "\n",
    "\n",
    "print(\"Dummy classsifier - Most Frequent\")\n",
    "dummy_classifier(x_train, x_test, y_train, 'most_frequent')\n",
    "\n",
    "print(\"Dummy classsifier - Uniform\")\n",
    "dummy_classifier(x_train, x_test, y_train, 'uniform')\n",
    "\n",
    "print(\"Dummy classsifier - Stratified\")\n",
    "dummy_classifier(x_train, x_test, y_train, 'stratified')\n",
    "\n",
    "print(\"Dummy classsifier - Prior\")\n",
    "dummy_classifier(x_train, x_test, y_train, 'prior')\n"
   ]
  },
  {
   "cell_type": "markdown",
   "metadata": {},
   "source": [
    "**<span style ='background:yellow'>\\<explain all the results. What do the numbers mean?></span>**\n",
    "\n",
    "\n",
    "<span style ='background:blue'>\n",
    "The number represents how each model of the different model of classifiers performs, which shows how accurate the classifiers are and below the accuracy score is the confusion matrix to display the performance of the classifiers and summarize the performance.\n",
    "Since there will be a lot of confusion matrix, its better to explain what it means.\n",
    "In this assignment, we are trying to predict the possibility of rain the next day (RainTomorrow) based on the Rainfall amount and if it RainToday.\n",
    "\n",
    "The matrix will be read this way:\n",
    "* Top left (True Positive): This show how many times it was predicted that it will definitely not rain tomorrow.\n",
    "* Top right (False Positive): This show how many times it was predicted that it will not rain tomorrow but it will actually rain.\n",
    "* Bottom left (True Negative): This show how many times it was predicted that it will rain tomorrow but not really.\n",
    "* Bottom right (False Negative): This show how many times predicted that it will definitely rain tomorrow.\n",
    "\n",
    "Looking at the results, 'Most frequent' & 'Prior' classifier model have performed the best scoring identical percentage of 78.8%.\n",
    "</span>"
   ]
  },
  {
   "cell_type": "markdown",
   "metadata": {},
   "source": [
    "So, those are our 'baseline'. A model should be able to at least outperform these.\n",
    "\n",
    "Lets dive in..."
   ]
  },
  {
   "cell_type": "markdown",
   "metadata": {},
   "source": [
    "## 2.1. Naive Bayes\n",
    "\n",
    "The first model discussed was the Naive Bayes model. "
   ]
  },
  {
   "cell_type": "markdown",
   "metadata": {},
   "source": [
    "**<span style ='background:yellow'>\\<explain briefly in your own words how a Naive Bayes method works></span>**\n",
    "\n",
    "<span style ='background:blue'>\n",
    "Naive Bayes is a algorithm that is used for classification, applying the Bayes theorem assuming that variables are independent of each other.\n",
    "Calculating probability:\n",
    "\n",
    "\\begin{equation*}\n",
    "P(A|B) = \\frac{P(B|A)\\times P(A)}{P(B)}\n",
    "\\end{equation*}\n",
    "\n",
    "Using equation, we can find the probability of A based on the probability of B.\n",
    "</span>"
   ]
  },
  {
   "cell_type": "markdown",
   "metadata": {},
   "source": [
    "Lets create and fit this model:"
   ]
  },
  {
   "cell_type": "code",
   "execution_count": 113,
   "metadata": {},
   "outputs": [],
   "source": [
    "# code to create the model, and fit the data.\n",
    "from sklearn.naive_bayes import CategoricalNB\n",
    "\n",
    "catNB = CategoricalNB()\n",
    "catNB.fit(x_train, y_train)\n",
    "prediction1 = catNB.predict(x_test)"
   ]
  },
  {
   "cell_type": "markdown",
   "metadata": {},
   "source": [
    "Now to measure its performance:"
   ]
  },
  {
   "cell_type": "code",
   "execution_count": 114,
   "metadata": {},
   "outputs": [
    {
     "name": "stdout",
     "output_type": "stream",
     "text": [
      "0.7651542006380716\n",
      "[[7520 1377]\n",
      " [1273 1114]]\n"
     ]
    },
    {
     "data": {
      "image/png": "[encoded data removed]",
      "text/plain": [
       "<Figure size 432x288 with 2 Axes>"
      ]
     },
     "metadata": {
      "needs_background": "light"
     },
     "output_type": "display_data"
    }
   ],
   "source": [
    "# code to show its accuracy score AND confusion matrix.\n",
    "print(catNB.score(x_test, y_test))\n",
    "print(confusion_matrix(y_test, prediction1))\n",
    "confusion_matrix_plot(y_test, prediction1)"
   ]
  },
  {
   "cell_type": "markdown",
   "metadata": {},
   "source": [
    "**<span style ='background:yellow'>\\<explain all the results. What do the numbers mean? How is this compared to the dummy classifiers?></span>**\n",
    "\n",
    "\n",
    "<span style ='background:blue'>\n",
    "The accuracy score with Naive Bayes model is 0.765, which is lower than Most Frequent and Prior model classifier but higher than Uniform and Stratified models. \n",
    "Both Most Frequent and Prior scores is 0.788.\n",
    "Looking at the confusion matrix\n",
    "The top left value of 7520, indicates that Naive Bayes model predicted that it will not rain tomorrow.\n",
    "The bottom right value of 1114, show how many times that will will rain the next day.\n",
    "Comparing this to one of the higher dummy classifier, the Most Frequent has the top left value of 8897 which is more than the Naive Bayes model.\n",
    "\n",
    "</span>\n",
    "\n"
   ]
  },
  {
   "cell_type": "markdown",
   "metadata": {},
   "source": [
    "Lets also have a look at what a prediction would be. If the **<span style ='background:blue'> Rainfall <your first x variable><span>** has a score of **<span style ='background:blue'>9.2<enter some value></span>** and the **<span style ='background:blue'>RainToday<your other x variable></span>** has a score of **<span style ='background:blue'>1<enter some value></span>**, then this model will predict:"
   ]
  },
  {
   "cell_type": "code",
   "execution_count": 115,
   "metadata": {},
   "outputs": [
    {
     "name": "stdout",
     "output_type": "stream",
     "text": [
      "[1]\n"
     ]
    }
   ],
   "source": [
    "# code to show the prediction\n",
    "# 2009-03-02,Cobar,20,31.1,0,10.4,3,SE,30,E,NW,7,6,31,31,1013.4,1012.7,7,6,23.1,29.3,No,No\n",
    "# 2009-03-13,Cobar,18.5,29.6,9.2,7.6,6,NE,39,ENE,NE,13,6,86,43,1016.1,1013.3,5,6,20,28.8,Yes,Yes\n",
    "# rainfall = 9.2\n",
    "# raintoday = yes\n",
    "# rain tomorrow = yes\n",
    "\n",
    "# lets create a new dataframe for this specific prediction\n",
    "predict_test = pd.DataFrame(columns=[\"Rainfall\", \"RainToday\", \"RainTomorrow\"]) \n",
    "predict_test.loc[0] = [9.2, 1,1]\n",
    "\n",
    "\n",
    "predictions = predict_test[[\"Rainfall\", \"RainToday\"]]\n",
    "print(catNB.predict(predictions))"
   ]
  },
  {
   "cell_type": "markdown",
   "metadata": {},
   "source": [
    "\n",
    "<span style ='background:blue'> \n",
    "The result meaning: 1 means yes and 0 means no.\n",
    "Which make sense as rainfall value of 9.2mm exceeded 1mm value which is minumum amount of precipitation in order to rain.\n",
    "</span>\n"
   ]
  },
  {
   "cell_type": "markdown",
   "metadata": {},
   "source": [
    "That's about it for NB. A nice thing about NB is that it doesn't really require any parameters. Lets look at our next technique."
   ]
  },
  {
   "cell_type": "markdown",
   "metadata": {},
   "source": [
    "## 2.2. Support Vector Machines\n",
    "The second model discussed were Support Vector Machines. There is a plural here, because we can use different kernels."
   ]
  },
  {
   "cell_type": "markdown",
   "metadata": {},
   "source": [
    "**<span style ='background:yellow'>\\<explain briefly in your own words how a SVM method works></span>**\n",
    "\n",
    "<span style ='background:blue'>\n",
    "Support Vector Machines model predicts the dependent variable.\n",
    "The SVM algorithm plots each of the data in an x-y axis and then performs classification by placing a line between cluster of poinst to differentiates the two possible gorup of classes. which can be then used to compare to predict the dependent variables using the groups.\n",
    "\n",
    "</span>\n"
   ]
  },
  {
   "cell_type": "markdown",
   "metadata": {},
   "source": [
    "The basic kernel is the linear one, so we'll attempt that first:"
   ]
  },
  {
   "cell_type": "code",
   "execution_count": 116,
   "metadata": {},
   "outputs": [],
   "source": [
    "# code to create the model, and fit the data.\n",
    "from sklearn.svm import SVC\n",
    "\n",
    "svmLin = SVC(kernel = 'linear')\n",
    "svmLin.fit(x_train, y_train)\n",
    "y_pred = svmLin.predict(x_test)\n"
   ]
  },
  {
   "cell_type": "markdown",
   "metadata": {},
   "source": [
    "Measuring its performance...."
   ]
  },
  {
   "cell_type": "code",
   "execution_count": 117,
   "metadata": {},
   "outputs": [
    {
     "name": "stdout",
     "output_type": "stream",
     "text": [
      "0.7955512229705778\n",
      "[[8795  102]\n",
      " [2205  182]]\n"
     ]
    },
    {
     "data": {
      "image/png": "[encoded data removed]",
      "text/plain": [
       "<Figure size 432x288 with 2 Axes>"
      ]
     },
     "metadata": {
      "needs_background": "light"
     },
     "output_type": "display_data"
    }
   ],
   "source": [
    "# code to show its accuracy score AND confusion matrix.\n",
    "print(metrics.accuracy_score(y_test, y_pred))\n",
    "print(confusion_matrix(y_test, y_pred))\n",
    "confusion_matrix_plot(y_test, y_pred)\n"
   ]
  },
  {
   "cell_type": "markdown",
   "metadata": {},
   "source": [
    "**<span style ='background:yellow'>\\<explain all the results. What do the numbers mean? How is this compared to the dummy classifiers, and the NB?></span>**\n",
    "\n",
    "<span style ='background:blue'>\n",
    "The SVM model has produce the accuracy of 79% which is higher than the other models, Naive Bayes (76.5%) and Dummy Classifiers(Most frequent & Prior) (78.8%).\n",
    "Comparing the confusion matrix:\n",
    "it seems like SVM have 8795 times predicted that it will not rain tomorrow, which is less than the Dummy Classifier(Most frequent) - 8897 times and more than Naive Bayes - 7520 times.\n",
    "\n",
    "</span>\n",
    "\n",
    "\n"
   ]
  },
  {
   "cell_type": "markdown",
   "metadata": {},
   "source": [
    "Lets do the same for the other kernels that were discussed, i.e. rbf, polynomial, and sigmoid."
   ]
  },
  {
   "cell_type": "code",
   "execution_count": 118,
   "metadata": {},
   "outputs": [],
   "source": [
    "# code to create the models, fit the data, and show its accuracy score AND confusion matrix.\n",
    "# make sure to print some text between to indicate which result belongs to which model.\n",
    "\n",
    "#method to create model of support vector machine and show result\n",
    "def SVM_kernel (xtrain, ytrain, xtest, ytest, kernel_type):\n",
    "    svm = SVC(kernel = kernel_type)\n",
    "    svm.fit(xtrain,ytrain)\n",
    "    y_pred = svm.predict(xtest)\n",
    "    print(metrics.accuracy_score(ytest, y_pred))\n",
    "    print(confusion_matrix(ytest, y_pred))\n",
    "    confusion_matrix_plot(y_test, y_pred)\n",
    "    "
   ]
  },
  {
   "cell_type": "code",
   "execution_count": 119,
   "metadata": {},
   "outputs": [
    {
     "name": "stdout",
     "output_type": "stream",
     "text": [
      " SVM - RBF \n",
      "0.7994505494505495\n",
      "[[8564  333]\n",
      " [1930  457]]\n"
     ]
    },
    {
     "data": {
      "image/png": "[encoded data removed]",
      "text/plain": [
       "<Figure size 432x288 with 2 Axes>"
      ]
     },
     "metadata": {
      "needs_background": "light"
     },
     "output_type": "display_data"
    }
   ],
   "source": [
    "print(' SVM - RBF ')\n",
    "SVM_kernel(x_train, y_train, x_test, y_test, 'rbf')"
   ]
  },
  {
   "cell_type": "code",
   "execution_count": 120,
   "metadata": {},
   "outputs": [
    {
     "name": "stdout",
     "output_type": "stream",
     "text": [
      " SVM - Sigmoid \n",
      "0.7204891882311237\n",
      "[[7267 1630]\n",
      " [1524  863]]\n"
     ]
    },
    {
     "data": {
      "image/png": "[encoded data removed]",
      "text/plain": [
       "<Figure size 432x288 with 2 Axes>"
      ]
     },
     "metadata": {
      "needs_background": "light"
     },
     "output_type": "display_data"
    }
   ],
   "source": [
    "print(' SVM - Sigmoid ')\n",
    "SVM_kernel(x_train, y_train, x_test, y_test, 'sigmoid')\n"
   ]
  },
  {
   "cell_type": "code",
   "execution_count": 122,
   "metadata": {},
   "outputs": [],
   "source": [
    "# print(' SVM - Polynomial ')\n",
    "# SVM_kernel(x_train, y_train, x_test, y_test, 'poly')\n",
    "\n",
    "#this SVM method took so long to give result, i ran it over night but it was not succesful\n",
    "#i ran it on google collab and got this results\n",
    "# 0.77717391304343783   - 0.7853260869565217\n",
    "# [[271  1]   - [[275  3]\n",
    "#  [ 81 15]]  - [76  14]]"
   ]
  },
  {
   "cell_type": "markdown",
   "metadata": {},
   "source": [
    "**<span style ='background:yellow'>\\<explain all the results. What do the numbers mean? How is this compared to the dummy classifiers?></span>**\n",
    "\n",
    "\n",
    "<span style ='background:blue'>\n",
    "\n",
    "* Linear: 0.795\n",
    "* RBF: 0.799\n",
    "* Sigmoid: 0.720\n",
    "* Polynomial: 0.777\n",
    "\n",
    "RBF and Linear have performed well compare to the rest of the SVM models, but being more precise RBF has a slight edge over Linear which makes it the best among the rest.\n",
    "Comparing the best model of SVM and Dummy classifier, RBF has a better accuracy score than Most frequent (0.788).\n",
    "\n",
    "The confusion matrix has shown that RBF have the 1930 False negative result which is better than 2387 times from the Most frequent Dummy classifier\n",
    "</span>"
   ]
  },
  {
   "cell_type": "markdown",
   "metadata": {},
   "source": [
    "Allright, lets move on to the third technique..."
   ]
  },
  {
   "cell_type": "markdown",
   "metadata": {},
   "source": [
    "## 2.3. K-Nearest Neighbors\n",
    "The third technique is the K-Nearest Neighbors (KNN). "
   ]
  },
  {
   "cell_type": "markdown",
   "metadata": {},
   "source": [
    "**<span style ='background:yellow'>\\<explain briefly in your own words how a KNN method works></span>**\n",
    "\n",
    "\n",
    "<span style ='background:blue'>\n",
    "KNN tries to predict the correct class for the variables by calculaing the mean distance between the data points. The Selected K number of points is the closest to the test data. The algorithm calculates the possibility of test data being part of that class of the selected point('K').\n",
    "\n",
    "</span>\n"
   ]
  },
  {
   "cell_type": "markdown",
   "metadata": {},
   "source": [
    "To use this we need to do some additional steps.\n",
    "\n",
    "First we need to normalize our x variables:"
   ]
  },
  {
   "cell_type": "code",
   "execution_count": 123,
   "metadata": {},
   "outputs": [],
   "source": [
    "# use the StandardScaler to normalize the two x variables\n",
    "from sklearn.preprocessing import StandardScaler\n",
    "\n",
    "#set the scalar\n",
    "scaler = StandardScaler()\n",
    "scaler.fit(x_train)\n",
    "\n",
    "# Convert the train and test X values, using the same scaler (so based on the X_train)\n",
    "X_trainScaled = scaler.transform(x_train)\n",
    "X_testScaled = scaler.transform(x_test)"
   ]
  },
  {
   "cell_type": "markdown",
   "metadata": {},
   "source": [
    "Second we need to determine how many neighbors (k) we want. To do this we'll visualize the results using different values for k."
   ]
  },
  {
   "cell_type": "code",
   "execution_count": 124,
   "metadata": {},
   "outputs": [],
   "source": [
    "# Code to create the graph with Error Rate vs. K-values.\n",
    "from sklearn.neighbors import KNeighborsClassifier\n",
    "error_rate=[]\n",
    "for i in range(1,80):\n",
    "    knn = KNeighborsClassifier(n_neighbors=i)\n",
    "    knn.fit(X_trainScaled, y_train)\n",
    "    pred_i = knn.predict(X_testScaled)\n",
    "    error_rate.append(np.mean(pred_i != y_test))\n",
    "    "
   ]
  },
  {
   "cell_type": "code",
   "execution_count": 125,
   "metadata": {},
   "outputs": [
    {
     "data": {
      "text/plain": [
       "Text(0, 0.5, 'Error Rate')"
      ]
     },
     "execution_count": 125,
     "metadata": {},
     "output_type": "execute_result"
    },
    {
     "data": {
      "image/png": "[encoded data removed]",
      "text/plain": [
       "<Figure size 720x720 with 1 Axes>"
      ]
     },
     "metadata": {
      "needs_background": "light"
     },
     "output_type": "display_data"
    }
   ],
   "source": [
    "#The visualisation\n",
    "plt.figure(figsize=(10,10))\n",
    "plt.plot(range(1,80),error_rate,color='blue', linestyle='dashed', marker='o',\n",
    "         markerfacecolor='red', markersize=10)\n",
    "plt.title('Error Rate vs. K Value')\n",
    "plt.xlabel('K')\n",
    "plt.ylabel('Error Rate')"
   ]
  },
  {
   "cell_type": "markdown",
   "metadata": {},
   "source": [
    "**<span style ='background:yellow'>\\<explain the result and your choice for k based on the graph></span>**\n",
    "\n",
    "<span style ='background:blue'>\n",
    "The graph shows the performance of KNN within the range of 1 to 80. Looking at the graph, the lowest error rate value is at k = 73 which makes it the best k-value as after that there is no more lower value that that.\n",
    "\n",
    "</span>"
   ]
  },
  {
   "cell_type": "markdown",
   "metadata": {},
   "source": [
    "\n",
    "*Note:* +0.5 if you also use the GridSearch technique to decide on k."
   ]
  },
  {
   "cell_type": "code",
   "execution_count": 126,
   "metadata": {},
   "outputs": [],
   "source": [
    "# from sklearn.model_selection import GridSearchCV\n",
    "\n",
    "# # List Hyperparameters that we want to tune.\n",
    "# leaf_size = list(range(1,50))\n",
    "# n_neighbors = list(range(1,30))\n",
    "# p=[1,2]\n",
    "\n",
    "# #Convert to dictionary\n",
    "# hyperparameters = dict(leaf_size=leaf_size, n_neighbors=n_neighbors, p=p)\n",
    "\n",
    "# #Create new KNN object\n",
    "# knn_2 = KNeighborsClassifier()\n",
    "\n",
    "# #Use GridSearch\n",
    "# clf = GridSearchCV(knn_2, hyperparameters, cv=10)\n",
    "\n",
    "# #Fit the model\n",
    "# best_model = clf.fit(X_trainScaled, y_train)\n",
    "\n",
    "# #Print The value of best Hyperparameters\n",
    "# print('Best leaf_size:', best_model.best_estimator_.get_params()['leaf_size'])\n",
    "# print('Best p:', best_model.best_estimator_.get_params()['p'])\n",
    "# print('Best n_neighbors:', best_model.best_estimator_.get_params()['n_neighbors'])\n",
    "\n",
    "\n",
    "# I ran this code and took a long time, therefore i will just show the result here again.\n",
    "\n",
    "# Best leaf_size : 2\n",
    "# Best p: 1\n",
    "# Best n_neighbors: 21\n"
   ]
  },
  {
   "cell_type": "markdown",
   "metadata": {},
   "source": [
    "The GridSearch Technique took sometime to give results and didn't work with my personal laptop and i had to use google collab, i had to run it all night. So, to make it easier, I commented out the code and give the result here\n",
    "* Best leaf_size : 2\n",
    "* Best p: 1\n",
    "* Best n_neighbors: 21\n"
   ]
  },
  {
   "cell_type": "markdown",
   "metadata": {},
   "source": [
    "Now that we know what we want k to be, we can create the model."
   ]
  },
  {
   "cell_type": "code",
   "execution_count": 127,
   "metadata": {},
   "outputs": [
    {
     "name": "stdout",
     "output_type": "stream",
     "text": [
      "using Grid Search\n",
      "accuracy score:  0.7978553704360156\n",
      "[[8555  342]\n",
      " [1939  448]]\n"
     ]
    },
    {
     "data": {
      "image/png": "[encoded data removed]",
      "text/plain": [
       "<Figure size 432x288 with 2 Axes>"
      ]
     },
     "metadata": {
      "needs_background": "light"
     },
     "output_type": "display_data"
    },
    {
     "name": "stdout",
     "output_type": "stream",
     "text": [
      "None\n"
     ]
    }
   ],
   "source": [
    "# code to create the model with the selected k\n",
    "knnOptimal = KNeighborsClassifier(n_neighbors=21, leaf_size=2, p=1)\n",
    "y_pred_optimal = knn.predict(X_testScaled)\n",
    "print('using Grid Search')\n",
    "print('accuracy score: ', metrics.accuracy_score(y_test, y_pred_optimal))\n",
    "print(confusion_matrix(y_test, y_pred_optimal))\n",
    "print(confusion_matrix_plot(y_test, y_pred_optimal))\n"
   ]
  },
  {
   "cell_type": "code",
   "execution_count": 128,
   "metadata": {},
   "outputs": [
    {
     "name": "stdout",
     "output_type": "stream",
     "text": [
      "0.7980326125487416\n"
     ]
    }
   ],
   "source": [
    "# code to create the model with the selected k\n",
    "knn = KNeighborsClassifier(n_neighbors=73)\n",
    "knn.fit(X_trainScaled, y_train)\n",
    "y_pred=knn.predict(X_testScaled)\n",
    "print(metrics.accuracy_score(y_test, y_pred))"
   ]
  },
  {
   "cell_type": "markdown",
   "metadata": {},
   "source": [
    "Lets find out how good it is:"
   ]
  },
  {
   "cell_type": "code",
   "execution_count": 129,
   "metadata": {},
   "outputs": [
    {
     "name": "stdout",
     "output_type": "stream",
     "text": [
      "k value from looking at the graph which was k=73\n",
      "accuracy score:  0.7980326125487416\n",
      "[[8554  343]\n",
      " [1936  451]]\n"
     ]
    },
    {
     "data": {
      "image/png": "[encoded data removed]",
      "text/plain": [
       "<Figure size 432x288 with 2 Axes>"
      ]
     },
     "metadata": {
      "needs_background": "light"
     },
     "output_type": "display_data"
    }
   ],
   "source": [
    "# code to show its accuracy score AND confusion matrix.\n",
    "print('k value from looking at the graph which was k=73')\n",
    "print('accuracy score: ', metrics.accuracy_score(y_test, y_pred))\n",
    "print(confusion_matrix(y_test, y_pred))\n",
    "confusion_matrix_plot(y_test, y_pred)\n"
   ]
  },
  {
   "cell_type": "markdown",
   "metadata": {},
   "source": [
    "**<span style ='background:yellow'>\\<explain all the results. What do the numbers mean? How is this compared to the dummy classifiers, the NB, and the SVM kernels?></span>**\n",
    "\n",
    "\n",
    "<span style ='background:blue'>\n",
    "The KNN accuracy is 79.8%. The KNN accuracy is higher than all the dummy classifier models and Naive Bayes, although this accuracy is pretty close to SVM - RBF accuracy of 79.9% with a difference of 0.1% but if rounded up to 80% i would say they are on par of each other.\n",
    "Comparing the confusion matrix between KNN and SVM - RBF, they almost have the same confusion matrix with a little difference. The KNN predicted no rain tomorrow 1936 times while RBF predicted no rain for tomorrow 1273 times.\n",
    "</span>"
   ]
  },
  {
   "cell_type": "markdown",
   "metadata": {},
   "source": [
    "One more basic technique to go."
   ]
  },
  {
   "cell_type": "markdown",
   "metadata": {},
   "source": [
    "## 2.4. Decision Trees\n",
    "The last technique that was discussed in detail, were the Decision Trees. "
   ]
  },
  {
   "cell_type": "markdown",
   "metadata": {},
   "source": [
    "**<span style ='background:yellow'>\\<explain briefly in your own words how a Decision Tree method works></span>**\n",
    "\n",
    "<span style ='background:blue'>\n",
    "Decision tree method predicts the dependent variable by using separated data points from the training data sets. The model then uses this data to make a series of different decision based on the coordinates of the data points which then can be used to predict the data points.\n",
    "</span>\n"
   ]
  },
  {
   "cell_type": "markdown",
   "metadata": {},
   "source": [
    "The following variations were discussed:\n",
    "\n",
    "* ID3 (or entropy with sklearn)\n",
    "* Gini\n",
    "* Random Forest\n",
    "* Extra trees\n",
    "\n",
    "Hopefully we have the hang of this now, so lets do each of them in one go:"
   ]
  },
  {
   "cell_type": "code",
   "execution_count": 86,
   "metadata": {},
   "outputs": [],
   "source": [
    "# code to create the models, fit the data, and show its accuracy score AND confusion matrix.\n",
    "# make sure to print some text between to indicate which result belongs to which model.\n",
    "from sklearn.tree import DecisionTreeClassifier\n",
    "from sklearn.ensemble import RandomForestClassifier\n",
    "from sklearn.ensemble import ExtraTreesClassifier"
   ]
  },
  {
   "cell_type": "code",
   "execution_count": 87,
   "metadata": {},
   "outputs": [
    {
     "name": "stdout",
     "output_type": "stream",
     "text": [
      "Decision Tree - ID3/Entropy\n",
      "0.794044665012407\n",
      "[[8614  283]\n",
      " [2041  346]]\n"
     ]
    }
   ],
   "source": [
    "print('Decision Tree - ID3/Entropy')\n",
    "ent_dtc = DecisionTreeClassifier(criterion = \"entropy\")\n",
    "ent_dtc.fit(X_trainScaled,y_train)\n",
    "y_pred = ent_dtc.predict(X_testScaled)\n",
    "print(metrics.accuracy_score(y_test, y_pred))\n",
    "print(confusion_matrix(y_test, y_pred))"
   ]
  },
  {
   "cell_type": "code",
   "execution_count": 88,
   "metadata": {},
   "outputs": [
    {
     "name": "stdout",
     "output_type": "stream",
     "text": [
      "Decision Tree - Gini\n",
      "0.794044665012407\n",
      "[[8614  283]\n",
      " [2041  346]]\n"
     ]
    }
   ],
   "source": [
    "print('Decision Tree - Gini')\n",
    "gini_dtc = DecisionTreeClassifier(criterion = \"gini\")\n",
    "gini_dtc.fit(X_trainScaled,y_train)\n",
    "y_pred = gini_dtc.predict(X_testScaled)\n",
    "print(metrics.accuracy_score(y_test, y_pred))\n",
    "print(confusion_matrix(y_test, y_pred))"
   ]
  },
  {
   "cell_type": "code",
   "execution_count": 89,
   "metadata": {},
   "outputs": [
    {
     "name": "stdout",
     "output_type": "stream",
     "text": [
      "Random Forest\n",
      "0.7950194966323999\n",
      "[[8577  320]\n",
      " [1993  394]]\n"
     ]
    }
   ],
   "source": [
    "print('Random Forest')\n",
    "rfc = RandomForestClassifier(random_state=0)\n",
    "rfcModel = rfc.fit(X_trainScaled, y_train)\n",
    "y_pred = rfcModel.predict(X_testScaled)\n",
    "print(metrics.accuracy_score(y_test, y_pred))\n",
    "print(confusion_matrix(y_test, y_pred))\n"
   ]
  },
  {
   "cell_type": "code",
   "execution_count": 90,
   "metadata": {},
   "outputs": [
    {
     "name": "stdout",
     "output_type": "stream",
     "text": [
      "Extra Trees\n",
      "0.794044665012407\n",
      "[[8614  283]\n",
      " [2041  346]]\n"
     ]
    }
   ],
   "source": [
    "print('Extra Trees')\n",
    "# Extremly Random Forest (a.k.a. Extra trees)\n",
    "erfc = ExtraTreesClassifier(random_state=0)\n",
    "erfc = erfc.fit(X_trainScaled, y_train)\n",
    "y_pred = erfc.predict(X_testScaled)\n",
    "print(metrics.accuracy_score(y_test, y_pred))\n",
    "print(confusion_matrix(y_test, y_pred))"
   ]
  },
  {
   "cell_type": "markdown",
   "metadata": {},
   "source": [
    "**<span style ='background:yellow'>\\<explain all the results. What do the numbers mean? How is this compared to the dummy classifiers, the NB, the SVM kernels, and the knn?></span>**\n",
    "\n",
    "\n",
    "\n",
    "<span style ='background:blue'>\n",
    "The accuracy of all the Decision tree classifiers are all close to each other, ID3, Gini & Extra trees have the accuracy of 79.4% while Random forest has 79.5% making it the best out of the four classifiers.\n",
    "Comparing to the other models, it performed quite well better than the dummy classifiers, Naïve bayes but on par as SVM-RBF and KNN when it comes to their accuracy.\n",
    "The confusion matrix of random forest has shown almost similar case as KNN and SVM -RBF where it predicted that it’s not going to rain tomorrow 1993 times where it is close to number of times for the other models KNN(1936 times) & SVM-RBF(1930x).\n",
    "\n",
    "</span>"
   ]
  },
  {
   "cell_type": "markdown",
   "metadata": {},
   "source": [
    "One last set of techniques to explore."
   ]
  },
  {
   "cell_type": "markdown",
   "metadata": {},
   "source": [
    "## 2.5. Other Models\n",
    "In the Jupyter Notebook from the lecture, in chapter 5.4 a few more techniques were simply shown:\n",
    "\n",
    "* Linear Discriminant Analysis\n",
    "* Quadratic Discriminant Analysis\n",
    "* Logistic Regression Classifier\n",
    "* Multinomial Logistic Regression Classification\n",
    "* Adaptive Boosting\n",
    "* Gradient Boosting\n",
    "* Histogram Gradient Boosting\n",
    "* XGBoost\n",
    "* Stacking\n",
    "\n",
    "Out of curiousity lets see how these perform."
   ]
  },
  {
   "cell_type": "code",
   "execution_count": 91,
   "metadata": {},
   "outputs": [
    {
     "name": "stdout",
     "output_type": "stream",
     "text": [
      "Linear Discriminant Analysis\n",
      "0.7981212336051046\n",
      "[[8454  443]\n",
      " [1835  552]]\n"
     ]
    }
   ],
   "source": [
    "# code to create the models, fit the data, and show its accuracy score (the confusion matrix is here optional).\n",
    "# make sure to print some text between to indicate which result belongs to which model.\n",
    "from sklearn.discriminant_analysis import LinearDiscriminantAnalysis\n",
    "\n",
    "print('Linear Discriminant Analysis')\n",
    "lda = LinearDiscriminantAnalysis()\n",
    "ldaModel=lda.fit(X_trainScaled, y_train)\n",
    "y_pred=ldaModel.predict(X_testScaled)\n",
    "print(metrics.accuracy_score(y_test, y_pred))\n",
    "print(confusion_matrix(y_test, y_pred))\n"
   ]
  },
  {
   "cell_type": "code",
   "execution_count": 92,
   "metadata": {},
   "outputs": [
    {
     "name": "stdout",
     "output_type": "stream",
     "text": [
      "Quadratic Discriminant Analysis\n",
      "0.7981212336051046\n",
      "[[8454  443]\n",
      " [1835  552]]\n"
     ]
    }
   ],
   "source": [
    "\n",
    "from sklearn.discriminant_analysis import QuadraticDiscriminantAnalysis\n",
    "\n",
    "print('Quadratic Discriminant Analysis')\n",
    "qda = QuadraticDiscriminantAnalysis()\n",
    "qdaModel=qda.fit(X_trainScaled, y_train)\n",
    "y_pred=ldaModel.predict(X_testScaled)\n",
    "print(metrics.accuracy_score(y_test, y_pred))\n",
    "print(confusion_matrix(y_test, y_pred))\n"
   ]
  },
  {
   "cell_type": "code",
   "execution_count": 93,
   "metadata": {},
   "outputs": [
    {
     "name": "stdout",
     "output_type": "stream",
     "text": [
      "Logistic Regression Classifier\n",
      "0.7976781283232897\n",
      "[[8696  201]\n",
      " [2082  305]]\n"
     ]
    }
   ],
   "source": [
    "\n",
    "from sklearn.linear_model import LogisticRegression\n",
    "\n",
    "print('Logistic Regression Classifier')\n",
    "logreg = LogisticRegression()\n",
    "lrModel = logreg.fit(X_trainScaled, y_train)\n",
    "y_pred = lrModel.predict(X_testScaled)\n",
    "print(metrics.accuracy_score(y_test, y_pred))\n",
    "print(confusion_matrix(y_test, y_pred))\n"
   ]
  },
  {
   "cell_type": "code",
   "execution_count": 94,
   "metadata": {},
   "outputs": [
    {
     "name": "stdout",
     "output_type": "stream",
     "text": [
      "Multinomial Logistic Regression Classification\n",
      "0.7976781283232897\n",
      "[[8696  201]\n",
      " [2082  305]]\n"
     ]
    }
   ],
   "source": [
    "\n",
    "from sklearn.linear_model import LogisticRegression\n",
    "\n",
    "print('Multinomial Logistic Regression Classification')\n",
    "logreg = LogisticRegression(multi_class='multinomial')\n",
    "lrModel = logreg.fit(X_trainScaled, y_train)\n",
    "y_pred = lrModel.predict(X_testScaled)\n",
    "print(metrics.accuracy_score(y_test, y_pred))\n",
    "print(confusion_matrix(y_test, y_pred))\n"
   ]
  },
  {
   "cell_type": "code",
   "execution_count": 95,
   "metadata": {},
   "outputs": [
    {
     "name": "stdout",
     "output_type": "stream",
     "text": [
      "Adaptive Boosting\n",
      "0.7995391705069125\n",
      "[[8564  333]\n",
      " [1929  458]]\n"
     ]
    }
   ],
   "source": [
    "\n",
    "from sklearn.ensemble import AdaBoostClassifier\n",
    "\n",
    "print('Adaptive Boosting')\n",
    "adaBst = AdaBoostClassifier(random_state=0)\n",
    "adaBst = adaBst.fit(X_trainScaled, y_train)\n",
    "y_pred = adaBst.predict(X_testScaled)\n",
    "print(metrics.accuracy_score(y_test, y_pred))\n",
    "print(confusion_matrix(y_test, y_pred))\n"
   ]
  },
  {
   "cell_type": "code",
   "execution_count": 96,
   "metadata": {},
   "outputs": [
    {
     "name": "stdout",
     "output_type": "stream",
     "text": [
      "Gradient Boosting\n",
      "0.7998050336760014\n",
      "[[8560  337]\n",
      " [1922  465]]\n"
     ]
    }
   ],
   "source": [
    "\n",
    "from sklearn.ensemble import GradientBoostingClassifier\n",
    "\n",
    "print('Gradient Boosting')\n",
    "gradBst = GradientBoostingClassifier(random_state=0)\n",
    "gradBst = gradBst.fit(X_trainScaled, y_train)\n",
    "y_pred = gradBst.predict(X_testScaled)\n",
    "print(metrics.accuracy_score(y_test, y_pred))\n",
    "print(confusion_matrix(y_test, y_pred))\n"
   ]
  },
  {
   "cell_type": "code",
   "execution_count": 97,
   "metadata": {},
   "outputs": [
    {
     "name": "stdout",
     "output_type": "stream",
     "text": [
      "Histogram Gradient Boosting\n",
      "0.7990960652250975\n",
      "[[8537  360]\n",
      " [1907  480]]\n"
     ]
    }
   ],
   "source": [
    "\n",
    "from sklearn.ensemble import HistGradientBoostingClassifier\n",
    "\n",
    "print('Histogram Gradient Boosting')\n",
    "histBst = HistGradientBoostingClassifier(random_state=0)\n",
    "histBst = histBst.fit(X_trainScaled, y_train)\n",
    "y_pred = histBst.predict(X_testScaled)\n",
    "print(metrics.accuracy_score(y_test, y_pred))\n",
    "print(confusion_matrix(y_test, y_pred))"
   ]
  },
  {
   "cell_type": "code",
   "execution_count": 98,
   "metadata": {},
   "outputs": [
    {
     "name": "stdout",
     "output_type": "stream",
     "text": [
      "Stacking\n"
     ]
    },
    {
     "name": "stderr",
     "output_type": "stream",
     "text": [
      "c:\\Users\\steph\\anaconda3\\lib\\site-packages\\sklearn\\svm\\_base.py:1206: ConvergenceWarning: Liblinear failed to converge, increase the number of iterations.\n",
      "  warnings.warn(\n",
      "c:\\Users\\steph\\anaconda3\\lib\\site-packages\\sklearn\\svm\\_base.py:1206: ConvergenceWarning: Liblinear failed to converge, increase the number of iterations.\n",
      "  warnings.warn(\n",
      "c:\\Users\\steph\\anaconda3\\lib\\site-packages\\sklearn\\svm\\_base.py:1206: ConvergenceWarning: Liblinear failed to converge, increase the number of iterations.\n",
      "  warnings.warn(\n",
      "c:\\Users\\steph\\anaconda3\\lib\\site-packages\\sklearn\\svm\\_base.py:1206: ConvergenceWarning: Liblinear failed to converge, increase the number of iterations.\n",
      "  warnings.warn(\n",
      "c:\\Users\\steph\\anaconda3\\lib\\site-packages\\sklearn\\svm\\_base.py:1206: ConvergenceWarning: Liblinear failed to converge, increase the number of iterations.\n",
      "  warnings.warn(\n"
     ]
    },
    {
     "name": "stdout",
     "output_type": "stream",
     "text": [
      "0.7975895072669266\n",
      "[[8616  281]\n",
      " [2003  384]]\n"
     ]
    },
    {
     "name": "stderr",
     "output_type": "stream",
     "text": [
      "c:\\Users\\steph\\anaconda3\\lib\\site-packages\\sklearn\\svm\\_base.py:1206: ConvergenceWarning: Liblinear failed to converge, increase the number of iterations.\n",
      "  warnings.warn(\n"
     ]
    }
   ],
   "source": [
    "from sklearn.ensemble import StackingClassifier\n",
    "from sklearn.pipeline import make_pipeline\n",
    "from sklearn.svm import LinearSVC\n",
    "\n",
    "estimators = [\n",
    "    ('rf', RandomForestClassifier(n_estimators=10, random_state=42)),\n",
    "    ('svr', make_pipeline(StandardScaler(),\n",
    "                          LinearSVC(random_state=42)))]\n",
    "\n",
    "print('Stacking')\n",
    "stackCl = StackingClassifier(estimators=estimators, final_estimator = LogisticRegression())\n",
    "stackCl.fit(X_trainScaled, y_train)\n",
    "y_pred = stackCl.predict(X_testScaled)\n",
    "print(metrics.accuracy_score(y_test, y_pred))\n",
    "print(confusion_matrix(y_test, y_pred))"
   ]
  },
  {
   "cell_type": "code",
   "execution_count": 99,
   "metadata": {},
   "outputs": [
    {
     "name": "stdout",
     "output_type": "stream",
     "text": [
      "Requirement already satisfied: xgboost in c:\\users\\steph\\anaconda3\\lib\\site-packages (1.6.1)\n",
      "Note: you may need to restart the kernel to use updated packages.\n",
      "XGboost already installed, only imported\n",
      "XGBoost\n"
     ]
    },
    {
     "name": "stderr",
     "output_type": "stream",
     "text": [
      "ERROR: Could not find a version that satisfies the requirement import (from versions: none)\n",
      "ERROR: No matching distribution found for import\n"
     ]
    },
    {
     "name": "stdout",
     "output_type": "stream",
     "text": [
      "0.7968805388160227\n",
      "[[8574  323]\n",
      " [1969  418]]\n"
     ]
    }
   ],
   "source": [
    "#xgboost\n",
    "%pip install xgboost import XGBClassifier\n",
    "\n",
    "try:\n",
    "    import xgboost as xg\n",
    "    print('XGboost already installed, only imported')\n",
    "except:\n",
    "    %pip install xgboost\n",
    "    import xgboost as xg\n",
    "    print('XGboost was not installed, installed and imported')\n",
    "\n",
    "from xgboost import XGBClassifier\n",
    "\n",
    "print(\"XGBoost\")\n",
    "xgb = XGBClassifier()\n",
    "xgb.fit(X_trainScaled, y_train)\n",
    "y_pred = xgb.predict(X_testScaled)\n",
    "\n",
    "print(metrics.accuracy_score(y_test, y_pred))\n",
    "print(confusion_matrix(y_test, y_pred))\n"
   ]
  },
  {
   "cell_type": "markdown",
   "metadata": {},
   "source": [
    "**<span style ='background:yellow'>\\<which performed best?></span>**\n",
    "\n",
    "<span style ='background:blue'>\n",
    "The result of the other models are really close, having a difference in the range of 1% to 3%. but looking at the decimals, Gradient boosting has the highest accuracy of 79.95% where we can round it up to 80%.\n",
    "</span>"
   ]
  },
  {
   "cell_type": "markdown",
   "metadata": {},
   "source": [
    "<font size=\"5\"><center>-----Chapters 1 and 2 are required to be fully completed to get a 60, the next few chapters will give a +10 for each chapter.<br> \n",
    "    However the template is not as extensive as the previous chapters. <br>\n",
    "    You can select any chapter below the order is not fixed (you can leave the others empty)<br>\n",
    "    You don't have to use the same dataset for the chapters below. If it helps in clarification you can use another dataset, but then make sure to include it as you submit.\n",
    "    ----</center></font>"
   ]
  },
  {
   "cell_type": "markdown",
   "metadata": {},
   "source": [
    "# 3. Visualisation\n",
    "\n",
    "With two input parameters we can actually determine visually where a model will classify a variable into which category. An overview of such plots is shown at https://scikit-learn.org/stable/auto_examples/classification/plot_classifier_comparison.html\n",
    "\n",
    "We cannot copy that code since it does a comparison. What we want is a function that takes the X and Y data as input, as well as the model to be used and then shows the decision areas."
   ]
  },
  {
   "cell_type": "code",
   "execution_count": 100,
   "metadata": {},
   "outputs": [],
   "source": [
    "# the code for the function\n"
   ]
  },
  {
   "cell_type": "code",
   "execution_count": 101,
   "metadata": {},
   "outputs": [],
   "source": [
    "# an example of using the function\n"
   ]
  },
  {
   "cell_type": "markdown",
   "metadata": {},
   "source": [
    "# 4. Categorical Input\n",
    "With classification we have a categorical output variable, but what if we also have one or more categorical input variables.\n",
    "\n",
    "One popular technique is one-hot-encoding, but there are others.\n",
    "\n",
    "In this chapter we'll discuss **<span style ='background:yellow'>\\<your chosen technique></span>**."
   ]
  },
  {
   "cell_type": "markdown",
   "metadata": {},
   "source": [
    "**<span style ='background:yellow'>\\<explain the technique in detail. What does it do and how does it work></span>**"
   ]
  },
  {
   "cell_type": "code",
   "execution_count": 102,
   "metadata": {},
   "outputs": [],
   "source": [
    "# example code of using this technique\n"
   ]
  },
  {
   "cell_type": "markdown",
   "metadata": {},
   "source": [
    "# 5. Performance\n",
    "Some models get higher accuracy scores than others. In the Jupyter Notebook from the lecture the UFC data was used and the QDA had the highest accuracy score: 0.6747. The big question is, can it be done better? First areas to look for improvement are to simply increase the number of input variables, or tweak some parameters of some of the models, or a combination of both.\n",
    "\n",
    "In this chapter we'll give it an attempt.\n",
    "\n",
    "First we need to load the data:"
   ]
  },
  {
   "cell_type": "code",
   "execution_count": 103,
   "metadata": {},
   "outputs": [],
   "source": [
    "# code to load the UFC data\n"
   ]
  },
  {
   "cell_type": "markdown",
   "metadata": {},
   "source": [
    "**<span style ='background:yellow'>\\<explain your attempt, what did you do.></span>**"
   ]
  },
  {
   "cell_type": "code",
   "execution_count": 104,
   "metadata": {},
   "outputs": [],
   "source": [
    "# code that will generate an accuracy score for the outcome that is higher than 0.6747\n"
   ]
  },
  {
   "cell_type": "markdown",
   "metadata": {},
   "source": [
    "# 6. A New Technique\n",
    "\n",
    "Many techniques were discussed in class and the lecture Jupyter Notebook, but there are a lot more. In this chapter the \\<your chosen new technique> is discussed."
   ]
  },
  {
   "cell_type": "markdown",
   "metadata": {},
   "source": [
    "**<span style ='background:yellow'>\\<explain in detail this new technique. Note that other students should be able to understand it from your explanation alone!></span>**"
   ]
  },
  {
   "cell_type": "code",
   "execution_count": 105,
   "metadata": {},
   "outputs": [],
   "source": [
    "# code on using this technique\n"
   ]
  },
  {
   "cell_type": "markdown",
   "metadata": {},
   "source": [
    "**<span style ='background:yellow'>\\<feel free to use more cells for this, you probably need them></span>**"
   ]
  },
  {
   "cell_type": "code",
   "execution_count": null,
   "metadata": {},
   "outputs": [],
   "source": []
  }
 ],
 "metadata": {
  "interpreter": {
   "hash": "978a37df73f74a92b6771ec2b219500c5d24072bb2710c7c15688cbcc4259e5f"
  },
  "kernelspec": {
   "display_name": "Python 3.9.12 ('base')",
   "language": "python",
   "name": "python3"
  },
  "language_info": {
   "codemirror_mode": {
    "name": "ipython",
    "version": 3
   },
   "file_extension": ".py",
   "mimetype": "text/x-python",
   "name": "python",
   "nbconvert_exporter": "python",
   "pygments_lexer": "ipython3",
   "version": "3.9.12"
  }
 },
 "nbformat": 4,
 "nbformat_minor": 4
}
