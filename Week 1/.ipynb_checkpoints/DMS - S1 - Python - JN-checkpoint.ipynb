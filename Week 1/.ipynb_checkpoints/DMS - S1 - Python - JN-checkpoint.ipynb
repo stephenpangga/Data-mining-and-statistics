{
 "cells": [
  {
   "cell_type": "markdown",
   "metadata": {},
   "source": [
    "# Data Mining and Statistics\n",
    "## Session 1 - Python Basics\n",
    "*Peter Stikker - Haarlem, the Netherlands*"
   ]
  },
  {
   "cell_type": "markdown",
   "metadata": {},
   "source": [
    "---"
   ]
  },
  {
   "cell_type": "markdown",
   "metadata": {},
   "source": [
    "# Introduction"
   ]
  },
  {
   "cell_type": "markdown",
   "metadata": {},
   "source": [
    "Welcom to the first of many Jupyter Notebooks. You being able to see this file is a good indication that you managed to install the required software. The purpose of this notebook is to review all of Programming 1 from year 1, term 1 but now with Python, and discuss some collection types.\n",
    "\n",
    "Before we dive into this, a few small notes about JupyterLab. In JupyterLab we can mix text cells like this (so-called Markdown) and code cells. There are a few shortcuts that could be helpful, but depend on if you are editing a cell, or just selected it. Below a few shortcuts (thanks Micha van der Meer):\n",
    "\n",
    "**In any situation**:\n",
    "- `ctrl  + enter` : run cell\n",
    "- `shift + enter` : run cell and create/select the one after\n",
    "- `ctrl  + s`     : save notebook \n",
    "\n",
    "**When selected a cell (not editing)**:\n",
    "- `↑`/`↓` : browser through different cells \n",
    "- `y`     : changes cell to a code cell \n",
    "- `m`     : changes cell to a `markdown` cell\n",
    "- `a`     : create new cell above \n",
    "- `b`     : create new cell below \n",
    "- `dd`    : delete cell \n",
    "\n",
    "**When editing a cell**:\n",
    "- `esc`           : enter command mode \n",
    "- `first letter from function  + tab` : autocomplete / code intelligence (in a code cell)\n"
   ]
  },
  {
   "cell_type": "markdown",
   "metadata": {},
   "source": [
    "Allright, lets get started with Python."
   ]
  },
  {
   "cell_type": "markdown",
   "metadata": {
    "tags": []
   },
   "source": [
    "# 1. Programming 1 with Python"
   ]
  },
  {
   "cell_type": "markdown",
   "metadata": {
    "tags": []
   },
   "source": [
    "## 1.1. Some Things to Get Started\n",
    "\n",
    "Unlike we have seen in C# and Java, we do not need a 'class Program{}' (C#) or 'public class Main {}' (Java) to start writing code. We can simply just start.\n",
    "\n",
    "The result of the last line of code will show in the output (if it has to show something), so we do not need 'Console.WriteLine' or 'System.out.print'. Below is a very simple example. If you run this it will only show the result of the last line of code. \n",
    "\n",
    "**IMPORTANT**: For each of the code cells, try to think first what you expect the result will be. Then click on the code cell and press ctrl+enter or shift+enter. This will apply for all code cells."
   ]
  },
  {
   "cell_type": "code",
   "execution_count": null,
   "metadata": {},
   "outputs": [],
   "source": [
    "5+8\n",
    "2+3"
   ]
  },
  {
   "cell_type": "markdown",
   "metadata": {},
   "source": [
    "If we do want multiple lines to show, we can simply use the 'print()' function:"
   ]
  },
  {
   "cell_type": "code",
   "execution_count": null,
   "metadata": {},
   "outputs": [],
   "source": [
    "print(5+8)\n",
    "print(2+3)"
   ]
  },
  {
   "cell_type": "markdown",
   "metadata": {},
   "source": [
    "If you google around, you might also come across 'print 2+3', so without the '()'. This was used in Python 2, but discontinued in Python 3.\n",
    "\n",
    "Python has no separate 'printf' function, but we can use different techniques to still adjust the results the way we want. One method is to use the string modulo operator. Lets first look at an example:"
   ]
  },
  {
   "cell_type": "code",
   "execution_count": null,
   "metadata": {},
   "outputs": [],
   "source": [
    "print(\"price: %5i , vat: %10.2f\" % (100.3, 21.23))"
   ]
  },
  {
   "cell_type": "markdown",
   "metadata": {},
   "source": [
    "The %5i indicates that we want this to be 5 characters wide, and the i indicates it is a signed integer.\n",
    "The %10.2f indicates that we want this to be 10 characters wide, .2 for two decimal places, and f for float.\n",
    "For more details on this, and also another technique using the 'format' method, I'd recommend having a look at https://www.python-course.eu/python3_formatted_output.php"
   ]
  },
  {
   "cell_type": "markdown",
   "metadata": {},
   "source": [
    "Although in this course we will not ask the user often for input (we'll focus on loading data from the user and simply analysing that), it is fairly easy and similar as with Java, but unlike Java we do not need to load a library (e.g. Scanner) first. It is similar as Java in that we do not need to specify the data type for the input. We can simply use the 'input()' function:"
   ]
  },
  {
   "cell_type": "code",
   "execution_count": null,
   "metadata": {
    "tags": []
   },
   "outputs": [],
   "source": [
    "fav_number = input(\"What is your favorite number? \")\n",
    "fav_name = input(\"What is your favorite name? \")\n",
    "\n",
    "print(fav_number)\n",
    "print(fav_name)"
   ]
  },
  {
   "cell_type": "markdown",
   "metadata": {},
   "source": [
    "With Python we do have data-types, but Python decides what they are depending on the input. We can check the data type it assigned with the 'type()' function:"
   ]
  },
  {
   "cell_type": "code",
   "execution_count": null,
   "metadata": {},
   "outputs": [],
   "source": [
    "print(\"Hello World\", type(\"Hello World\"))\n",
    "print(61, type(61))\n",
    "print(3.14, type(3.14))\n",
    "print(False, type(False))"
   ]
  },
  {
   "cell_type": "markdown",
   "metadata": {},
   "source": [
    "There are more, but you probably get the idea. Note that unlike C# and Java for the int and float there is no limit on how big or small the numbers can be. This might be a sign of being a useful tool for data crunching..."
   ]
  },
  {
   "cell_type": "markdown",
   "metadata": {},
   "source": [
    "You can use a function to convert or explicity assign a type to something:"
   ]
  },
  {
   "cell_type": "code",
   "execution_count": null,
   "metadata": {},
   "outputs": [],
   "source": [
    "x = int(23.4)\n",
    "x"
   ]
  },
  {
   "cell_type": "markdown",
   "metadata": {},
   "source": [
    "## 1.2. Basic Statements"
   ]
  },
  {
   "cell_type": "markdown",
   "metadata": {},
   "source": [
    "The six fundamental statements, in my opinion, in programming are ‘if’, ‘switch’, ‘for’, ‘for each’, ‘do’, and ‘while'. \n",
    "\n",
    "Lets first show an if-statement:"
   ]
  },
  {
   "cell_type": "code",
   "execution_count": null,
   "metadata": {},
   "outputs": [],
   "source": [
    "# If statement\n",
    "\n",
    "coffee = False\n",
    "if coffee:\n",
    "    print(\"yes, you can talk to me\")\n",
    "elif not(coffee):\n",
    "    print(\"no, you cannot talk to me\")\n",
    "else:\n",
    "    print(\"this will never be shown\")"
   ]
  },
  {
   "cell_type": "markdown",
   "metadata": {},
   "source": [
    "**Note that in Python using a tab is not for lay-out only, it is a must for the program to run. Also there is no ; needed but a : sometimes**.\n",
    "\n",
    "\n",
    "In Python there is no 'switch'. You can use a dictionary to mimic the behaviour of a switch statement, but you can google on that once you need it. \n",
    "\n",
    "Although many languages have something like 'for x from y to z', in Python everything is actually a 'for each' loop. A 'traditional' for loop would use the 'range()' function in Python:"
   ]
  },
  {
   "cell_type": "code",
   "execution_count": null,
   "metadata": {},
   "outputs": [],
   "source": [
    "# for loop\n",
    "\n",
    "for i in range(1,5):\n",
    "    print(i)"
   ]
  },
  {
   "cell_type": "markdown",
   "metadata": {},
   "source": [
    "You can read this as 'for EACH i in range 1 to 5 (excluding 5) print the i'. \n",
    "\n",
    "A 'more traditional' for-each loop example:"
   ]
  },
  {
   "cell_type": "code",
   "execution_count": null,
   "metadata": {},
   "outputs": [],
   "source": [
    "# for each loop\n",
    "\n",
    "subjects = [\"math\", \"sql\", \"python\"]\n",
    "\n",
    "for i in subjects:\n",
    "    print(i)"
   ]
  },
  {
   "cell_type": "markdown",
   "metadata": {},
   "source": [
    "Note that we don't need to indicate if 'i' is an int, string, bool, etc. Python will figure it out."
   ]
  },
  {
   "cell_type": "markdown",
   "metadata": {},
   "source": [
    "In C# and Java, did you struggle choosing between do...while and while...do? Did you wonder why both are in the program since any do...while can also be written as while...do? Not to worry Python only has while..do."
   ]
  },
  {
   "cell_type": "code",
   "execution_count": null,
   "metadata": {},
   "outputs": [],
   "source": [
    "# while-do loop\n",
    "\n",
    "i = 0\n",
    "while i < 5:\n",
    "    print(i)\n",
    "    i = i + 1"
   ]
  },
  {
   "cell_type": "markdown",
   "metadata": {},
   "source": [
    "There was a time Python looked into adding a 'do-while' loop but that idea got rejected (see https://www.python.org/dev/peps/pep-0315/ if you are interested)"
   ]
  },
  {
   "cell_type": "markdown",
   "metadata": {},
   "source": [
    "## 1.3. Arrays"
   ]
  },
  {
   "cell_type": "markdown",
   "metadata": {},
   "source": [
    "An array is a tuple that can hold only one type of data. We are used to C# and Java using [] for this. Unfortunately Python uses [] for so-called Lists (a tuple that can hold different types of data), and has no specific method to create an array. However, there is a build in library in Python that does make it possible.\n",
    "\n",
    "So lets load our first library in Python:"
   ]
  },
  {
   "cell_type": "code",
   "execution_count": null,
   "metadata": {},
   "outputs": [],
   "source": [
    "import array as arr"
   ]
  },
  {
   "cell_type": "markdown",
   "metadata": {},
   "source": [
    "We didn't need to install this library 'array' since it is build into Python.\n",
    "\n",
    "Now we can create true arrays using the array function: array(data type, values)"
   ]
  },
  {
   "cell_type": "code",
   "execution_count": null,
   "metadata": {},
   "outputs": [],
   "source": [
    "my_numbers = arr.array('i', [1, 2, 4, 9, 3])\n",
    "my_numbers"
   ]
  },
  {
   "cell_type": "markdown",
   "metadata": {},
   "source": [
    "When using a function you can also use: ?arr.array to learn more about the function and for example the 'i' is integer.\n",
    "\n",
    "Try it out by placing a question mark at the start of the next code snippet:"
   ]
  },
  {
   "cell_type": "code",
   "execution_count": null,
   "metadata": {},
   "outputs": [],
   "source": [
    "arr.array"
   ]
  },
  {
   "cell_type": "markdown",
   "metadata": {},
   "source": [
    "You might notice that we can only store a single character or numbers. \n",
    "\n",
    "Now that we have an array, we can do things with it. A few examples, I guess most of the things below speak for themselves:"
   ]
  },
  {
   "cell_type": "code",
   "execution_count": null,
   "metadata": {},
   "outputs": [],
   "source": [
    "import array as arr\n",
    "my_numbers = arr.array('i', [1, 2, 4, 9, 3])\n",
    "my_numbers[0]"
   ]
  },
  {
   "cell_type": "code",
   "execution_count": null,
   "metadata": {},
   "outputs": [],
   "source": [
    "len(my_numbers)"
   ]
  },
  {
   "cell_type": "code",
   "execution_count": null,
   "metadata": {},
   "outputs": [],
   "source": [
    "my_numbers.append(6)\n",
    "my_numbers"
   ]
  },
  {
   "cell_type": "code",
   "execution_count": null,
   "metadata": {},
   "outputs": [],
   "source": [
    "my_numbers.insert(2, 61)\n",
    "my_numbers"
   ]
  },
  {
   "cell_type": "code",
   "execution_count": null,
   "metadata": {},
   "outputs": [],
   "source": [
    "print(my_numbers[0:2])"
   ]
  },
  {
   "cell_type": "markdown",
   "metadata": {},
   "source": [
    "## 1.4. Methods"
   ]
  },
  {
   "cell_type": "markdown",
   "metadata": {},
   "source": [
    "We can write our own functions/methods as well in Python using the 'def' command. An example will probably work best."
   ]
  },
  {
   "cell_type": "code",
   "execution_count": null,
   "metadata": {},
   "outputs": [],
   "source": [
    "def my_cool_function(a, b):\n",
    "    c = a + b\n",
    "    print(c)\n",
    "    return c"
   ]
  },
  {
   "cell_type": "markdown",
   "metadata": {},
   "source": [
    "Lets take it for a spin..."
   ]
  },
  {
   "cell_type": "code",
   "execution_count": null,
   "metadata": {},
   "outputs": [],
   "source": [
    "d = my_cool_function(2,4)\n",
    "d + 3"
   ]
  },
  {
   "cell_type": "markdown",
   "metadata": {},
   "source": [
    "So, is this pass by reference or pass by value? Lets find out..."
   ]
  },
  {
   "cell_type": "code",
   "execution_count": null,
   "metadata": {},
   "outputs": [],
   "source": [
    "def test_pass_by(a, b):\n",
    "    a = a + b"
   ]
  },
  {
   "cell_type": "code",
   "execution_count": null,
   "metadata": {},
   "outputs": [],
   "source": [
    "a = 2\n",
    "test_pass_by(a, 3)\n",
    "a"
   ]
  },
  {
   "cell_type": "markdown",
   "metadata": {},
   "source": [
    "So? The original 'a' did not change, so pass by value, right? Well, not really. Python uses a different approach sometimes known as 'pass by assignment'. The details are too much for this intro so will not go into it here. Some claim it is also a moot point. An interesting starting point if you do want to look into this more are: https://stackoverflow.com/questions/50534394/what-does-it-mean-by-passed-by-assignment and https://realpython.com/python-pass-by-reference/"
   ]
  },
  {
   "cell_type": "markdown",
   "metadata": {},
   "source": [
    "## 1.5. Practice"
   ]
  },
  {
   "cell_type": "markdown",
   "metadata": {},
   "source": [
    "**Exercise 1.1**\n",
    "\n",
    "Create a small program, where the user can enter a price. The price, the amount of 21% VAT, and the total price will then be shown. Use a separate method/function to calculate the VAT."
   ]
  },
  {
   "cell_type": "code",
   "execution_count": null,
   "metadata": {},
   "outputs": [],
   "source": [
    "def Vat_calculator(amount):\n",
    "    VAT = amount * float(0.21)\n",
    "    print(\"The price\", amount)\n",
    "    print(\"The VAT: \", VAT)\n",
    "    print(\"Total price :\", amount + float(VAT))\n",
    "\n",
    "    \n",
    "def receipt():\n",
    "    number = input(\"What is your favorite number? \")\n",
    "    Vat_calculator(float(number))"
   ]
  },
  {
   "cell_type": "markdown",
   "metadata": {},
   "source": [
    "**Exercise 1.2**\n",
    "\n",
    "The user can enter numbers until number 0 is stated. Use a separate method 'is_prime_number' to\n",
    "determine whether the positive numbers (>0) are prime numbers; this method returns a boolean value."
   ]
  },
  {
   "cell_type": "code",
   "execution_count": null,
   "metadata": {
    "jp-MarkdownHeadingCollapsed": true,
    "tags": []
   },
   "outputs": [],
   "source": [
    "def is_prime_number(numb):\n",
    "    for p in range(2, int(numb/2)+1):\n",
    "        if (numb % p) == 0:\n",
    "            print(numb, \" is not a prime number\")\n",
    "            return False\n",
    "            #break\n",
    "        else:\n",
    "            print(numb, \" is a prime number\")\n",
    "            return True\n",
    "            #break\n",
    "#i = 0\n",
    "number = input(\"Enter a number: \")\n",
    "i = int(number)\n",
    "\n",
    "while i > 0:\n",
    "    number = input(\"Enter a number: \")\n",
    "    is_prime_number(int(number))\n",
    "    i=int(number)\n",
    "else:\n",
    "    #print(\"all prime numbers are greater than 1\")\n",
    "    print(\"its over\")\n",
    "    \n",
    "#is_prime_number(number)"
   ]
  },
  {
   "cell_type": "markdown",
   "metadata": {},
   "source": [
    "**Exercise 1.3**\n",
    "\n",
    "The user can enter several years until number 0 is stated. Use a separate method 'is_leap_year' to determine\n",
    "whether each year is a leap year; this method returns a boolean value.\n",
    "\n",
    "*note:* a leap year is a year that is divisible by 4, except if it is divisible by 100. A year that is divisible by 400 is also a leap year, even though it is then also divisible by 100."
   ]
  },
  {
   "cell_type": "code",
   "execution_count": null,
   "metadata": {},
   "outputs": [],
   "source": [
    "def is_leap_year(year):\n",
    "    if(year > 0):\n",
    "        if((year % 400 == 0) | (year % 100!=0) & (year % 4 == 0)):\n",
    "            return True\n",
    "        else:\n",
    "            return False\n",
    "\n",
    "def check_leap_year():\n",
    "    year = int(input(\"Enter a year (0 is to stop the program): \"))\n",
    "    while year != 0:\n",
    "        isLeap = bool(is_leap_year(int(year)))\n",
    "        if(isLeap == True):\n",
    "            print(year, \" is a leap year\")\n",
    "        elif (isLeap == False):\n",
    "            print(year, \" is not a leap year\")\n",
    "        year = input(\"Enter a year (0 is to stop the program): \")\n",
    "        return\n",
    "    else:\n",
    "        print(\"Program ended\")\n",
    "check_leap_year()"
   ]
  },
  {
   "cell_type": "markdown",
   "metadata": {},
   "source": [
    "**Exercise 1.4**\n",
    "\n",
    "The user can enter a text (string). Determine the number of times that the characters . (full stop) , (comma) and ;\n",
    "(semi-colon) occur in this string. Use a separate method 'search_text' for this purpose, with a string as\n",
    "an input parameter, and with 3 out parameters: nr_of_full_stops, nr_of_commas, nr_of_semicolons. This\n",
    "method has no return value."
   ]
  },
  {
   "cell_type": "code",
   "execution_count": null,
   "metadata": {},
   "outputs": [],
   "source": [
    "def search_text(text):\n",
    "    nr_of_full_stops = 0\n",
    "    nr_of_commas = 0\n",
    "    nr_of_semicolons = 0\n",
    "    \n",
    "    for char in text:\n",
    "        if(char == '.'):\n",
    "            nr_of_full_stops += 1\n",
    "        if(char == ','):\n",
    "            nr_of_commas += 1  \n",
    "        if(char == ';'):\n",
    "            nr_of_semicolons += 1\n",
    "\n",
    "    print(\"The number of dot is: \", nr_of_full_stops)\n",
    "    print(\"The number of commas is: \",nr_of_commas)\n",
    "    print(\"The number of semicolons is: \", nr_of_semicolons)\n",
    "\n",
    "sentence = input(\"Please enter text?: \")\n",
    "\n",
    "search_text(str(sentence))"
   ]
  },
  {
   "cell_type": "markdown",
   "metadata": {},
   "source": [
    "## 1.6. Final Remarks"
   ]
  },
  {
   "cell_type": "markdown",
   "metadata": {},
   "source": [
    "That is basically what you did for C# in Programming 1, year 1, term 1, but now with Python. If the exercises felt familiar, it is because they are identical to the last assignments from Programming 1. If you followed along and understood everything, realise that in an hour (or a few) you just did what took 7 weeks all those years ago! You can feel proud and realise you've come a long way :-)\n",
    "\n",
    "In Programming 2 & 3 the focus was on object-oriented programming with Classes. This is also possible with Python, but will not be discussed in this course. In this course we are going to use Python for data mining and statistics, not so much for building applications. \n",
    "\n",
    "In the next chapter we take a closer look at some of Python's collection data types. This can come in handy when dealing with data."
   ]
  },
  {
   "cell_type": "markdown",
   "metadata": {},
   "source": [
    "# 2. Collections in Python"
   ]
  },
  {
   "cell_type": "markdown",
   "metadata": {},
   "source": [
    "We already discussed the 'arrays' but Python has a few other collections as well.\n",
    "\n",
    "We'll discuss the following so-called sequential collection types: Tuples, Sets, Lists and Arrays.\n",
    "\n",
    "There are a four things to consider for each type:\n",
    "1. Are different data types allowed in the sequence?\n",
    "2. Is the order as the data is given or changed?\n",
    "3. Are duplicate values allowed?\n",
    "4. Can we make changes?\n",
    "\n",
    "So lets investigate these."
   ]
  },
  {
   "cell_type": "markdown",
   "metadata": {},
   "source": [
    "## 2.1. Lists\n",
    "\n",
    "The first type we're going to look at is the List. Let's begin with an example:"
   ]
  },
  {
   "cell_type": "code",
   "execution_count": null,
   "metadata": {},
   "outputs": [],
   "source": [
    "my_list = [\"Teacher\", 61, \"Peter\", 6, 6]\n",
    "\n",
    "print(type(my_list))\n",
    "my_list"
   ]
  },
  {
   "cell_type": "markdown",
   "metadata": {},
   "source": [
    "Based on this one example we can already answer a few:\n",
    "\n",
    "1. Are different data types allowed in the sequence? YES\n",
    "2. Is the order as the data is given or changed? Appears to be as entered\n",
    "3. Are duplicate values allowed? YES\n",
    "4. Can we make changes? Don't know yet.\n",
    "\n",
    "Although we can't be sure of question 2, but indeed for a tuple the order does not change.\n",
    "\n",
    "Now for question 4...."
   ]
  },
  {
   "cell_type": "code",
   "execution_count": null,
   "metadata": {},
   "outputs": [],
   "source": [
    "my_list.append(True)\n",
    "my_list.insert(3, \"great\")\n",
    "my_list"
   ]
  },
  {
   "cell_type": "markdown",
   "metadata": {},
   "source": [
    "Seems like we can add, how about removing items..."
   ]
  },
  {
   "cell_type": "code",
   "execution_count": null,
   "metadata": {},
   "outputs": [],
   "source": [
    "my_list.remove(6)\n",
    "del my_list[3:3]\n",
    "my_list"
   ]
  },
  {
   "cell_type": "markdown",
   "metadata": {},
   "source": [
    "The 'remove' will remove the first value that matches the given input. The del will remove a value from a range of specified indexes. There is also a 'drop' option to remove items."
   ]
  },
  {
   "cell_type": "markdown",
   "metadata": {},
   "source": [
    "So, final conclusion for Lists:\n",
    "\n",
    "1. Are different data types allowed in the sequence? YES\n",
    "2. Is the order as the data is given or changed? GIVEN\n",
    "3. Are duplicate values allowed? YES\n",
    "4. Can we make changes? YES\n",
    "\n",
    "Lists are the most versatile, but sometimes we don't want all this to be possible, so the other collection types do have some limitations."
   ]
  },
  {
   "cell_type": "markdown",
   "metadata": {},
   "source": [
    "## 2.2. Tuples"
   ]
  },
  {
   "cell_type": "markdown",
   "metadata": {},
   "source": [
    "A tuple in Python can be made using the regular parenthesis:"
   ]
  },
  {
   "cell_type": "code",
   "execution_count": null,
   "metadata": {},
   "outputs": [],
   "source": [
    "my_tuple = (\"Teacher\", 61, \"Peter\", 6, 6)\n",
    "print(type(my_tuple))\n",
    "my_tuple"
   ]
  },
  {
   "cell_type": "markdown",
   "metadata": {},
   "source": [
    "Based on this one example we can already answer a few:\n",
    "\n",
    "1. Are different data types allowed in the sequence? YES\n",
    "2. Is the order as the data is given or changed? Appears to be as entered\n",
    "3. Are duplicate values allowed? YES\n",
    "4. Can we make changes? Don't know yet.\n",
    "\n",
    "Although we can't be sure of question 2, but indeed for a tuple the order does not change.\n",
    "\n",
    "Now for question 4...."
   ]
  },
  {
   "cell_type": "code",
   "execution_count": null,
   "metadata": {},
   "outputs": [],
   "source": [
    "my_tuple.append(6)"
   ]
  },
  {
   "cell_type": "code",
   "execution_count": null,
   "metadata": {},
   "outputs": [],
   "source": [
    "my_tuple.pop(1)"
   ]
  },
  {
   "cell_type": "markdown",
   "metadata": {},
   "source": [
    "It appears that we cannot add or remove items to a tuple directly. It is of course possible to 'cheat' and do this indirectly: "
   ]
  },
  {
   "cell_type": "code",
   "execution_count": null,
   "metadata": {},
   "outputs": [],
   "source": [
    "print(id(my_tuple))\n",
    "my_tuple = (*my_tuple, True)\n",
    "my_tuple"
   ]
  },
  {
   "cell_type": "markdown",
   "metadata": {},
   "source": [
    "The 'id' returns a unique id for the specified object. Note that we actually changed this:"
   ]
  },
  {
   "cell_type": "code",
   "execution_count": null,
   "metadata": {},
   "outputs": [],
   "source": [
    "print(id(my_tuple))"
   ]
  },
  {
   "cell_type": "markdown",
   "metadata": {},
   "source": [
    "We created a new tuple with the same name. You can go back if you like to verify that the id of a List does not change if you add or remove an element."
   ]
  },
  {
   "cell_type": "markdown",
   "metadata": {},
   "source": [
    "So, final conclusion for Tuples:\n",
    "\n",
    "1. Are different data types allowed in the sequence? YES\n",
    "2. Is the order as the data is given or changed? GIVEN\n",
    "3. Are duplicate values allowed? YES\n",
    "4. Can we make changes? NO\n",
    "\n",
    "Lists are the most versatile, but sometimes we don't want all this to be possible, so the other collection types do have some limitations."
   ]
  },
  {
   "cell_type": "markdown",
   "metadata": {},
   "source": [
    "## 2.3. Sets"
   ]
  },
  {
   "cell_type": "markdown",
   "metadata": {},
   "source": [
    "A third option is a set. You might also remember this from the Databases SQL class, but that is a while ago. Lets find out using an example:"
   ]
  },
  {
   "cell_type": "code",
   "execution_count": null,
   "metadata": {},
   "outputs": [],
   "source": [
    "my_set = {\"Teacher\", 61, \"Peter\", 6, 6}\n",
    "print(type(my_set))\n",
    "my_set"
   ]
  },
  {
   "cell_type": "markdown",
   "metadata": {},
   "source": [
    "Ah, that looks different than our previous results. Note that we only have one 6 left, and the order is different (appears to be numbers first in low to high, then text in alphabetical order). So based on this one example:\n",
    "\n",
    "1. Are different data types allowed in the sequence? YES\n",
    "2. Is the order as the data is given or changed? CHANGED\n",
    "3. Are duplicate values allowed? NO\n",
    "4. Can we make changes? Don't know\n",
    "\n",
    "Lets see if we can make changes..."
   ]
  },
  {
   "cell_type": "code",
   "execution_count": null,
   "metadata": {},
   "outputs": [],
   "source": [
    "print(id(my_set))\n",
    "\n",
    "my_set.add(True)\n",
    "\n",
    "print(id(my_set))\n",
    "my_set"
   ]
  },
  {
   "cell_type": "markdown",
   "metadata": {},
   "source": [
    "Seems like we can add items without changing the id. Can we also remove items..."
   ]
  },
  {
   "cell_type": "code",
   "execution_count": null,
   "metadata": {},
   "outputs": [],
   "source": [
    "my_set.remove(True)\n",
    "\n",
    "print(id(my_set))\n",
    "my_set"
   ]
  },
  {
   "cell_type": "markdown",
   "metadata": {},
   "source": [
    "Yep, no problem. You can also use 'discard()'. The remove method gives an error if the item is not in the set, the discard will not.\n",
    "\n",
    "So, final conclusion for Sets:\n",
    "\n",
    "1. Are different data types allowed in the sequence? YES\n",
    "2. Is the order as the data is given or changed? CHANGED\n",
    "3. Are duplicate values allowed? NO\n",
    "4. Can we make changes? YES\n",
    "\n"
   ]
  },
  {
   "cell_type": "markdown",
   "metadata": {
    "tags": []
   },
   "source": [
    "## 2.4. Arrays (revisited)\n",
    "\n",
    "We already discussed arrays in chapter 1, but lets take another look at them in the context of collections.\n",
    "\n",
    "From chapter 1 we know that arrays in Python can only contain numbers or a single unicode character, so the example sequence we have used so far, will not work. So another example."
   ]
  },
  {
   "cell_type": "code",
   "execution_count": null,
   "metadata": {
    "tags": []
   },
   "outputs": [],
   "source": [
    "import array as arr\n",
    "my_array = arr.array('i', [1, 2, 4, 9, 3, 9])\n",
    "\n",
    "print(id(my_array))\n",
    "print(type(my_array))\n",
    "my_array"
   ]
  },
  {
   "cell_type": "markdown",
   "metadata": {},
   "source": [
    "So based on this one example and from chapter 1:\n",
    "\n",
    "1. Are different data types allowed in the sequence? NO\n",
    "2. Is the order as the data is given or changed? GIVEN\n",
    "3. Are duplicate values allowed? YES\n",
    "4. Can we make changes? YES\n",
    "\n",
    "The fourth answer we know from chapter 1. We have seen there already we can insert new values:"
   ]
  },
  {
   "cell_type": "code",
   "execution_count": null,
   "metadata": {},
   "outputs": [],
   "source": [
    "my_array.append(6)\n",
    "my_array.insert(2, 61)\n",
    "\n",
    "print(id(my_array))\n",
    "my_array"
   ]
  },
  {
   "cell_type": "markdown",
   "metadata": {},
   "source": [
    "We can also remove items the same way as with a List."
   ]
  },
  {
   "cell_type": "code",
   "execution_count": null,
   "metadata": {},
   "outputs": [],
   "source": [
    "my_array.remove(9)\n",
    "my_array.pop(0)\n",
    "\n",
    "print(id(my_array))\n",
    "my_array"
   ]
  },
  {
   "cell_type": "markdown",
   "metadata": {},
   "source": [
    "Note that many sources will call Python's List also an Array, and others will refer to so-called Numpy Arrays. Indeed very often when arrays are needed and used, these Numpy Arrays are used, and so will we. However, Numpy is on the menu for the next session.\n",
    "\n",
    "One other type of collection is the dictionary."
   ]
  },
  {
   "cell_type": "markdown",
   "metadata": {},
   "source": [
    "## 2.5. Dictionaries\n",
    "\n",
    "A mapping type of collection is the dictionary. It uses a key-value pair for each entry. Lets use an example:"
   ]
  },
  {
   "cell_type": "code",
   "execution_count": null,
   "metadata": {},
   "outputs": [],
   "source": [
    "my_dict = {\"name\": \"Peter\", \"fav number\" : 61, 3 : 5}\n",
    "\n",
    "print(id(my_dict))\n",
    "print(type(my_dict))\n",
    "my_dict"
   ]
  },
  {
   "cell_type": "markdown",
   "metadata": {},
   "source": [
    "So based on this one example:\n",
    "\n",
    "1. Are different data types allowed? YES\n",
    "2. Is the order as the data is given or changed? Hmmm, given???\n",
    "3. Are duplicate values allowed? NO for key, YES for value\n",
    "4. Can we make changes? Don't know\n",
    "\n",
    "The answer to the 2nd question is indeed given, but only since Python 3.7. There is a nice discussion on this at: https://stackoverflow.com/questions/39980323/are-dictionaries-ordered-in-python-3-6. It also mentions the OrderedDictionary which is another collection type in Python. But we digress. Although we can now be sure that the order of the dictionary is as given, we cannot use an index to do something with them (we can now convert the keys to a list, then do something with that list, but that feels a bit like cheating).\n",
    "\n",
    "Can we make changes? Lets find out:"
   ]
  },
  {
   "cell_type": "code",
   "execution_count": null,
   "metadata": {},
   "outputs": [],
   "source": [
    "my_dict[\"hobby\"] = \"mathematics\"\n",
    "\n",
    "print(id(my_dict))\n",
    "my_dict"
   ]
  },
  {
   "cell_type": "markdown",
   "metadata": {},
   "source": [
    "No change in the id, and it did get added. Can we also remove?"
   ]
  },
  {
   "cell_type": "code",
   "execution_count": null,
   "metadata": {},
   "outputs": [],
   "source": [
    "my_dict.pop(\"hobby\")\n",
    "del my_dict[3]\n",
    "my_dict"
   ]
  },
  {
   "cell_type": "markdown",
   "metadata": {},
   "source": [
    "Yep, no problem. Final answers:\n",
    "\n",
    "1. Are different data types allowed? YES\n",
    "2. Is the order as the data is given or changed? GIVEN\n",
    "3. Are duplicate values allowed? NO for key, YES for value\n",
    "4. Can we make changes? YES\n",
    "\n",
    "Perhaps good to know, is that we can get the values and keys separately:"
   ]
  },
  {
   "cell_type": "code",
   "execution_count": null,
   "metadata": {},
   "outputs": [],
   "source": [
    "print(my_dict.values())\n",
    "print(my_dict.keys())"
   ]
  },
  {
   "cell_type": "markdown",
   "metadata": {},
   "source": [
    "## 2.6. Exercises\n",
    "\n",
    "**Exercise 2.1**\n",
    "\n",
    "Create your own list, tuple, set, array and dictionary. Then create a function that iterates over each entry and shows the result."
   ]
  },
  {
   "cell_type": "code",
   "execution_count": 5,
   "metadata": {},
   "outputs": [
    {
     "name": "stdout",
     "output_type": "stream",
     "text": [
      "The List\n",
      "Python\n",
      "1\n",
      "Data Mining\n",
      "69\n",
      "420\n",
      "\n",
      "The tuple\n",
      "Python\n",
      "1\n",
      "Data Mining\n",
      "69\n",
      "420\n",
      "\n",
      "The set\n",
      "1\n",
      "420\n",
      "69\n",
      "Python\n",
      "Data Mining\n",
      "\n",
      "The array\n",
      "1\n",
      "2\n",
      "3\n",
      "4\n",
      "\n"
     ]
    }
   ],
   "source": [
    "import array as arr\n",
    "\n",
    "my_list = [\"Python\", 1, \"Data Mining\", 69, 420]\n",
    "my_tuple = (\"Python\", 1, \"Data Mining\", 69, 420)\n",
    "my_set = {\"Python\", 1, \"Data Mining\", 69, 420}\n",
    "my_array = arr.array('i', [1, 2, 3, 4])\n",
    "my_dictionary = {\"The List\": my_list, \"The tuple\": my_tuple, \"The set\": my_set, \"The array\": my_array}\n",
    "\n",
    "for i in my_dictionary:\n",
    "    print(i)\n",
    "    for j in my_dictionary[i]:\n",
    "        print(j)\n",
    "    print()\n"
   ]
  },
  {
   "cell_type": "markdown",
   "metadata": {},
   "source": [
    "**Exercise 2.2**\n",
    "\n",
    "Each of the examples so far were one-dimensional. Which (if any) of the collection types discussed, can also be done with higher dimensions and if so how?\n",
    "\n",
    "Post your findings in the discussion forum on Moodle."
   ]
  },
  {
   "cell_type": "code",
   "execution_count": 16,
   "metadata": {},
   "outputs": [
    {
     "name": "stdout",
     "output_type": "stream",
     "text": [
      "The List\n",
      "stephen\n",
      "Student 2\n",
      "<class 'list'>\n",
      "The Tuple\n",
      "Shyvana\n",
      "<class 'tuple'>\n",
      "The Array\n",
      "array('i')\n",
      "<class 'array.array'>\n",
      "The Dictionary\n",
      "Squirtle\n",
      "<class 'dict'>\n"
     ]
    }
   ],
   "source": [
    "#2d List\n",
    "print(\"The List\")\n",
    "list = [[\"Student 1\", \"stephen\"], \n",
    "        [\"Student 2\", \"guido\"]]\n",
    "print(list[0][1])\n",
    "print(list[1][0])\n",
    "print(type(list))\n",
    "\n",
    "\n",
    "#2d Tuple\n",
    "print(\"The Tuple\")\n",
    "tuple = ((\"Student 1\", \"Teemo\"),\n",
    "         (\"Student 2\", \"Shyvana\"))\n",
    "print(tuple[1][1])\n",
    "print(type(tuple))\n",
    "\n",
    "#2d Set\n",
    "# print(\"The set\")\n",
    "# s = {{\"Fire\", \"Charmander\", 1}, {\"Water\", \"Squirtle\", 2}}\n",
    "# for x in s:\n",
    "#     print(x)\n",
    "\n",
    "#2d Array\n",
    "import array as arr\n",
    "print(\"The Array\")\n",
    "my_array = arr.array('i', 7)\n",
    "print(x[1:1])\n",
    "print(type(x))\n",
    "\n",
    "#2d Dictionary\n",
    "print(\"The Dictionary\")\n",
    "dictionary = {\"Fire\": {\"Name\":\"Charmander\", \"Level\": 1}, \n",
    "              \"Water\": {\"Name\": \"Squirtle\", \"Level\": 2}, \n",
    "              \"Leaf\": {\"Name\": \"Balbasaur\", \"Level\": 2}}\n",
    "print(dictionary[\"Water\"][\"Name\"])\n",
    "print(type(dictionary))"
   ]
  },
  {
   "cell_type": "markdown",
   "metadata": {},
   "source": [
    "## 2.7. Final Remarks\n",
    "\n",
    "We covered a few different collection types that Python has. Below is a summary of the findings.\n",
    "\n",
    "|                    |List            |Tuple            |Set          |Array                 |Dictionary                |\n",
    "|:-------------------|:---------------|:----------------|:------------|:---------------------|:-------------------------|\n",
    "|Basic syntax        |my_list = [...] |my_tuple = (...) |my_set = {…} |my_arr = array(…, ….) |my_dict = {… : …, … : ...}|\n",
    "|Different data types|Yes             |Yes              |Yes          |No                    |Yes                       |\n",
    "|Ordered or Given    |Given           |Given            |Ordered      |Given                 |Given                     |\n",
    "|Duplicates          |Yes             |Yes              |No           |Yes                   |No (key), Yes (value)     |\n",
    "|Changeable          |Yes             |No               |Yes          |Yes                   |Yes                       |\n",
    "\n",
    "Python also has a library 'collections' which contains a few more, but those are outside the scope of this module.\n",
    "\n",
    "In the next session we'll look into loading data into Python and we'll see the use of two very commonly used libraries: Numpy and Pandas. We'll also take a closer look then at retrieving values from a collection including slicing. \n",
    "\n",
    "To finish this session, below are three 'easter eggs', but there are more. Also you will notice that in many Python's official documentation as well as in other courses there is a reference to Monty Python."
   ]
  },
  {
   "cell_type": "code",
   "execution_count": null,
   "metadata": {},
   "outputs": [],
   "source": [
    "import __hello__"
   ]
  },
  {
   "cell_type": "code",
   "execution_count": null,
   "metadata": {},
   "outputs": [],
   "source": [
    "import this"
   ]
  },
  {
   "cell_type": "code",
   "execution_count": null,
   "metadata": {},
   "outputs": [],
   "source": [
    "import antigravity"
   ]
  },
  {
   "cell_type": "code",
   "execution_count": null,
   "metadata": {},
   "outputs": [],
   "source": []
  }
 ],
 "metadata": {
  "kernelspec": {
   "display_name": "Python 3 (ipykernel)",
   "language": "python",
   "name": "python3"
  },
  "language_info": {
   "codemirror_mode": {
    "name": "ipython",
    "version": 3
   },
   "file_extension": ".py",
   "mimetype": "text/x-python",
   "name": "python",
   "nbconvert_exporter": "python",
   "pygments_lexer": "ipython3",
   "version": "3.9.7"
  }
 },
 "nbformat": 4,
 "nbformat_minor": 4
}
