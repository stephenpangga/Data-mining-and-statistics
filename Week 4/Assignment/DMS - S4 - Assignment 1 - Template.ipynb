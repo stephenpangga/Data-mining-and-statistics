{
 "cells": [
  {
   "cell_type": "markdown",
   "metadata": {},
   "source": [
    "**this is a template notebook. To get a 60 you will need to complete the first three chapters. From there is additional points. In the template you'll see text between <> so \\<example> where you will have to isert your own text. \n",
    "    The template is also just an indication. You can add more cells if needed, and can of course delete this line**\n",
    "\n",
    "# <span style ='background:yellow'>\\<Title of your notebook>\n",
    "## DMS - Regression Assignment (v1.1)\n",
    "Author: <span>Stephen Pangga</span><br>\n",
    "Student number: <span>629860</span><br>\n",
    "Date: <span>12-05-2022</span>"
   ]
  },
  {
   "cell_type": "markdown",
   "metadata": {},
   "source": [
    "For this notebook to work you must have installed the following packages (usually via pip install *packageName*:\n",
    "* numpy\n",
    "* pandas\n",
    "* \\<add other packages\\>\n",
    "\n",
    "From these we will need the following libraries:"
   ]
  },
  {
   "cell_type": "code",
   "execution_count": 17,
   "metadata": {},
   "outputs": [
    {
     "name": "stdout",
     "output_type": "stream",
     "text": [
      "NumPy already installed, only imported\n",
      "PyPlot already installed, only imported\n",
      "statsmodels already installed, only imported\n",
      "pandas already installed, only imported\n",
      "sklearn already installed, only imported\n"
     ]
    }
   ],
   "source": [
    "#enter here all those 'from .... import ....'\n",
    "\n",
    "# numpy as np\n",
    "try:\n",
    "    import numpy as np\n",
    "    print('NumPy already installed, only imported')\n",
    "except:\n",
    "    !pip install numpy\n",
    "    import numpy as np\n",
    "    print('NumPy was not installed, installed and imported')\n",
    "      \n",
    "# pyplot as plt\n",
    "try:\n",
    "    import matplotlib.pyplot as plt\n",
    "    print('PyPlot already installed, only imported')\n",
    "except:\n",
    "    !pip install matplotlib\n",
    "    import matplotlib.pyplot as plt\n",
    "    print('PyPlot was not installed, installed and imported')\n",
    "    \n",
    "try:\n",
    "    import statsmodels.api as sm\n",
    "    print('statsmodels already installed, only imported')\n",
    "except:\n",
    "    !pip install statsmodels\n",
    "    import statsmodels.api as sm\n",
    "    print('statsmodels was not installed, installed and imported')    \n",
    "\n",
    "#pandas\n",
    "try:\n",
    "    import pandas as pd\n",
    "    print('pandas already installed, only imported')\n",
    "except:\n",
    "    !pip install pandas\n",
    "    import pandas as pd\n",
    "    print('pandas was not installed, installed and imported')    \n",
    "\n",
    "# sklearn\n",
    "try:\n",
    "    from sklearn.linear_model import LinearRegression\n",
    "    print('sklearn already installed, only imported')\n",
    "except:\n",
    "    !pip install sklearn\n",
    "    from sklearn.linear_model import LinearRegression\n",
    "    print('sklearn was not installed, installed and imported')\n",
    "\n",
    "from sklearn import metrics"
   ]
  },
  {
   "cell_type": "markdown",
   "metadata": {},
   "source": [
    "# 1. The Data\n",
    "We are going to use the datafile <span style='background:yellow'><your datafile\\></span>. This contains data from <span style='background:yellow'>\\<add your description\\></span>."
   ]
  },
  {
   "cell_type": "code",
   "execution_count": 18,
   "metadata": {},
   "outputs": [],
   "source": [
    "#enter the code to load the data\n",
    "basketBallData= pd.read_csv('players_stats_by_season_full_details.csv')"
   ]
  },
  {
   "cell_type": "markdown",
   "metadata": {},
   "source": [
    "Here's a quick look at the data:"
   ]
  },
  {
   "cell_type": "code",
   "execution_count": 19,
   "metadata": {},
   "outputs": [
    {
     "data": {
      "text/html": [
       "<div>\n",
       "<style scoped>\n",
       "    .dataframe tbody tr th:only-of-type {\n",
       "        vertical-align: middle;\n",
       "    }\n",
       "\n",
       "    .dataframe tbody tr th {\n",
       "        vertical-align: top;\n",
       "    }\n",
       "\n",
       "    .dataframe thead th {\n",
       "        text-align: right;\n",
       "    }\n",
       "</style>\n",
       "<table border=\"1\" class=\"dataframe\">\n",
       "  <thead>\n",
       "    <tr style=\"text-align: right;\">\n",
       "      <th></th>\n",
       "      <th>League</th>\n",
       "      <th>Season</th>\n",
       "      <th>Stage</th>\n",
       "      <th>Player</th>\n",
       "      <th>Team</th>\n",
       "      <th>GP</th>\n",
       "      <th>MIN</th>\n",
       "      <th>FGM</th>\n",
       "      <th>FGA</th>\n",
       "      <th>3PM</th>\n",
       "      <th>...</th>\n",
       "      <th>birth_date</th>\n",
       "      <th>height</th>\n",
       "      <th>height_cm</th>\n",
       "      <th>weight</th>\n",
       "      <th>weight_kg</th>\n",
       "      <th>nationality</th>\n",
       "      <th>high_school</th>\n",
       "      <th>draft_round</th>\n",
       "      <th>draft_pick</th>\n",
       "      <th>draft_team</th>\n",
       "    </tr>\n",
       "  </thead>\n",
       "  <tbody>\n",
       "    <tr>\n",
       "      <th>0</th>\n",
       "      <td>NBA</td>\n",
       "      <td>1999 - 2000</td>\n",
       "      <td>Regular_Season</td>\n",
       "      <td>Shaquille O'Neal</td>\n",
       "      <td>LAL</td>\n",
       "      <td>79</td>\n",
       "      <td>3163.0</td>\n",
       "      <td>956</td>\n",
       "      <td>1665</td>\n",
       "      <td>0</td>\n",
       "      <td>...</td>\n",
       "      <td>Mar 6, 1972</td>\n",
       "      <td>7-1</td>\n",
       "      <td>216.0</td>\n",
       "      <td>325.0</td>\n",
       "      <td>147.0</td>\n",
       "      <td>United States</td>\n",
       "      <td>Robert G. Cole High School</td>\n",
       "      <td>1.0</td>\n",
       "      <td>1.0</td>\n",
       "      <td>Orlando Magic</td>\n",
       "    </tr>\n",
       "    <tr>\n",
       "      <th>1</th>\n",
       "      <td>NBA</td>\n",
       "      <td>1999 - 2000</td>\n",
       "      <td>Regular_Season</td>\n",
       "      <td>Vince Carter</td>\n",
       "      <td>TOR</td>\n",
       "      <td>82</td>\n",
       "      <td>3126.0</td>\n",
       "      <td>788</td>\n",
       "      <td>1696</td>\n",
       "      <td>95</td>\n",
       "      <td>...</td>\n",
       "      <td>Jan 26, 1977</td>\n",
       "      <td>6-6</td>\n",
       "      <td>198.0</td>\n",
       "      <td>220.0</td>\n",
       "      <td>100.0</td>\n",
       "      <td>United States</td>\n",
       "      <td>Mainland High School</td>\n",
       "      <td>1.0</td>\n",
       "      <td>5.0</td>\n",
       "      <td>Golden State Warriors</td>\n",
       "    </tr>\n",
       "    <tr>\n",
       "      <th>2</th>\n",
       "      <td>NBA</td>\n",
       "      <td>1999 - 2000</td>\n",
       "      <td>Regular_Season</td>\n",
       "      <td>Karl Malone</td>\n",
       "      <td>UTA</td>\n",
       "      <td>82</td>\n",
       "      <td>2947.0</td>\n",
       "      <td>752</td>\n",
       "      <td>1476</td>\n",
       "      <td>2</td>\n",
       "      <td>...</td>\n",
       "      <td>Jul 24, 1963</td>\n",
       "      <td>6-9</td>\n",
       "      <td>206.0</td>\n",
       "      <td>265.0</td>\n",
       "      <td>120.0</td>\n",
       "      <td>United States</td>\n",
       "      <td>Summerfield High School</td>\n",
       "      <td>1.0</td>\n",
       "      <td>13.0</td>\n",
       "      <td>Utah Jazz</td>\n",
       "    </tr>\n",
       "    <tr>\n",
       "      <th>3</th>\n",
       "      <td>NBA</td>\n",
       "      <td>1999 - 2000</td>\n",
       "      <td>Regular_Season</td>\n",
       "      <td>Allen Iverson</td>\n",
       "      <td>PHI</td>\n",
       "      <td>70</td>\n",
       "      <td>2853.0</td>\n",
       "      <td>729</td>\n",
       "      <td>1733</td>\n",
       "      <td>89</td>\n",
       "      <td>...</td>\n",
       "      <td>Jun 7, 1975</td>\n",
       "      <td>6-0</td>\n",
       "      <td>183.0</td>\n",
       "      <td>165.0</td>\n",
       "      <td>75.0</td>\n",
       "      <td>United States</td>\n",
       "      <td>Bethel High School</td>\n",
       "      <td>1.0</td>\n",
       "      <td>1.0</td>\n",
       "      <td>Philadelphia Sixers</td>\n",
       "    </tr>\n",
       "    <tr>\n",
       "      <th>4</th>\n",
       "      <td>NBA</td>\n",
       "      <td>1999 - 2000</td>\n",
       "      <td>Regular_Season</td>\n",
       "      <td>Gary Payton</td>\n",
       "      <td>SEA</td>\n",
       "      <td>82</td>\n",
       "      <td>3425.0</td>\n",
       "      <td>747</td>\n",
       "      <td>1666</td>\n",
       "      <td>177</td>\n",
       "      <td>...</td>\n",
       "      <td>Jul 23, 1968</td>\n",
       "      <td>6-4</td>\n",
       "      <td>193.0</td>\n",
       "      <td>180.0</td>\n",
       "      <td>82.0</td>\n",
       "      <td>United States</td>\n",
       "      <td>Skyline High School</td>\n",
       "      <td>1.0</td>\n",
       "      <td>2.0</td>\n",
       "      <td>Seattle SuperSonics</td>\n",
       "    </tr>\n",
       "  </tbody>\n",
       "</table>\n",
       "<p>5 rows × 34 columns</p>\n",
       "</div>"
      ],
      "text/plain": [
       "  League       Season           Stage            Player Team  GP     MIN  FGM  \\\n",
       "0    NBA  1999 - 2000  Regular_Season  Shaquille O'Neal  LAL  79  3163.0  956   \n",
       "1    NBA  1999 - 2000  Regular_Season      Vince Carter  TOR  82  3126.0  788   \n",
       "2    NBA  1999 - 2000  Regular_Season       Karl Malone  UTA  82  2947.0  752   \n",
       "3    NBA  1999 - 2000  Regular_Season     Allen Iverson  PHI  70  2853.0  729   \n",
       "4    NBA  1999 - 2000  Regular_Season       Gary Payton  SEA  82  3425.0  747   \n",
       "\n",
       "    FGA  3PM  ...    birth_date  height  height_cm  weight  weight_kg  \\\n",
       "0  1665    0  ...   Mar 6, 1972     7-1      216.0   325.0      147.0   \n",
       "1  1696   95  ...  Jan 26, 1977     6-6      198.0   220.0      100.0   \n",
       "2  1476    2  ...  Jul 24, 1963     6-9      206.0   265.0      120.0   \n",
       "3  1733   89  ...   Jun 7, 1975     6-0      183.0   165.0       75.0   \n",
       "4  1666  177  ...  Jul 23, 1968     6-4      193.0   180.0       82.0   \n",
       "\n",
       "     nationality                  high_school  draft_round  draft_pick  \\\n",
       "0  United States  Robert G. Cole High School           1.0         1.0   \n",
       "1  United States         Mainland High School          1.0         5.0   \n",
       "2  United States      Summerfield High School          1.0        13.0   \n",
       "3  United States          Bethel High School           1.0         1.0   \n",
       "4  United States          Skyline High School          1.0         2.0   \n",
       "\n",
       "              draft_team  \n",
       "0          Orlando Magic  \n",
       "1  Golden State Warriors  \n",
       "2              Utah Jazz  \n",
       "3    Philadelphia Sixers  \n",
       "4    Seattle SuperSonics  \n",
       "\n",
       "[5 rows x 34 columns]"
      ]
     },
     "execution_count": 19,
     "metadata": {},
     "output_type": "execute_result"
    }
   ],
   "source": [
    "#enter the code to see the first few rows of the data\n",
    "basketBallData.head()"
   ]
  },
  {
   "cell_type": "markdown",
   "metadata": {},
   "source": [
    "<span style='background:yellow'><explain the variables (/fields/columns) you are going to use for your prediction. The dependent y (the one you are going to predict) and **two** x's (the ones you are going to use to predict that y). What do these variables mean?></span>\n",
    "\n",
    "*note:* You can score a +.5 point if you don't just pick randomly your variables, but use either a pairplot (a plot showing all scatterplots between all possible pairs of variables), a heatmap, and/or a correlation matrix, to pick some that at least have a reasonable correlation."
   ]
  },
  {
   "cell_type": "markdown",
   "metadata": {},
   "source": [
    "# 2. The Bivariate Regression\n",
    "\n",
    "## 2.1. The First Bivariate Regression\n",
    "\n",
    "First we are going to look at the predictions using only one of our two x's. "
   ]
  },
  {
   "cell_type": "markdown",
   "metadata": {},
   "source": [
    "We start with predicting <span style='background:yellow'>\\<your y variable\\></span> using <span style='background:yellow'>\\<one of your x variables\\></span>. Below a visualisation of these two:"
   ]
  },
  {
   "cell_type": "code",
   "execution_count": 25,
   "metadata": {},
   "outputs": [
    {
     "name": "stdout",
     "output_type": "stream",
     "text": [
      "The gradient (b1):  4.313679735499569\n",
      "The constant (b0):  -17.562508324518234\n"
     ]
    },
    {
     "data": {
      "image/png": "[encoded data removed]",
      "text/plain": [
       "<Figure size 432x288 with 1 Axes>"
      ]
     },
     "metadata": {
      "needs_background": "light"
     },
     "output_type": "display_data"
    }
   ],
   "source": [
    "#enter code to show scatterplot\n",
    "x = basketBallData[\"GP\"].to_numpy()\n",
    "y = basketBallData[\"FGM\"].to_numpy()\n",
    "\n",
    "#plt.scatter(x,y)\n",
    "#plt.show\n",
    "\n",
    "sx2 = x.var()\n",
    "mxy = np.array(x*y).mean()\n",
    "b1=(mxy-x.mean()*y.mean())/sx2\n",
    "print(\"The gradient (b1): \", b1)\n",
    "\n",
    "b0=y.mean()-b1*x.mean()\n",
    "print(\"The constant (b0): \",b0)\n",
    "\n",
    "\n",
    "myPrediction = b0 + b1*x\n",
    "plt.scatter(x,y, color='blue')\n",
    "plt.plot(x,myPrediction, color='red')\n",
    "plt.show()\n"
   ]
  },
  {
   "cell_type": "markdown",
   "metadata": {},
   "source": [
    "As can be seen from the scatterplot there seems to be a <span style='background:yellow'>\\<describe if there is a clear or hardly any, or.... relationship between the two\\></span>"
   ]
  },
  {
   "cell_type": "markdown",
   "metadata": {},
   "source": [
    "Now that we have a visual inspection its time to perform a bivariate regression (twice, once for each x variable). \n",
    "\n",
    "We first split the data into training and testing data. We start again with the x of <span style='background:yellow'>\\<name of your first x variable></span>:"
   ]
  },
  {
   "cell_type": "code",
   "execution_count": 26,
   "metadata": {},
   "outputs": [
    {
     "name": "stdout",
     "output_type": "stream",
     "text": [
      "shape of x: (53949,)\n",
      "shape after reshape: (53949, 1)\n",
      "The slope (b1):  4.313679735499557\n",
      "The intercept (b0):  -17.562508324517864\n",
      "Mean Absolute Error: 41.89184952822014\n",
      "Mean Squared Error:  4104.138633175287\n",
      "Root Mean Squared Error:  64.06355151859196\n",
      "Coefficient of determination:  0.5909216791997005\n"
     ]
    }
   ],
   "source": [
    "#add code to create training and testing data\n",
    "xRes = x.reshape((-1,1))\n",
    "yRes = y.reshape((-1,1))\n",
    "\n",
    "print('shape of x:', x.shape)\n",
    "print('shape after reshape:' ,xRes.shape)\n",
    "xRes\n",
    "\n",
    "model = LinearRegression().fit(xRes,yRes)\n",
    "yPred = model.predict(xRes)\n",
    "\n",
    "b1V2=model.coef_[0]\n",
    "print('The slope (b1): ',b1V2[0])\n",
    "b0V2=model.intercept_\n",
    "print('The intercept (b0): ',b0V2[0])\n",
    "MAE2=metrics.mean_absolute_error(yRes,yPred)\n",
    "print('Mean Absolute Error:', MAE2)\n",
    "MSE2=metrics.mean_squared_error(yRes,yPred)\n",
    "print('Mean Squared Error: ', MSE2)\n",
    "RMSE2=metrics.mean_squared_error(yRes,yPred, squared=False)\n",
    "print('Root Mean Squared Error: ', RMSE2)\n",
    "det2=metrics.r2_score(yRes,yPred)\n",
    "print('Coefficient of determination: ',det2)\n"
   ]
  },
  {
   "cell_type": "markdown",
   "metadata": {},
   "source": [
    "Now setup the linear regression model and fit our training data:"
   ]
  },
  {
   "cell_type": "code",
   "execution_count": null,
   "metadata": {},
   "outputs": [],
   "source": [
    "#add code to create linear regression model\n"
   ]
  },
  {
   "cell_type": "markdown",
   "metadata": {},
   "source": [
    "Lets see how well the model performed with the training data, by visualisation:"
   ]
  },
  {
   "cell_type": "code",
   "execution_count": null,
   "metadata": {},
   "outputs": [],
   "source": [
    "#add code to show scatterplot with the regression line\n"
   ]
  },
  {
   "cell_type": "markdown",
   "metadata": {},
   "source": [
    "<span style='background:yellow'>\\<describe how well the line describes the data></span>\n",
    "\n",
    "Besides from a visual, we can also use some metrics."
   ]
  },
  {
   "cell_type": "code",
   "execution_count": null,
   "metadata": {},
   "outputs": [],
   "source": [
    "#code to show the results of the statsmodels.api summary\n"
   ]
  },
  {
   "cell_type": "markdown",
   "metadata": {},
   "source": [
    "<span style='background:yellow'>\\<explain in your own words what the R-squared means and indicates, and the two numbers in the column of coef></span>\n",
    "\n",
    "We can also check how well our model worked by using the testing data:"
   ]
  },
  {
   "cell_type": "code",
   "execution_count": null,
   "metadata": {},
   "outputs": [],
   "source": [
    "#code to show the accuracy score\n"
   ]
  },
  {
   "cell_type": "markdown",
   "metadata": {},
   "source": [
    "<span style='background:yellow'>\\<explain in your own words what this number means></span>"
   ]
  },
  {
   "cell_type": "markdown",
   "metadata": {},
   "source": [
    "Now we repeat all these steps, but using the other x-variable: <span style='background:yellow'>/< your other x-variable name /></span>."
   ]
  },
  {
   "cell_type": "markdown",
   "metadata": {},
   "source": [
    "## 2.2. The Second Bivariate Regression\n",
    "\n",
    "In this section we are going to repeat all the steps from the previous one, but now we are going to try to predict <span style='background:yellow'> < your y-variable name > </span>. based on <span style='background:yellow'> <your other x-variable name\\>  </span>\n",
    "\n",
    "Below a visualisation of these two:"
   ]
  },
  {
   "cell_type": "code",
   "execution_count": null,
   "metadata": {},
   "outputs": [],
   "source": [
    "#enter code to show scatterplot\n"
   ]
  },
  {
   "cell_type": "markdown",
   "metadata": {},
   "source": [
    "As can be seen from the scatterplot there seems to be a <span style='background:yellow'>\\<describe if there is a clear or hardly any, or.... relationship between the two\\></span>\n",
    "\n",
    "Creating again the training/testing sets and the model itself:"
   ]
  },
  {
   "cell_type": "code",
   "execution_count": null,
   "metadata": {},
   "outputs": [],
   "source": [
    "#add code here to split the data and the model itself:\n"
   ]
  },
  {
   "cell_type": "markdown",
   "metadata": {},
   "source": [
    "Now lets see how this performs:"
   ]
  },
  {
   "cell_type": "code",
   "execution_count": null,
   "metadata": {},
   "outputs": [],
   "source": [
    "#add code to show both the scatterplot with the regression line, and the model summary results.\n"
   ]
  },
  {
   "cell_type": "markdown",
   "metadata": {},
   "source": [
    "<span style='background:yellow'>\\<describe the outcome as before, and now also compare the results with the results of section 2.1.></span>"
   ]
  },
  {
   "cell_type": "markdown",
   "metadata": {},
   "source": [
    "# 3. Multivariate Regression Analysis"
   ]
  },
  {
   "cell_type": "markdown",
   "metadata": {},
   "source": [
    "In the previous chapter two separate bivariate regression analyses were performed to predict <span style='background:yellow'>\\< your y variable name></span> based on <span style='background:yellow'>\\<your first x-variable name></span> and <span style='background:yellow'>\\<your second x-variable name></span> separately. In this chapter we are going to look if we can make an even better prediction if we try to predict <span style='background:yellow'>\\<your y variable name></span> based on BOTH of these together."
   ]
  },
  {
   "cell_type": "markdown",
   "metadata": {},
   "source": [
    "We begin with combining the two x's into one X:"
   ]
  },
  {
   "cell_type": "code",
   "execution_count": null,
   "metadata": {},
   "outputs": [],
   "source": [
    "#add code here to add the two x's into one\n"
   ]
  },
  {
   "cell_type": "markdown",
   "metadata": {},
   "source": [
    "To actually perform the regression now, we can use the exact same method as before with the bivariate one:"
   ]
  },
  {
   "cell_type": "code",
   "execution_count": null,
   "metadata": {},
   "outputs": [],
   "source": [
    "#code to split the data, and create & fit the model:\n"
   ]
  },
  {
   "cell_type": "markdown",
   "metadata": {},
   "source": [
    "A visualisation becomes now more difficult, since it would have to be in 3D. (0.5 bonus if you manage to do this). However, the model summary still works:"
   ]
  },
  {
   "cell_type": "code",
   "execution_count": null,
   "metadata": {},
   "outputs": [],
   "source": [
    "#code to show model summary and accuracy score\n"
   ]
  },
  {
   "cell_type": "markdown",
   "metadata": {},
   "source": [
    "Instead of looking at the R-square, we should be looking at the adjusted R-square. <span style='background:yellow'>< explain why></span>."
   ]
  },
  {
   "cell_type": "markdown",
   "metadata": {},
   "source": [
    "We also see more rows now in the 'coef' column. <span style='background:yellow'>\\<explain why this is></span>."
   ]
  },
  {
   "cell_type": "markdown",
   "metadata": {},
   "source": [
    "<span style='background:yellow'>\\<explain how this model performs compared to the other two from chapter 2/></span>"
   ]
  },
  {
   "cell_type": "markdown",
   "metadata": {},
   "source": [
    "A last thing to do would be to check the VIF's:"
   ]
  },
  {
   "cell_type": "code",
   "execution_count": null,
   "metadata": {},
   "outputs": [],
   "source": [
    "#add code here to see the VIF's\n"
   ]
  },
  {
   "cell_type": "markdown",
   "metadata": {},
   "source": [
    "<span style='background:yellow'>\\<explain what to look for in the results></span>"
   ]
  },
  {
   "cell_type": "markdown",
   "metadata": {},
   "source": [
    "<font size=\"5\"><center>-----Chapters 1 to 3 are required to be fully completed to get a 60, the next few chapters will give a +10 for each chapter.<br> \n",
    "    However the template is not as extensive as the previous chapters. <br>\n",
    "    You can select any chapter below the order is not fixed (you can leave the others empty)<br>\n",
    "    You don't have to use the same dataset for the chapters below. If it helps in clarification you can use another dataset, but then make sure to include it as you submit.\n",
    "    ----</center></font>"
   ]
  },
  {
   "cell_type": "markdown",
   "metadata": {},
   "source": [
    "# 4. Selecting Input Variables"
   ]
  },
  {
   "cell_type": "markdown",
   "metadata": {},
   "source": [
    "In chapter 3 we improved on the model to predict <span style='background:yellow'>\\<your y-variable name></span> by using two input variables. We can actually add as many input variables as we like. Lets explore this by simply first adding ALL other variables as X."
   ]
  },
  {
   "cell_type": "code",
   "execution_count": null,
   "metadata": {},
   "outputs": [],
   "source": [
    "#add code to create an X variable using all variables, except of course your y variable:\n"
   ]
  },
  {
   "cell_type": "markdown",
   "metadata": {},
   "source": [
    "We could first have a quick look at the results of this model:"
   ]
  },
  {
   "cell_type": "code",
   "execution_count": null,
   "metadata": {},
   "outputs": [],
   "source": [
    "#add code here to model and fit the new X with the y, and show the model summary and accuracy score:\n"
   ]
  },
  {
   "cell_type": "markdown",
   "metadata": {},
   "source": [
    "However we have to be careful with those VIF's. So lets see:"
   ]
  },
  {
   "cell_type": "code",
   "execution_count": null,
   "metadata": {},
   "outputs": [],
   "source": [
    "#add code here to show the VIF's."
   ]
  },
  {
   "cell_type": "markdown",
   "metadata": {},
   "source": [
    "We need to remove the ones with a VIF higher than 10, but each time we remove one, the VIF's change. Lets create a small Python function that removes the highest VIF each time, until none of them are anymore above 10."
   ]
  },
  {
   "cell_type": "code",
   "execution_count": null,
   "metadata": {},
   "outputs": [],
   "source": [
    "#add your function code here.\n"
   ]
  },
  {
   "cell_type": "markdown",
   "metadata": {},
   "source": [
    "Lets run the function, and then use the result to create a new model:"
   ]
  },
  {
   "cell_type": "code",
   "execution_count": null,
   "metadata": {},
   "outputs": [],
   "source": [
    "#add code here that runs the just made function, and uses the result for the new model:\n"
   ]
  },
  {
   "cell_type": "markdown",
   "metadata": {},
   "source": [
    "We might also keep an eye out on that adjusted R-square. Iterate over all possible combinations of input variables we have remaining, and see which combination yields the highest adjusted R-square."
   ]
  },
  {
   "cell_type": "code",
   "execution_count": null,
   "metadata": {},
   "outputs": [],
   "source": [
    "#add your code here.\n"
   ]
  },
  {
   "cell_type": "markdown",
   "metadata": {},
   "source": [
    "Finally lets see how this new model performs:"
   ]
  },
  {
   "cell_type": "code",
   "execution_count": null,
   "metadata": {},
   "outputs": [],
   "source": [
    "#add code here to model and fit the new X with the y, and show the model summary and accuracy score:\n"
   ]
  },
  {
   "cell_type": "markdown",
   "metadata": {},
   "source": [
    "<span style='background:yellow'>\\<interpret the result, how well is the model now compared to our previous models?></span>"
   ]
  },
  {
   "cell_type": "markdown",
   "metadata": {},
   "source": [
    "# 5. Another splitting method"
   ]
  },
  {
   "cell_type": "markdown",
   "metadata": {},
   "source": [
    "To obtain the the test and training data we used the so-called hold-out method. However other methods also exist for this. In this chapter an explanation **and practical example** is given for the \\<your splitting method>."
   ]
  },
  {
   "cell_type": "markdown",
   "metadata": {},
   "source": [
    "<span style='background:yellow'>\\<explain THOROUGHLY the method. How does it work in principal, how is it different from the hold-out method?. You will need more cells than the ones below!></span>"
   ]
  },
  {
   "cell_type": "code",
   "execution_count": null,
   "metadata": {},
   "outputs": [],
   "source": [
    "#code using your method\n"
   ]
  },
  {
   "cell_type": "markdown",
   "metadata": {},
   "source": [
    "<span style='background:yellow'>\\<explain the result></span>"
   ]
  },
  {
   "cell_type": "markdown",
   "metadata": {},
   "source": [
    "# 6. A New Technique"
   ]
  },
  {
   "cell_type": "markdown",
   "metadata": {},
   "source": [
    "So far, we only used the 'basic' simple linear regression (the bivariate) and multiple linear regression. However, there are many variations, as also seen on the slides. In this chapter the \\<your regression method> is explained."
   ]
  },
  {
   "cell_type": "markdown",
   "metadata": {},
   "source": [
    "<span style='background:yellow'>\\<explain THOROUGHLY the method. How does it work, what makes it different from the regular linear regression, in which situations might this be optimal. You will need more cells than the ones below></span>"
   ]
  },
  {
   "cell_type": "code",
   "execution_count": null,
   "metadata": {},
   "outputs": [],
   "source": [
    "#code using your method\n"
   ]
  },
  {
   "cell_type": "markdown",
   "metadata": {},
   "source": [
    "# 7. Surprise"
   ]
  },
  {
   "cell_type": "markdown",
   "metadata": {},
   "source": [
    "There is a lot written about regression analysis, and although a lot was discussed during the lecture, that was just a tip of an iceberg. One thing for example that was not mentioned is \\<start explaining from here....>"
   ]
  },
  {
   "cell_type": "markdown",
   "metadata": {},
   "source": [
    "----this chapter is for the 10. It should be something substantial, related to regression and not already discussed----\n",
    "\n",
    "---examples could be an explanation on the Gradient Descent approach to linear programming, or using Matrix Algebra to obtain the linear regression equation----"
   ]
  },
  {
   "cell_type": "code",
   "execution_count": null,
   "metadata": {},
   "outputs": [],
   "source": []
  }
 ],
 "metadata": {
  "interpreter": {
   "hash": "ccdfb8179903e6d4ca0c7ee96f14983c37dff74e1281d286af3ec80a977650ab"
  },
  "kernelspec": {
   "display_name": "Python 3.10.4 64-bit",
   "language": "python",
   "name": "python3"
  },
  "language_info": {
   "codemirror_mode": {
    "name": "ipython",
    "version": 3
   },
   "file_extension": ".py",
   "mimetype": "text/x-python",
   "name": "python",
   "nbconvert_exporter": "python",
   "pygments_lexer": "ipython3",
   "version": "3.10.4"
  }
 },
 "nbformat": 4,
 "nbformat_minor": 4
}
