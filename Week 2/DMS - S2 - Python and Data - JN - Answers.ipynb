{
 "cells": [
  {
   "cell_type": "markdown",
   "metadata": {},
   "source": [
    "# Data Mining and Statistics\n",
    "## Session 2 - Data and Python - ANSWERS\n",
    "*Peter Stikker - Haarlem, the Netherlands - v1.1*"
   ]
  },
  {
   "cell_type": "markdown",
   "metadata": {},
   "source": [
    "----"
   ]
  },
  {
   "cell_type": "code",
   "execution_count": 1,
   "metadata": {},
   "outputs": [
    {
     "name": "stdout",
     "output_type": "stream",
     "text": [
      "pandas already installed, only imported\n",
      "numpy already installed, only imported\n",
      "matplotlib already installed, only imported\n"
     ]
    }
   ],
   "source": [
    "try:\n",
    "    import pandas as pd\n",
    "    print('pandas already installed, only imported')\n",
    "except:\n",
    "    !pip install pandas\n",
    "    import pandas as pd\n",
    "    print('pandas was not installed, installed and imported')\n",
    "\n",
    "try:\n",
    "    import numpy as np\n",
    "    print('numpy already installed, only imported')\n",
    "except:\n",
    "    !pip install numpy\n",
    "    import numpy as np\n",
    "    print('numpy was not installed, installed and imported')   \n",
    "    \n",
    "try:\n",
    "    import matplotlib.pyplot as plt\n",
    "    print('matplotlib already installed, only imported')\n",
    "except:\n",
    "    !pip install matplotlib\n",
    "    import matplotlib.pyplot as plt\n",
    "    print('matplotlib was not installed, installed and imported')"
   ]
  },
  {
   "cell_type": "markdown",
   "metadata": {},
   "source": [
    "## 2.3. Exercise\n",
    "\n",
    "For this exercise we'll use a datafile that actually comes from another program: R. To understand what the variables mean, you might want to check the documentation about the file, available <a href=\"https://www.rdocumentation.org/packages/datasets/versions/3.6.2/topics/ChickWeight\">here</a>.\n",
    "\n",
    "Shout-out to Mr. Van der Meer for the inspiration for this exercise.\n",
    "\n",
    "*a) Load the chickweight.csv file as a pandas dataframe, and show the first five records*"
   ]
  },
  {
   "cell_type": "code",
   "execution_count": 2,
   "metadata": {},
   "outputs": [
    {
     "data": {
      "text/html": [
       "<div>\n",
       "<style scoped>\n",
       "    .dataframe tbody tr th:only-of-type {\n",
       "        vertical-align: middle;\n",
       "    }\n",
       "\n",
       "    .dataframe tbody tr th {\n",
       "        vertical-align: top;\n",
       "    }\n",
       "\n",
       "    .dataframe thead th {\n",
       "        text-align: right;\n",
       "    }\n",
       "</style>\n",
       "<table border=\"1\" class=\"dataframe\">\n",
       "  <thead>\n",
       "    <tr style=\"text-align: right;\">\n",
       "      <th></th>\n",
       "      <th>rownum</th>\n",
       "      <th>weight</th>\n",
       "      <th>time</th>\n",
       "      <th>chick</th>\n",
       "      <th>diet</th>\n",
       "    </tr>\n",
       "  </thead>\n",
       "  <tbody>\n",
       "    <tr>\n",
       "      <th>0</th>\n",
       "      <td>1</td>\n",
       "      <td>42</td>\n",
       "      <td>0</td>\n",
       "      <td>1</td>\n",
       "      <td>1</td>\n",
       "    </tr>\n",
       "    <tr>\n",
       "      <th>1</th>\n",
       "      <td>2</td>\n",
       "      <td>51</td>\n",
       "      <td>2</td>\n",
       "      <td>1</td>\n",
       "      <td>1</td>\n",
       "    </tr>\n",
       "    <tr>\n",
       "      <th>2</th>\n",
       "      <td>3</td>\n",
       "      <td>59</td>\n",
       "      <td>4</td>\n",
       "      <td>1</td>\n",
       "      <td>1</td>\n",
       "    </tr>\n",
       "    <tr>\n",
       "      <th>3</th>\n",
       "      <td>4</td>\n",
       "      <td>64</td>\n",
       "      <td>6</td>\n",
       "      <td>1</td>\n",
       "      <td>1</td>\n",
       "    </tr>\n",
       "    <tr>\n",
       "      <th>4</th>\n",
       "      <td>5</td>\n",
       "      <td>76</td>\n",
       "      <td>8</td>\n",
       "      <td>1</td>\n",
       "      <td>1</td>\n",
       "    </tr>\n",
       "  </tbody>\n",
       "</table>\n",
       "</div>"
      ],
      "text/plain": [
       "   rownum  weight  time  chick  diet\n",
       "0       1      42     0      1     1\n",
       "1       2      51     2      1     1\n",
       "2       3      59     4      1     1\n",
       "3       4      64     6      1     1\n",
       "4       5      76     8      1     1"
      ]
     },
     "execution_count": 2,
     "metadata": {},
     "output_type": "execute_result"
    }
   ],
   "source": [
    "chicken_df = pd.read_csv(\"chickweight.csv\", sep=',').rename(str.lower, axis='columns') \n",
    "chicken_df.head()"
   ]
  },
  {
   "cell_type": "markdown",
   "metadata": {},
   "source": [
    "*b) Show from row numbers 10 to 15 the weight, and diet*"
   ]
  },
  {
   "cell_type": "code",
   "execution_count": 3,
   "metadata": {},
   "outputs": [
    {
     "data": {
      "text/html": [
       "<div>\n",
       "<style scoped>\n",
       "    .dataframe tbody tr th:only-of-type {\n",
       "        vertical-align: middle;\n",
       "    }\n",
       "\n",
       "    .dataframe tbody tr th {\n",
       "        vertical-align: top;\n",
       "    }\n",
       "\n",
       "    .dataframe thead th {\n",
       "        text-align: right;\n",
       "    }\n",
       "</style>\n",
       "<table border=\"1\" class=\"dataframe\">\n",
       "  <thead>\n",
       "    <tr style=\"text-align: right;\">\n",
       "      <th></th>\n",
       "      <th>weight</th>\n",
       "      <th>diet</th>\n",
       "    </tr>\n",
       "  </thead>\n",
       "  <tbody>\n",
       "    <tr>\n",
       "      <th>10</th>\n",
       "      <td>199</td>\n",
       "      <td>1</td>\n",
       "    </tr>\n",
       "    <tr>\n",
       "      <th>11</th>\n",
       "      <td>205</td>\n",
       "      <td>1</td>\n",
       "    </tr>\n",
       "    <tr>\n",
       "      <th>12</th>\n",
       "      <td>40</td>\n",
       "      <td>1</td>\n",
       "    </tr>\n",
       "    <tr>\n",
       "      <th>13</th>\n",
       "      <td>49</td>\n",
       "      <td>1</td>\n",
       "    </tr>\n",
       "    <tr>\n",
       "      <th>14</th>\n",
       "      <td>58</td>\n",
       "      <td>1</td>\n",
       "    </tr>\n",
       "    <tr>\n",
       "      <th>15</th>\n",
       "      <td>72</td>\n",
       "      <td>1</td>\n",
       "    </tr>\n",
       "  </tbody>\n",
       "</table>\n",
       "</div>"
      ],
      "text/plain": [
       "    weight  diet\n",
       "10     199     1\n",
       "11     205     1\n",
       "12      40     1\n",
       "13      49     1\n",
       "14      58     1\n",
       "15      72     1"
      ]
     },
     "execution_count": 3,
     "metadata": {},
     "output_type": "execute_result"
    }
   ],
   "source": [
    "chicken_df.iloc[10:16, [1,4]]"
   ]
  },
  {
   "cell_type": "markdown",
   "metadata": {},
   "source": [
    "*c) Show the fields/columns weight and time of chick 1.*"
   ]
  },
  {
   "cell_type": "code",
   "execution_count": 4,
   "metadata": {},
   "outputs": [
    {
     "data": {
      "text/html": [
       "<div>\n",
       "<style scoped>\n",
       "    .dataframe tbody tr th:only-of-type {\n",
       "        vertical-align: middle;\n",
       "    }\n",
       "\n",
       "    .dataframe tbody tr th {\n",
       "        vertical-align: top;\n",
       "    }\n",
       "\n",
       "    .dataframe thead th {\n",
       "        text-align: right;\n",
       "    }\n",
       "</style>\n",
       "<table border=\"1\" class=\"dataframe\">\n",
       "  <thead>\n",
       "    <tr style=\"text-align: right;\">\n",
       "      <th></th>\n",
       "      <th>weight</th>\n",
       "      <th>time</th>\n",
       "    </tr>\n",
       "  </thead>\n",
       "  <tbody>\n",
       "    <tr>\n",
       "      <th>0</th>\n",
       "      <td>42</td>\n",
       "      <td>0</td>\n",
       "    </tr>\n",
       "    <tr>\n",
       "      <th>1</th>\n",
       "      <td>51</td>\n",
       "      <td>2</td>\n",
       "    </tr>\n",
       "    <tr>\n",
       "      <th>2</th>\n",
       "      <td>59</td>\n",
       "      <td>4</td>\n",
       "    </tr>\n",
       "    <tr>\n",
       "      <th>3</th>\n",
       "      <td>64</td>\n",
       "      <td>6</td>\n",
       "    </tr>\n",
       "    <tr>\n",
       "      <th>4</th>\n",
       "      <td>76</td>\n",
       "      <td>8</td>\n",
       "    </tr>\n",
       "    <tr>\n",
       "      <th>5</th>\n",
       "      <td>93</td>\n",
       "      <td>10</td>\n",
       "    </tr>\n",
       "    <tr>\n",
       "      <th>6</th>\n",
       "      <td>106</td>\n",
       "      <td>12</td>\n",
       "    </tr>\n",
       "    <tr>\n",
       "      <th>7</th>\n",
       "      <td>125</td>\n",
       "      <td>14</td>\n",
       "    </tr>\n",
       "    <tr>\n",
       "      <th>8</th>\n",
       "      <td>149</td>\n",
       "      <td>16</td>\n",
       "    </tr>\n",
       "    <tr>\n",
       "      <th>9</th>\n",
       "      <td>171</td>\n",
       "      <td>18</td>\n",
       "    </tr>\n",
       "    <tr>\n",
       "      <th>10</th>\n",
       "      <td>199</td>\n",
       "      <td>20</td>\n",
       "    </tr>\n",
       "    <tr>\n",
       "      <th>11</th>\n",
       "      <td>205</td>\n",
       "      <td>21</td>\n",
       "    </tr>\n",
       "  </tbody>\n",
       "</table>\n",
       "</div>"
      ],
      "text/plain": [
       "    weight  time\n",
       "0       42     0\n",
       "1       51     2\n",
       "2       59     4\n",
       "3       64     6\n",
       "4       76     8\n",
       "5       93    10\n",
       "6      106    12\n",
       "7      125    14\n",
       "8      149    16\n",
       "9      171    18\n",
       "10     199    20\n",
       "11     205    21"
      ]
     },
     "execution_count": 4,
     "metadata": {},
     "output_type": "execute_result"
    }
   ],
   "source": [
    "chicken_df[chicken_df['chick']==1].iloc[:,1:3]"
   ]
  },
  {
   "cell_type": "markdown",
   "metadata": {},
   "source": [
    "*d) Determine the maximum weight for each diet*"
   ]
  },
  {
   "cell_type": "code",
   "execution_count": 5,
   "metadata": {},
   "outputs": [
    {
     "data": {
      "text/plain": [
       "diet\n",
       "1    305\n",
       "2    331\n",
       "3    373\n",
       "4    322\n",
       "Name: weight, dtype: int64"
      ]
     },
     "execution_count": 5,
     "metadata": {},
     "output_type": "execute_result"
    }
   ],
   "source": [
    "max_wght_diet = (\n",
    "    chicken_df\n",
    "    .groupby(\"diet\")['weight']\n",
    "    .max()\n",
    ")\n",
    "\n",
    "max_wght_diet"
   ]
  },
  {
   "cell_type": "markdown",
   "metadata": {},
   "source": [
    "*e) Determine the max time per chicken. Sort the results low to high. Which chickens seems not to have made it to the last time of measuring?*"
   ]
  },
  {
   "cell_type": "code",
   "execution_count": 6,
   "metadata": {},
   "outputs": [
    {
     "data": {
      "text/plain": [
       "chick\n",
       "18     2\n",
       "16    12\n",
       "15    14\n",
       "44    18\n",
       "8     20\n",
       "1     21\n",
       "30    21\n",
       "31    21\n",
       "32    21\n",
       "33    21\n",
       "34    21\n",
       "35    21\n",
       "36    21\n",
       "38    21\n",
       "29    21\n",
       "39    21\n",
       "40    21\n",
       "41    21\n",
       "42    21\n",
       "43    21\n",
       "45    21\n",
       "46    21\n",
       "47    21\n",
       "48    21\n",
       "37    21\n",
       "28    21\n",
       "25    21\n",
       "26    21\n",
       "2     21\n",
       "3     21\n",
       "4     21\n",
       "5     21\n",
       "6     21\n",
       "7     21\n",
       "9     21\n",
       "10    21\n",
       "11    21\n",
       "27    21\n",
       "12    21\n",
       "14    21\n",
       "17    21\n",
       "19    21\n",
       "20    21\n",
       "21    21\n",
       "22    21\n",
       "23    21\n",
       "24    21\n",
       "49    21\n",
       "13    21\n",
       "50    21\n",
       "Name: time, dtype: int64"
      ]
     },
     "execution_count": 6,
     "metadata": {},
     "output_type": "execute_result"
    }
   ],
   "source": [
    "chicken_df.groupby(\"chick\")['time'].max().sort_values()"
   ]
  },
  {
   "cell_type": "markdown",
   "metadata": {},
   "source": [
    "*f) What are the chick numbers of those with the maximum weight for each diet? (note you might need to search the internet a bit for a solution, hint: transform...)*"
   ]
  },
  {
   "cell_type": "markdown",
   "metadata": {},
   "source": [
    "We can easily obtain the maximum weight per diet, by using the groupby:"
   ]
  },
  {
   "cell_type": "code",
   "execution_count": 7,
   "metadata": {},
   "outputs": [
    {
     "data": {
      "text/plain": [
       "diet\n",
       "1    305\n",
       "2    331\n",
       "3    373\n",
       "4    322\n",
       "Name: weight, dtype: int64"
      ]
     },
     "execution_count": 7,
     "metadata": {},
     "output_type": "execute_result"
    }
   ],
   "source": [
    "chicken_df.groupby('diet')['weight'].max()"
   ]
  },
  {
   "cell_type": "markdown",
   "metadata": {},
   "source": [
    "But, we also want the chick number this belongs to. One approach could be to add the max weight of the diet to the dataframe:"
   ]
  },
  {
   "cell_type": "code",
   "execution_count": 8,
   "metadata": {},
   "outputs": [
    {
     "data": {
      "text/html": [
       "<div>\n",
       "<style scoped>\n",
       "    .dataframe tbody tr th:only-of-type {\n",
       "        vertical-align: middle;\n",
       "    }\n",
       "\n",
       "    .dataframe tbody tr th {\n",
       "        vertical-align: top;\n",
       "    }\n",
       "\n",
       "    .dataframe thead th {\n",
       "        text-align: right;\n",
       "    }\n",
       "</style>\n",
       "<table border=\"1\" class=\"dataframe\">\n",
       "  <thead>\n",
       "    <tr style=\"text-align: right;\">\n",
       "      <th></th>\n",
       "      <th>rownum</th>\n",
       "      <th>weight</th>\n",
       "      <th>time</th>\n",
       "      <th>chick</th>\n",
       "      <th>diet</th>\n",
       "      <th>max weight</th>\n",
       "    </tr>\n",
       "  </thead>\n",
       "  <tbody>\n",
       "    <tr>\n",
       "      <th>0</th>\n",
       "      <td>1</td>\n",
       "      <td>42</td>\n",
       "      <td>0</td>\n",
       "      <td>1</td>\n",
       "      <td>1</td>\n",
       "      <td>305</td>\n",
       "    </tr>\n",
       "    <tr>\n",
       "      <th>1</th>\n",
       "      <td>2</td>\n",
       "      <td>51</td>\n",
       "      <td>2</td>\n",
       "      <td>1</td>\n",
       "      <td>1</td>\n",
       "      <td>305</td>\n",
       "    </tr>\n",
       "    <tr>\n",
       "      <th>2</th>\n",
       "      <td>3</td>\n",
       "      <td>59</td>\n",
       "      <td>4</td>\n",
       "      <td>1</td>\n",
       "      <td>1</td>\n",
       "      <td>305</td>\n",
       "    </tr>\n",
       "    <tr>\n",
       "      <th>3</th>\n",
       "      <td>4</td>\n",
       "      <td>64</td>\n",
       "      <td>6</td>\n",
       "      <td>1</td>\n",
       "      <td>1</td>\n",
       "      <td>305</td>\n",
       "    </tr>\n",
       "    <tr>\n",
       "      <th>4</th>\n",
       "      <td>5</td>\n",
       "      <td>76</td>\n",
       "      <td>8</td>\n",
       "      <td>1</td>\n",
       "      <td>1</td>\n",
       "      <td>305</td>\n",
       "    </tr>\n",
       "  </tbody>\n",
       "</table>\n",
       "</div>"
      ],
      "text/plain": [
       "   rownum  weight  time  chick  diet  max weight\n",
       "0       1      42     0      1     1         305\n",
       "1       2      51     2      1     1         305\n",
       "2       3      59     4      1     1         305\n",
       "3       4      64     6      1     1         305\n",
       "4       5      76     8      1     1         305"
      ]
     },
     "execution_count": 8,
     "metadata": {},
     "output_type": "execute_result"
    }
   ],
   "source": [
    "max_weight = chicken_df.groupby('diet')['weight'].max().rename(\"max weight\").reset_index()\n",
    "chicken_df2 = chicken_df.merge(max_weight)\n",
    "chicken_df2.head()"
   ]
  },
  {
   "cell_type": "markdown",
   "metadata": {},
   "source": [
    "And then only select those, where the weight is equal to the max weight:"
   ]
  },
  {
   "cell_type": "code",
   "execution_count": 9,
   "metadata": {},
   "outputs": [
    {
     "data": {
      "text/html": [
       "<div>\n",
       "<style scoped>\n",
       "    .dataframe tbody tr th:only-of-type {\n",
       "        vertical-align: middle;\n",
       "    }\n",
       "\n",
       "    .dataframe tbody tr th {\n",
       "        vertical-align: top;\n",
       "    }\n",
       "\n",
       "    .dataframe thead th {\n",
       "        text-align: right;\n",
       "    }\n",
       "</style>\n",
       "<table border=\"1\" class=\"dataframe\">\n",
       "  <thead>\n",
       "    <tr style=\"text-align: right;\">\n",
       "      <th></th>\n",
       "      <th>rownum</th>\n",
       "      <th>weight</th>\n",
       "      <th>time</th>\n",
       "      <th>chick</th>\n",
       "      <th>diet</th>\n",
       "      <th>max weight</th>\n",
       "    </tr>\n",
       "  </thead>\n",
       "  <tbody>\n",
       "    <tr>\n",
       "      <th>83</th>\n",
       "      <td>84</td>\n",
       "      <td>305</td>\n",
       "      <td>21</td>\n",
       "      <td>7</td>\n",
       "      <td>1</td>\n",
       "      <td>305</td>\n",
       "    </tr>\n",
       "    <tr>\n",
       "      <th>231</th>\n",
       "      <td>232</td>\n",
       "      <td>331</td>\n",
       "      <td>21</td>\n",
       "      <td>21</td>\n",
       "      <td>2</td>\n",
       "      <td>331</td>\n",
       "    </tr>\n",
       "    <tr>\n",
       "      <th>399</th>\n",
       "      <td>400</td>\n",
       "      <td>373</td>\n",
       "      <td>21</td>\n",
       "      <td>35</td>\n",
       "      <td>3</td>\n",
       "      <td>373</td>\n",
       "    </tr>\n",
       "    <tr>\n",
       "      <th>553</th>\n",
       "      <td>554</td>\n",
       "      <td>322</td>\n",
       "      <td>21</td>\n",
       "      <td>48</td>\n",
       "      <td>4</td>\n",
       "      <td>322</td>\n",
       "    </tr>\n",
       "  </tbody>\n",
       "</table>\n",
       "</div>"
      ],
      "text/plain": [
       "     rownum  weight  time  chick  diet  max weight\n",
       "83       84     305    21      7     1         305\n",
       "231     232     331    21     21     2         331\n",
       "399     400     373    21     35     3         373\n",
       "553     554     322    21     48     4         322"
      ]
     },
     "execution_count": 9,
     "metadata": {},
     "output_type": "execute_result"
    }
   ],
   "source": [
    "chicken_df2[np.where(chicken_df2['weight'] == chicken_df2['max weight'], True, False)]"
   ]
  },
  {
   "cell_type": "markdown",
   "metadata": {},
   "source": [
    "With **'transform'** we can do this slightly easier."
   ]
  },
  {
   "cell_type": "code",
   "execution_count": 10,
   "metadata": {},
   "outputs": [
    {
     "data": {
      "text/plain": [
       "0      305\n",
       "1      305\n",
       "2      305\n",
       "3      305\n",
       "4      305\n",
       "      ... \n",
       "573    322\n",
       "574    322\n",
       "575    322\n",
       "576    322\n",
       "577    322\n",
       "Name: weight, Length: 578, dtype: int64"
      ]
     },
     "execution_count": 10,
     "metadata": {},
     "output_type": "execute_result"
    }
   ],
   "source": [
    "chicken_df.groupby('diet')['weight'].transform(max)"
   ]
  },
  {
   "cell_type": "markdown",
   "metadata": {},
   "source": [
    "It performs the group by, then determined the maximum for each group, and finally shows for each chicken what the maximum weight was of the diet group it belongs to.\n",
    "Again, we'll need only the ones where this is actually equal to the weight of the chicken, so:"
   ]
  },
  {
   "cell_type": "code",
   "execution_count": 11,
   "metadata": {},
   "outputs": [
    {
     "data": {
      "text/html": [
       "<div>\n",
       "<style scoped>\n",
       "    .dataframe tbody tr th:only-of-type {\n",
       "        vertical-align: middle;\n",
       "    }\n",
       "\n",
       "    .dataframe tbody tr th {\n",
       "        vertical-align: top;\n",
       "    }\n",
       "\n",
       "    .dataframe thead th {\n",
       "        text-align: right;\n",
       "    }\n",
       "</style>\n",
       "<table border=\"1\" class=\"dataframe\">\n",
       "  <thead>\n",
       "    <tr style=\"text-align: right;\">\n",
       "      <th></th>\n",
       "      <th>rownum</th>\n",
       "      <th>weight</th>\n",
       "      <th>time</th>\n",
       "      <th>chick</th>\n",
       "      <th>diet</th>\n",
       "    </tr>\n",
       "  </thead>\n",
       "  <tbody>\n",
       "    <tr>\n",
       "      <th>83</th>\n",
       "      <td>84</td>\n",
       "      <td>305</td>\n",
       "      <td>21</td>\n",
       "      <td>7</td>\n",
       "      <td>1</td>\n",
       "    </tr>\n",
       "    <tr>\n",
       "      <th>231</th>\n",
       "      <td>232</td>\n",
       "      <td>331</td>\n",
       "      <td>21</td>\n",
       "      <td>21</td>\n",
       "      <td>2</td>\n",
       "    </tr>\n",
       "    <tr>\n",
       "      <th>399</th>\n",
       "      <td>400</td>\n",
       "      <td>373</td>\n",
       "      <td>21</td>\n",
       "      <td>35</td>\n",
       "      <td>3</td>\n",
       "    </tr>\n",
       "    <tr>\n",
       "      <th>553</th>\n",
       "      <td>554</td>\n",
       "      <td>322</td>\n",
       "      <td>21</td>\n",
       "      <td>48</td>\n",
       "      <td>4</td>\n",
       "    </tr>\n",
       "  </tbody>\n",
       "</table>\n",
       "</div>"
      ],
      "text/plain": [
       "     rownum  weight  time  chick  diet\n",
       "83       84     305    21      7     1\n",
       "231     232     331    21     21     2\n",
       "399     400     373    21     35     3\n",
       "553     554     322    21     48     4"
      ]
     },
     "execution_count": 11,
     "metadata": {},
     "output_type": "execute_result"
    }
   ],
   "source": [
    "test = chicken_df.groupby('diet')['weight'].transform(max) == chicken_df['weight']\n",
    "chicken_df[test]"
   ]
  },
  {
   "cell_type": "markdown",
   "metadata": {},
   "source": [
    "*g) Show the data of the chicks that did not reach the last time period. Show all their results for their last time period. (note use again the transform)*"
   ]
  },
  {
   "cell_type": "code",
   "execution_count": 12,
   "metadata": {},
   "outputs": [
    {
     "data": {
      "text/html": [
       "<div>\n",
       "<style scoped>\n",
       "    .dataframe tbody tr th:only-of-type {\n",
       "        vertical-align: middle;\n",
       "    }\n",
       "\n",
       "    .dataframe tbody tr th {\n",
       "        vertical-align: top;\n",
       "    }\n",
       "\n",
       "    .dataframe thead th {\n",
       "        text-align: right;\n",
       "    }\n",
       "</style>\n",
       "<table border=\"1\" class=\"dataframe\">\n",
       "  <thead>\n",
       "    <tr style=\"text-align: right;\">\n",
       "      <th></th>\n",
       "      <th>rownum</th>\n",
       "      <th>weight</th>\n",
       "      <th>time</th>\n",
       "      <th>chick</th>\n",
       "      <th>diet</th>\n",
       "    </tr>\n",
       "  </thead>\n",
       "  <tbody>\n",
       "    <tr>\n",
       "      <th>94</th>\n",
       "      <td>95</td>\n",
       "      <td>125</td>\n",
       "      <td>20</td>\n",
       "      <td>8</td>\n",
       "      <td>1</td>\n",
       "    </tr>\n",
       "    <tr>\n",
       "      <th>174</th>\n",
       "      <td>175</td>\n",
       "      <td>68</td>\n",
       "      <td>14</td>\n",
       "      <td>15</td>\n",
       "      <td>1</td>\n",
       "    </tr>\n",
       "    <tr>\n",
       "      <th>181</th>\n",
       "      <td>182</td>\n",
       "      <td>54</td>\n",
       "      <td>12</td>\n",
       "      <td>16</td>\n",
       "      <td>1</td>\n",
       "    </tr>\n",
       "    <tr>\n",
       "      <th>195</th>\n",
       "      <td>196</td>\n",
       "      <td>35</td>\n",
       "      <td>2</td>\n",
       "      <td>18</td>\n",
       "      <td>1</td>\n",
       "    </tr>\n",
       "    <tr>\n",
       "      <th>505</th>\n",
       "      <td>506</td>\n",
       "      <td>146</td>\n",
       "      <td>18</td>\n",
       "      <td>44</td>\n",
       "      <td>4</td>\n",
       "    </tr>\n",
       "  </tbody>\n",
       "</table>\n",
       "</div>"
      ],
      "text/plain": [
       "     rownum  weight  time  chick  diet\n",
       "94       95     125    20      8     1\n",
       "174     175      68    14     15     1\n",
       "181     182      54    12     16     1\n",
       "195     196      35     2     18     1\n",
       "505     506     146    18     44     4"
      ]
     },
     "execution_count": 12,
     "metadata": {},
     "output_type": "execute_result"
    }
   ],
   "source": [
    "test = chicken_df.groupby(['chick'])['time'].transform(max) == chicken_df['time']\n",
    "chicken_df[test][chicken_df[test]['time'] < 21]"
   ]
  },
  {
   "cell_type": "markdown",
   "metadata": {},
   "source": [
    "For a decent explanation of transform, see: https://pbpython.com/pandas_transform.html"
   ]
  },
  {
   "cell_type": "markdown",
   "metadata": {},
   "source": [
    "# 3. Data Cleaning"
   ]
  },
  {
   "cell_type": "code",
   "execution_count": 13,
   "metadata": {},
   "outputs": [],
   "source": [
    "#Avoid a warning to replace field\n",
    "pd.options.mode.chained_assignment = None  # default='warn'\n",
    "\n",
    "#Adjustments made to data\n",
    "survey_df = pd.read_csv(\"StudentStatistics.csv\", sep=';').rename(str.lower, axis='columns') \n",
    "survey_df['location'] = pd.Categorical(survey_df['location'])\n",
    "survey_df['oaa_objcourse'] = pd.Categorical(survey_df['oaa_objcourse'], categories = [\"Fully Disagree\", \"Disagree\", \"Neither disagree nor agree\", \"Agree\", \"Fully agree\"], ordered = True)\n",
    "survey_df2 = survey_df[survey_df['gen_classes'] != 0]\n",
    "survey_df2['gen_age'] = survey_df2['gen_age'].replace(119, np.nan)\n",
    "my_counts = survey_df2['location'].value_counts().sort_index()"
   ]
  },
  {
   "cell_type": "markdown",
   "metadata": {},
   "source": [
    "## 3.4. Exercises"
   ]
  },
  {
   "cell_type": "markdown",
   "metadata": {},
   "source": [
    "**Exercise 1**\n",
    "\n",
    "*1a) Change the dtype for the field mix_intexcel, first check the scores so you can determine the proper dtype for it*"
   ]
  },
  {
   "cell_type": "code",
   "execution_count": 14,
   "metadata": {},
   "outputs": [
    {
     "data": {
      "text/plain": [
       "dtype('O')"
      ]
     },
     "execution_count": 14,
     "metadata": {},
     "output_type": "execute_result"
    }
   ],
   "source": [
    "# check the current dtype:\n",
    "survey_df2['mix_intexcel'].dtypes"
   ]
  },
  {
   "cell_type": "code",
   "execution_count": 15,
   "metadata": {},
   "outputs": [
    {
     "data": {
      "text/plain": [
       "array(['not so much', 'somewhat', 'neutral', 'Very much', nan,\n",
       "       'Not at all'], dtype=object)"
      ]
     },
     "execution_count": 15,
     "metadata": {},
     "output_type": "execute_result"
    }
   ],
   "source": [
    "survey_df2['mix_intexcel'].unique()"
   ]
  },
  {
   "cell_type": "code",
   "execution_count": 16,
   "metadata": {},
   "outputs": [
    {
     "data": {
      "text/plain": [
       "CategoricalDtype(categories=['Not at all', 'not so much', 'neutral', 'somewhat',\n",
       "                  'Very much'],\n",
       ", ordered=True)"
      ]
     },
     "execution_count": 16,
     "metadata": {},
     "output_type": "execute_result"
    }
   ],
   "source": [
    "survey_df2['mix_intexcel'] = pd.Categorical(survey_df2['mix_intexcel'], categories = [\"Not at all\", \"not so much\", \"neutral\", \"somewhat\", \"Very much\"], ordered = True)\n",
    "survey_df2['mix_intexcel'].dtypes"
   ]
  },
  {
   "cell_type": "markdown",
   "metadata": {},
   "source": [
    "*1b) Check the counts of the mix_intexcel field*"
   ]
  },
  {
   "cell_type": "code",
   "execution_count": 17,
   "metadata": {},
   "outputs": [
    {
     "data": {
      "text/plain": [
       "Not at all      3\n",
       "not so much     3\n",
       "neutral        16\n",
       "somewhat       14\n",
       "Very much       9\n",
       "Name: mix_intexcel, dtype: int64"
      ]
     },
     "execution_count": 17,
     "metadata": {},
     "output_type": "execute_result"
    }
   ],
   "source": [
    "survey_df2['mix_intexcel'].value_counts().sort_index()"
   ]
  },
  {
   "cell_type": "markdown",
   "metadata": {},
   "source": [
    "*1c) Create an appropriate diagram to visualise the counts of mix_intexcel*"
   ]
  },
  {
   "cell_type": "code",
   "execution_count": 18,
   "metadata": {},
   "outputs": [
    {
     "data": {
      "text/plain": [
       "<AxesSubplot:>"
      ]
     },
     "execution_count": 18,
     "metadata": {},
     "output_type": "execute_result"
    },
    {
     "data": {
      "image/png": "[encoded data removed]",
      "text/plain": [
       "<Figure size 432x288 with 1 Axes>"
      ]
     },
     "metadata": {
      "needs_background": "light"
     },
     "output_type": "display_data"
    }
   ],
   "source": [
    "my_counts = survey_df2['mix_intexcel'].value_counts().sort_index()\n",
    "my_counts.plot(kind = 'bar')"
   ]
  },
  {
   "cell_type": "markdown",
   "metadata": {},
   "source": [
    "**Exercise 2: Automating the Process**"
   ]
  },
  {
   "cell_type": "markdown",
   "metadata": {},
   "source": [
    "Below is some code to adjust the dtype for all fields that use the fully disagree to fully agree scale. \n",
    "\n",
    "Inspect the code carefully so you understand what it does."
   ]
  },
  {
   "cell_type": "code",
   "execution_count": 19,
   "metadata": {},
   "outputs": [],
   "source": [
    "#Create a real copy and not a reference in memory.\n",
    "survey_df3 = survey_df2.copy()\n",
    "\n",
    "#The labels we want to use\n",
    "labels = [\"Fully Disagree\", \"Disagree\", \"Neither disagree nor agree\", \"Agree\", \"Fully agree\", np.nan]\n",
    "\n",
    "#The fields in the data frame\n",
    "fields = survey_df3.columns\n",
    "\n",
    "#Loop over each field\n",
    "for field in fields:\n",
    "    \n",
    "    #check if the data type is 'object'\n",
    "    if survey_df3[field].dtype.name == 'object':\n",
    "        \n",
    "        # get the unique values of the field\n",
    "        values = survey_df3[field].unique()\n",
    "        \n",
    "        # check if those values are in our labels\n",
    "        allin = True\n",
    "        n_values = len(values)\n",
    "        i = 0\n",
    "        while allin and i < n_values:\n",
    "            allin = values[i] in labels\n",
    "            i = i + 1\n",
    "        \n",
    "        # only if the values are in the labels adjust the dtype\n",
    "        if allin:\n",
    "            survey_df3[field] = pd.Categorical(survey_df3[field], categories = [\"Fully Disagree\", \"Disagree\", \"Neither disagree nor agree\", \"Agree\", \"Fully agree\"], ordered = True)\n",
    "            \n",
    "#Check if it worked\n",
    "#survey_df3.dtypes"
   ]
  },
  {
   "cell_type": "markdown",
   "metadata": {},
   "source": [
    "*2a) Create a similar code for the variables that start with 'mat_' and run it.*"
   ]
  },
  {
   "cell_type": "code",
   "execution_count": 20,
   "metadata": {},
   "outputs": [
    {
     "data": {
      "text/plain": [
       "array(['Not at all', nan, 'neutral', 'not so much', 'Very much',\n",
       "       'somewhat'], dtype=object)"
      ]
     },
     "execution_count": 20,
     "metadata": {},
     "output_type": "execute_result"
    }
   ],
   "source": [
    "survey_df3['mat_burns'].unique()"
   ]
  },
  {
   "cell_type": "code",
   "execution_count": 21,
   "metadata": {},
   "outputs": [],
   "source": [
    "#Create a real copy and not a reference in memory.\n",
    "survey_df4 = survey_df3.copy()\n",
    "\n",
    "#The labels we want to use\n",
    "labels = [\"Not at all\", \"not so much\", \"neutral\", \"somewhat\", \"Very much\", np.nan]\n",
    "\n",
    "#The fields in the data frame\n",
    "fields = survey_df4.columns\n",
    "\n",
    "#Loop over each field\n",
    "for field in fields:\n",
    "    \n",
    "    #check if the data type is 'object'\n",
    "    if survey_df4[field].dtype.name == 'object':\n",
    "        \n",
    "        # get the unique values of the field\n",
    "        values = survey_df4[field].unique()\n",
    "        \n",
    "        # check if those values are in our labels\n",
    "        allin = True\n",
    "        n_values = len(values)\n",
    "        i = 0\n",
    "        while allin and i < n_values:\n",
    "            allin = values[i] in labels\n",
    "            i = i + 1\n",
    "        \n",
    "        # only if the values are in the labels adjust the dtype\n",
    "        if allin:\n",
    "            survey_df4[field] = pd.Categorical(survey_df4[field], categories = [\"Not at all\", \"not so much\", \"neutral\", \"somewhat\", \"Very much\"], ordered = True)\n",
    "            \n",
    "#Check if it worked\n",
    "#survey_df4.dtypes"
   ]
  },
  {
   "cell_type": "markdown",
   "metadata": {},
   "source": [
    "*2b) Create a codeblock to show the frequencies of all category dtypes in the dataframe*"
   ]
  },
  {
   "cell_type": "code",
   "execution_count": 22,
   "metadata": {},
   "outputs": [
    {
     "name": "stdout",
     "output_type": "stream",
     "text": [
      "location\n",
      "Diemen       16\n",
      "Haarlem      21\n",
      "Rotterdam    16\n",
      "Name: location, dtype: int64\n",
      "\n",
      "oaa_objcourse\n",
      "Fully Disagree                 9\n",
      "Disagree                      12\n",
      "Neither disagree nor agree    11\n",
      "Agree                         13\n",
      "Fully agree                    8\n",
      "Name: oaa_objcourse, dtype: int64\n",
      "\n",
      "oaa_objclass\n",
      "Fully Disagree                 5\n",
      "Disagree                      14\n",
      "Neither disagree nor agree    13\n",
      "Agree                         13\n",
      "Fully agree                    8\n",
      "Name: oaa_objclass, dtype: int64\n",
      "\n",
      "oaa_courseexec\n",
      "Fully Disagree                13\n",
      "Disagree                      13\n",
      "Neither disagree nor agree    10\n",
      "Agree                          7\n",
      "Fully agree                    6\n",
      "Name: oaa_courseexec, dtype: int64\n",
      "\n",
      "oaa_relactobj\n",
      "Fully Disagree                 4\n",
      "Disagree                       9\n",
      "Neither disagree nor agree    17\n",
      "Agree                         11\n",
      "Fully agree                   12\n",
      "Name: oaa_relactobj, dtype: int64\n",
      "\n",
      "oaa_relactexa\n",
      "Fully Disagree                 4\n",
      "Disagree                       7\n",
      "Neither disagree nor agree    15\n",
      "Agree                         13\n",
      "Fully agree                   14\n",
      "Name: oaa_relactexa, dtype: int64\n",
      "\n",
      "oaa_relobjexa\n",
      "Fully Disagree                 6\n",
      "Disagree                       8\n",
      "Neither disagree nor agree    17\n",
      "Agree                         13\n",
      "Fully agree                    9\n",
      "Name: oaa_relobjexa, dtype: int64\n",
      "\n",
      "oaa_learprocact\n",
      "Fully Disagree                11\n",
      "Disagree                       9\n",
      "Neither disagree nor agree    15\n",
      "Agree                          8\n",
      "Fully agree                   10\n",
      "Name: oaa_learprocact, dtype: int64\n",
      "\n",
      "oaa_learprocprep\n",
      "Fully Disagree                 8\n",
      "Disagree                       9\n",
      "Neither disagree nor agree    18\n",
      "Agree                          8\n",
      "Fully agree                    9\n",
      "Name: oaa_learprocprep, dtype: int64\n",
      "\n",
      "oaa_learprocdisc\n",
      "Fully Disagree                14\n",
      "Disagree                       7\n",
      "Neither disagree nor agree    16\n",
      "Agree                          7\n",
      "Fully agree                    8\n",
      "Name: oaa_learprocdisc, dtype: int64\n",
      "\n",
      "oaa_learproclect\n",
      "Fully Disagree                13\n",
      "Disagree                       9\n",
      "Neither disagree nor agree    14\n",
      "Agree                         10\n",
      "Fully agree                    6\n",
      "Name: oaa_learproclect, dtype: int64\n",
      "\n",
      "oaa_learprocexe\n",
      "Fully Disagree                 5\n",
      "Disagree                       8\n",
      "Neither disagree nor agree    16\n",
      "Agree                          9\n",
      "Fully agree                   14\n",
      "Name: oaa_learprocexe, dtype: int64\n",
      "\n",
      "oaa_setupmotiv\n",
      "Fully Disagree                10\n",
      "Disagree                      10\n",
      "Neither disagree nor agree    17\n",
      "Agree                          9\n",
      "Fully agree                    7\n",
      "Name: oaa_setupmotiv, dtype: int64\n",
      "\n",
      "oaa_usefulnessstat\n",
      "Fully Disagree                13\n",
      "Disagree                       8\n",
      "Neither disagree nor agree    20\n",
      "Agree                          3\n",
      "Fully agree                    9\n",
      "Name: oaa_usefulnessstat, dtype: int64\n",
      "\n",
      "mat_burns\n",
      "Not at all     10\n",
      "not so much     6\n",
      "neutral         8\n",
      "somewhat        6\n",
      "Very much       4\n",
      "Name: mat_burns, dtype: int64\n",
      "\n",
      "mat_baarda\n",
      "Not at all     12\n",
      "not so much     4\n",
      "neutral         7\n",
      "somewhat        2\n",
      "Very much       0\n",
      "Name: mat_baarda, dtype: int64\n",
      "\n",
      "mat_laerd\n",
      "Not at all      5\n",
      "not so much     7\n",
      "neutral        12\n",
      "somewhat        7\n",
      "Very much      10\n",
      "Name: mat_laerd, dtype: int64\n",
      "\n",
      "mat_powerpoint\n",
      "Not at all      0\n",
      "not so much     4\n",
      "neutral        18\n",
      "somewhat       12\n",
      "Very much      15\n",
      "Name: mat_powerpoint, dtype: int64\n",
      "\n",
      "mat_addmaterial\n",
      "Not at all      5\n",
      "not so much     6\n",
      "neutral        18\n",
      "somewhat        4\n",
      "Very much      10\n",
      "Name: mat_addmaterial, dtype: int64\n",
      "\n",
      "mat_excel\n",
      "Not at all      2\n",
      "not so much     5\n",
      "neutral        13\n",
      "somewhat       13\n",
      "Very much      15\n",
      "Name: mat_excel, dtype: int64\n",
      "\n",
      "mat_announcements\n",
      "Not at all     11\n",
      "not so much     8\n",
      "neutral        12\n",
      "somewhat        9\n",
      "Very much       8\n",
      "Name: mat_announcements, dtype: int64\n",
      "\n",
      "bb_own\n",
      "Fully Disagree                 2\n",
      "Disagree                       2\n",
      "Neither disagree nor agree    14\n",
      "Agree                          9\n",
      "Fully agree                   25\n",
      "Name: bb_own, dtype: int64\n",
      "\n",
      "bb_motivating\n",
      "Fully Disagree                 4\n",
      "Disagree                      14\n",
      "Neither disagree nor agree    17\n",
      "Agree                          4\n",
      "Fully agree                   13\n",
      "Name: bb_motivating, dtype: int64\n",
      "\n",
      "bb_userfr\n",
      "Fully Disagree                 4\n",
      "Disagree                       3\n",
      "Neither disagree nor agree    12\n",
      "Agree                         15\n",
      "Fully agree                   18\n",
      "Name: bb_userfr, dtype: int64\n",
      "\n",
      "bb_suffict\n",
      "Fully Disagree                 3\n",
      "Disagree                       3\n",
      "Neither disagree nor agree    11\n",
      "Agree                          9\n",
      "Fully agree                   26\n",
      "Name: bb_suffict, dtype: int64\n",
      "\n",
      "teach_motivate\n",
      "Fully Disagree                19\n",
      "Disagree                       9\n",
      "Neither disagree nor agree    11\n",
      "Agree                          7\n",
      "Fully agree                    6\n",
      "Name: teach_motivate, dtype: int64\n",
      "\n",
      "teach_linktheory\n",
      "Fully Disagree                10\n",
      "Disagree                      12\n",
      "Neither disagree nor agree    15\n",
      "Agree                          8\n",
      "Fully agree                    7\n",
      "Name: teach_linktheory, dtype: int64\n",
      "\n",
      "teach_stimask\n",
      "Fully Disagree                16\n",
      "Disagree                       6\n",
      "Neither disagree nor agree    13\n",
      "Agree                         10\n",
      "Fully agree                    6\n",
      "Name: teach_stimask, dtype: int64\n",
      "\n",
      "teach_avail\n",
      "Fully Disagree                 8\n",
      "Disagree                       2\n",
      "Neither disagree nor agree    16\n",
      "Agree                         14\n",
      "Fully agree                   12\n",
      "Name: teach_avail, dtype: int64\n",
      "\n",
      "teach_stimdisc\n",
      "Fully Disagree                15\n",
      "Disagree                      10\n",
      "Neither disagree nor agree    16\n",
      "Agree                          4\n",
      "Fully agree                    7\n",
      "Name: teach_stimdisc, dtype: int64\n",
      "\n",
      "teach_partic\n",
      "Fully Disagree                15\n",
      "Disagree                       9\n",
      "Neither disagree nor agree    14\n",
      "Agree                          6\n",
      "Fully agree                    8\n",
      "Name: teach_partic, dtype: int64\n",
      "\n",
      "teach_comp\n",
      "Fully Disagree                10\n",
      "Disagree                       7\n",
      "Neither disagree nor agree     7\n",
      "Agree                         13\n",
      "Fully agree                   14\n",
      "Name: teach_comp, dtype: int64\n",
      "\n",
      "mix_adeq1\n",
      "Fully Disagree                 5\n",
      "Disagree                       4\n",
      "Neither disagree nor agree    15\n",
      "Agree                         17\n",
      "Fully agree                    8\n",
      "Name: mix_adeq1, dtype: int64\n",
      "\n",
      "mix_adeq2\n",
      "Fully Disagree                 3\n",
      "Disagree                      10\n",
      "Neither disagree nor agree    23\n",
      "Agree                          6\n",
      "Fully agree                    6\n",
      "Name: mix_adeq2, dtype: int64\n",
      "\n",
      "mix_intclass\n",
      "Not at all     10\n",
      "not so much     6\n",
      "neutral        21\n",
      "somewhat        5\n",
      "Very much       4\n",
      "Name: mix_intclass, dtype: int64\n",
      "\n",
      "mix_intdiscus\n",
      "Not at all      8\n",
      "not so much    11\n",
      "neutral        18\n",
      "somewhat        6\n",
      "Very much       3\n",
      "Name: mix_intdiscus, dtype: int64\n",
      "\n",
      "mix_intprep\n",
      "Not at all      3\n",
      "not so much    10\n",
      "neutral        14\n",
      "somewhat       15\n",
      "Very much       4\n",
      "Name: mix_intprep, dtype: int64\n",
      "\n",
      "mix_intexcel\n",
      "Not at all      3\n",
      "not so much     3\n",
      "neutral        16\n",
      "somewhat       14\n",
      "Very much       9\n",
      "Name: mix_intexcel, dtype: int64\n",
      "\n",
      "gen_numbersubj\n",
      "Fully Disagree                 2\n",
      "Disagree                       8\n",
      "Neither disagree nor agree    10\n",
      "Agree                         17\n",
      "Fully agree                    6\n",
      "Name: gen_numbersubj, dtype: int64\n",
      "\n"
     ]
    }
   ],
   "source": [
    "fields = survey_df4.columns\n",
    "\n",
    "#Loop over each field\n",
    "for field in fields:\n",
    "    if survey_df4[field].dtype.name == 'category':\n",
    "        print(field)\n",
    "        print(survey_df4[field].value_counts().sort_index())\n",
    "        print()"
   ]
  },
  {
   "cell_type": "markdown",
   "metadata": {},
   "source": [
    "*2c) Create a codeblock that shows a bar-chart if the dtype is categorical, and a box-plot if it is a float.*"
   ]
  },
  {
   "cell_type": "code",
   "execution_count": 23,
   "metadata": {},
   "outputs": [],
   "source": [
    "# Homework exercise   "
   ]
  },
  {
   "cell_type": "markdown",
   "metadata": {},
   "source": [
    "**Exercise 3: Convert to Numbers**\n",
    "\n",
    "Although we already changed for *oaa_objcourse* the dtype from *object* to *category* it can be helpful to change it to numeric values. If we use a coding of for example 0 = fully disagree, 1 = disagree,...4 = fully agree. \n",
    "\n",
    "*3a) Try to change the *oaa_objcourse* field to a numeric one (hint: use replace, or codes). Check if coding indeed assigned fully disagree to 0.*"
   ]
  },
  {
   "cell_type": "code",
   "execution_count": 24,
   "metadata": {},
   "outputs": [],
   "source": [
    "# USING REPLACE\n",
    "# Homework Exercise"
   ]
  },
  {
   "cell_type": "code",
   "execution_count": 25,
   "metadata": {},
   "outputs": [],
   "source": [
    "# USING CODES\n",
    "# Homework Exercise"
   ]
  },
  {
   "cell_type": "markdown",
   "metadata": {},
   "source": [
    "After the values have been converted to numbers, we have no way of knowing anymore what each value represented (except for looking through the code). It can therefor be a good idea to store this information somewhere. One possible option that comes to mind is a dictionary with each entry being the variable name, and as a key another dictionary with the code and the corresponding values.\n",
    "\n",
    "*3b) Create a dictionary named **codebook** and add the first entry of 'oaa_objcourse' as a dictionary with the appropriate labels*"
   ]
  },
  {
   "cell_type": "code",
   "execution_count": 26,
   "metadata": {},
   "outputs": [],
   "source": [
    "codebook = {'oaa_objcourse' : {0: \"Fully Disagree\", 1 : \"Disagree\", 2 : \"Neither disagree nor agree\", 3: \"Agree\", 4: \"Fully agree\"}}"
   ]
  },
  {
   "cell_type": "code",
   "execution_count": 27,
   "metadata": {},
   "outputs": [
    {
     "data": {
      "text/plain": [
       "{0: 'Fully Disagree',\n",
       " 1: 'Disagree',\n",
       " 2: 'Neither disagree nor agree',\n",
       " 3: 'Agree',\n",
       " 4: 'Fully agree'}"
      ]
     },
     "execution_count": 27,
     "metadata": {},
     "output_type": "execute_result"
    }
   ],
   "source": [
    "codebook['oaa_objcourse']"
   ]
  },
  {
   "cell_type": "markdown",
   "metadata": {},
   "source": [
    "Seaborn is a powerful data visualisation library that is often used in data mining. It couldn't hurt to play around a bit with it. So...."
   ]
  },
  {
   "cell_type": "markdown",
   "metadata": {},
   "source": [
    "*3c) Create a bar-chart and a box-plot with the Seaborn library.*"
   ]
  },
  {
   "cell_type": "code",
   "execution_count": 28,
   "metadata": {},
   "outputs": [],
   "source": [
    "import seaborn as sns"
   ]
  },
  {
   "cell_type": "code",
   "execution_count": 29,
   "metadata": {},
   "outputs": [],
   "source": [
    "# Homework Exercise"
   ]
  }
 ],
 "metadata": {
  "kernelspec": {
   "display_name": "Python 3 (ipykernel)",
   "language": "python",
   "name": "python3"
  },
  "language_info": {
   "codemirror_mode": {
    "name": "ipython",
    "version": 3
   },
   "file_extension": ".py",
   "mimetype": "text/x-python",
   "name": "python",
   "nbconvert_exporter": "python",
   "pygments_lexer": "ipython3",
   "version": "3.9.7"
  }
 },
 "nbformat": 4,
 "nbformat_minor": 4
}
