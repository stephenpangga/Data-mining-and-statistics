{
 "cells": [
  {
   "cell_type": "markdown",
   "metadata": {},
   "source": [
    "# Data Mining and Statistics\n",
    "## Session 2 - Data and Python\n",
    "*Peter Stikker - Haarlem, the Netherlands*"
   ]
  },
  {
   "cell_type": "markdown",
   "metadata": {},
   "source": [
    "----"
   ]
  },
  {
   "cell_type": "markdown",
   "metadata": {},
   "source": [
    "In the previous session you got used to a bit of basic Python as a programming language. We've seen how you can do most of your Programming 1 from year 1 with Python in just one session. In this session we focus on dealing with data sets. Once you know this, we can finally actually look at analysing the data starting in session 3.\n",
    "\n",
    "To work with data two very popular libraries will be used: Numpy and Pandas. We'll have a look at how those work but what you'll see here are just tips of icebergs. These libraries are packed with all kinds of useful methods, tricks, etc. \n",
    "\n",
    "You have studied before how to work with data, in year 1 you had Databases SQL, and in the Pandas section in this session we'll use that course as a guideline, similar as we used C# in the previous session.\n",
    "\n",
    "The session finishes with some data cleaning."
   ]
  },
  {
   "cell_type": "markdown",
   "metadata": {},
   "source": [
    "Enjoy this session.\n",
    "\n",
    "p.s. To honor the tradition that a Python course should have a reference to Monty Python, we'll use some Monty Python data as an example in this session :D"
   ]
  },
  {
   "cell_type": "markdown",
   "metadata": {},
   "source": [
    "# 1. Numpy"
   ]
  },
  {
   "cell_type": "markdown",
   "metadata": {},
   "source": [
    "In the previous session we discussed different types of collections known to Python core. We saw that an array had the following properties:\n",
    "\n",
    "1. Are different data types allowed in the sequence? NO\n",
    "2. Is the order as the data is given or changed? GIVEN\n",
    "3. Are duplicate values allowed? YES\n",
    "4. Can we make changes? YES\n",
    "\n",
    "It was the first type for which we had to import a library. Below an example of a Python array:"
   ]
  },
  {
   "cell_type": "code",
   "execution_count": 1,
   "metadata": {},
   "outputs": [],
   "source": [
    "import array as arr\n",
    "my_py_array = arr.array('i', [1, 2, 4, 9, 3, 9])"
   ]
  },
  {
   "cell_type": "markdown",
   "metadata": {},
   "source": [
    "An indication that this package/library is native to Python is that we didn't need to install it.\n",
    "\n",
    "However, as you will probably discover one advantage of Python is that many people have created all kinds of useful libraries for others to use. These we will need to install once before we can use them. Numpy is one of those libraries. <a href=\"https://numpy.org/\">Numpy</a> is a library that is almost always listed in a 'top 10 of data mining libraries'. So much so, that often when people talk about an Array in Python they often mean a Numpy Array (or in some cases consider Lists an array).\n",
    "\n",
    "To install a package/library you could use Anaconda, but also you can use Python. Since we're here anyway lets use Python itself:"
   ]
  },
  {
   "cell_type": "code",
   "execution_count": 2,
   "metadata": {},
   "outputs": [],
   "source": [
    "#!pip install numpy"
   ]
  },
  {
   "cell_type": "markdown",
   "metadata": {},
   "source": [
    "*side note: pip is (according to the creator Ian Bicking) a recursive acronym and is short for 'Pip Installs Packages', although I also like the 'Please Install Program'*\n",
    "\n",
    "Next we can import the library, and lets name it np (which is very common to do)"
   ]
  },
  {
   "cell_type": "code",
   "execution_count": 3,
   "metadata": {},
   "outputs": [],
   "source": [
    "import numpy as np"
   ]
  },
  {
   "cell_type": "markdown",
   "metadata": {},
   "source": [
    "Now we can create a Numpy array:"
   ]
  },
  {
   "cell_type": "code",
   "execution_count": 4,
   "metadata": {},
   "outputs": [
    {
     "data": {
      "text/plain": [
       "numpy.ndarray"
      ]
     },
     "execution_count": 4,
     "metadata": {},
     "output_type": "execute_result"
    }
   ],
   "source": [
    "my_np_array = np.array([1, 2, 4, 9, 3, 9])\n",
    "type(my_np_array)"
   ]
  },
  {
   "cell_type": "markdown",
   "metadata": {},
   "source": [
    "One big advantage of Numpy Arrays is that they are very fast when do perform computations on them, and have a few build in methods already. For example:"
   ]
  },
  {
   "cell_type": "code",
   "execution_count": 5,
   "metadata": {},
   "outputs": [
    {
     "data": {
      "text/plain": [
       "4.666666666666667"
      ]
     },
     "execution_count": 5,
     "metadata": {},
     "output_type": "execute_result"
    }
   ],
   "source": [
    "my_np_array.mean()"
   ]
  },
  {
   "cell_type": "code",
   "execution_count": 6,
   "metadata": {},
   "outputs": [
    {
     "data": {
      "text/plain": [
       "28"
      ]
     },
     "execution_count": 6,
     "metadata": {},
     "output_type": "execute_result"
    }
   ],
   "source": [
    "my_np_array.sum()"
   ]
  },
  {
   "cell_type": "markdown",
   "metadata": {},
   "source": [
    "Also calculations to be performed on each element work as expected..."
   ]
  },
  {
   "cell_type": "code",
   "execution_count": 7,
   "metadata": {},
   "outputs": [
    {
     "data": {
      "text/plain": [
       "array([ 2,  4,  8, 18,  6, 18])"
      ]
     },
     "execution_count": 7,
     "metadata": {},
     "output_type": "execute_result"
    }
   ],
   "source": [
    "my_np_array * 2"
   ]
  },
  {
   "cell_type": "markdown",
   "metadata": {},
   "source": [
    "While if you would do this with a Python Array:"
   ]
  },
  {
   "cell_type": "code",
   "execution_count": 8,
   "metadata": {},
   "outputs": [
    {
     "data": {
      "text/plain": [
       "array('i', [1, 2, 4, 9, 3, 9, 1, 2, 4, 9, 3, 9])"
      ]
     },
     "execution_count": 8,
     "metadata": {},
     "output_type": "execute_result"
    }
   ],
   "source": [
    "my_py_array * 2"
   ]
  },
  {
   "cell_type": "markdown",
   "metadata": {},
   "source": [
    "# 2. Pandas"
   ]
  },
  {
   "cell_type": "markdown",
   "metadata": {},
   "source": [
    "If you verified earlier if Numpy is indeed mentioned in 'top 10 of data mining libraries', you'll probably seen in the same lists the library Pandas. Pandas relies heavily on Numpy and extends its features. It will be the library we'll use to import the data and work with the data. \n",
    "\n",
    "Its not a Python native library, so if it has not been installed, we can again either use Anaconda or Python itself. A decent explanation on how to install it with Anaconda can be found <a href=\"https://docs.anaconda.com/anaconda/navigator/tutorials/pandas/#:~:text=Pandas%20appears%20as%20a%20package%20available%20for%20installation.\">here</a>, but we'll use Python for now.\n",
    "\n",
    "However, I don't want it to install every time I run this file, but do want to import it. So...."
   ]
  },
  {
   "cell_type": "code",
   "execution_count": 9,
   "metadata": {},
   "outputs": [
    {
     "name": "stdout",
     "output_type": "stream",
     "text": [
      "pandas already installed, only imported\n"
     ]
    }
   ],
   "source": [
    "try:\n",
    "    import pandas as pd\n",
    "    print('pandas already installed, only imported')\n",
    "except:\n",
    "    !pip install pandas\n",
    "    import pandas as pd\n",
    "    print('pandas was not installed, installed and imported')"
   ]
  },
  {
   "cell_type": "markdown",
   "metadata": {},
   "source": [
    "## 2.1. Getting Data"
   ]
  },
  {
   "cell_type": "markdown",
   "metadata": {},
   "source": [
    "Although Python has a build in csv reader (similar as the file reader you have seen in C#, see Appendix 1 for an example on this), you will often see (and use) the Pandas version. It is just so much easier to work with. Here's an example of how it works."
   ]
  },
  {
   "cell_type": "code",
   "execution_count": 10,
   "metadata": {},
   "outputs": [],
   "source": [
    "my_data = pd.read_csv(\"MontyPython.csv\", sep=';', skipinitialspace=True) "
   ]
  },
  {
   "cell_type": "markdown",
   "metadata": {},
   "source": [
    "That was easy enough. There are plenty of additional parameters that can be used. See the documentation for more details: https://pandas.pydata.org/pandas-docs/stable/reference/api/pandas.read_csv.html\n",
    "\n",
    "So, lets have a look at what we got..."
   ]
  },
  {
   "cell_type": "code",
   "execution_count": 11,
   "metadata": {},
   "outputs": [
    {
     "data": {
      "text/html": [
       "<div>\n",
       "<style scoped>\n",
       "    .dataframe tbody tr th:only-of-type {\n",
       "        vertical-align: middle;\n",
       "    }\n",
       "\n",
       "    .dataframe tbody tr th {\n",
       "        vertical-align: top;\n",
       "    }\n",
       "\n",
       "    .dataframe thead th {\n",
       "        text-align: right;\n",
       "    }\n",
       "</style>\n",
       "<table border=\"1\" class=\"dataframe\">\n",
       "  <thead>\n",
       "    <tr style=\"text-align: right;\">\n",
       "      <th></th>\n",
       "      <th>Scene</th>\n",
       "      <th>textNr</th>\n",
       "      <th>Who</th>\n",
       "      <th>What</th>\n",
       "    </tr>\n",
       "  </thead>\n",
       "  <tbody>\n",
       "    <tr>\n",
       "      <th>0</th>\n",
       "      <td>1</td>\n",
       "      <td>1</td>\n",
       "      <td>ARTHUR</td>\n",
       "      <td>Whoa there!</td>\n",
       "    </tr>\n",
       "    <tr>\n",
       "      <th>1</th>\n",
       "      <td>1</td>\n",
       "      <td>2</td>\n",
       "      <td>GUARD #1</td>\n",
       "      <td>Halt! Who goes there?</td>\n",
       "    </tr>\n",
       "    <tr>\n",
       "      <th>2</th>\n",
       "      <td>1</td>\n",
       "      <td>3</td>\n",
       "      <td>ARTHUR</td>\n",
       "      <td>It is I, Arthur, son of Uther Pendragon, from ...</td>\n",
       "    </tr>\n",
       "    <tr>\n",
       "      <th>3</th>\n",
       "      <td>1</td>\n",
       "      <td>4</td>\n",
       "      <td>GUARD #1</td>\n",
       "      <td>Pull the other one!</td>\n",
       "    </tr>\n",
       "    <tr>\n",
       "      <th>4</th>\n",
       "      <td>1</td>\n",
       "      <td>5</td>\n",
       "      <td>ARTHUR</td>\n",
       "      <td>I am. And this my trusty servant Patsy. We hav...</td>\n",
       "    </tr>\n",
       "  </tbody>\n",
       "</table>\n",
       "</div>"
      ],
      "text/plain": [
       "   Scene  textNr       Who                                               What\n",
       "0      1       1    ARTHUR                                        Whoa there!\n",
       "1      1       2  GUARD #1                              Halt! Who goes there?\n",
       "2      1       3    ARTHUR  It is I, Arthur, son of Uther Pendragon, from ...\n",
       "3      1       4  GUARD #1                                Pull the other one!\n",
       "4      1       5    ARTHUR  I am. And this my trusty servant Patsy. We hav..."
      ]
     },
     "execution_count": 11,
     "metadata": {},
     "output_type": "execute_result"
    }
   ],
   "source": [
    "my_data.head()"
   ]
  },
  {
   "cell_type": "markdown",
   "metadata": {},
   "source": [
    "This looks nice, but is it a set, an array, or..."
   ]
  },
  {
   "cell_type": "code",
   "execution_count": 12,
   "metadata": {},
   "outputs": [
    {
     "data": {
      "text/plain": [
       "pandas.core.frame.DataFrame"
      ]
     },
     "execution_count": 12,
     "metadata": {},
     "output_type": "execute_result"
    }
   ],
   "source": [
    "type(my_data)"
   ]
  },
  {
   "cell_type": "markdown",
   "metadata": {},
   "source": [
    "Ah, Pandas has it own datatype known as a DataFrame. This is actually made up of different columns. One way to select a column is simply by its name:\n"
   ]
  },
  {
   "cell_type": "code",
   "execution_count": 13,
   "metadata": {},
   "outputs": [
    {
     "data": {
      "text/plain": [
       "0       1\n",
       "1       1\n",
       "2       1\n",
       "3       1\n",
       "4       1\n",
       "       ..\n",
       "940    36\n",
       "941    36\n",
       "942    36\n",
       "943    36\n",
       "944    36\n",
       "Name: Scene, Length: 945, dtype: int64"
      ]
     },
     "execution_count": 13,
     "metadata": {},
     "output_type": "execute_result"
    }
   ],
   "source": [
    "my_data['Scene']"
   ]
  },
  {
   "cell_type": "markdown",
   "metadata": {},
   "source": [
    "So, what data type is this then..."
   ]
  },
  {
   "cell_type": "code",
   "execution_count": 14,
   "metadata": {},
   "outputs": [
    {
     "data": {
      "text/plain": [
       "pandas.core.series.Series"
      ]
     },
     "execution_count": 14,
     "metadata": {},
     "output_type": "execute_result"
    }
   ],
   "source": [
    "type(my_data['Scene'])"
   ]
  },
  {
   "cell_type": "markdown",
   "metadata": {},
   "source": [
    "A Pandas DataFrame is made by a few different Pandas Series.\n",
    "\n",
    "You might wonder why knowing the datatype is so important. Well, you will probably be using some other libraries and functions in the near future. It is then important to check if the function you are trying to use can deal with the data type you have. "
   ]
  },
  {
   "cell_type": "markdown",
   "metadata": {},
   "source": [
    "Of course we can transform the data into another data type. For example:"
   ]
  },
  {
   "cell_type": "code",
   "execution_count": 15,
   "metadata": {},
   "outputs": [
    {
     "data": {
      "text/plain": [
       "list"
      ]
     },
     "execution_count": 15,
     "metadata": {},
     "output_type": "execute_result"
    }
   ],
   "source": [
    "my_list = my_data['Scene'].tolist()\n",
    "\n",
    "type(my_list)"
   ]
  },
  {
   "cell_type": "markdown",
   "metadata": {},
   "source": [
    "As mentioned at the start of this section, Pandas also has a csv reader. It is not often used anymore, but if you are interested the Appendix shows how it could be used."
   ]
  },
  {
   "cell_type": "markdown",
   "metadata": {},
   "source": [
    "## 2.2. SQL with Pandas"
   ]
  },
  {
   "cell_type": "markdown",
   "metadata": {},
   "source": [
    "Hope you remember the Databases (SQL) course from year 1. In that course you learned the basics of using SQL to get data in different ways from a database. Also with data mining in Python we want to get data in different ways from a dataset. So lets see how some of those basic SQL commands can be done with Pandas.\n",
    "\n",
    "First we look at **seeing a single field (column)**. If we wanted to see only the *Scene* field from the *my_data* table, we use:\n",
    "\n",
    "<font color=blue>SELECT</font> Scene <br>\n",
    "<font color=blue>FROM</font> my_data\n",
    "\n",
    "With a Pandas Dataframe we can accomplish this by using:"
   ]
  },
  {
   "cell_type": "code",
   "execution_count": 16,
   "metadata": {},
   "outputs": [
    {
     "data": {
      "text/plain": [
       "0       1\n",
       "1       1\n",
       "2       1\n",
       "3       1\n",
       "4       1\n",
       "       ..\n",
       "940    36\n",
       "941    36\n",
       "942    36\n",
       "943    36\n",
       "944    36\n",
       "Name: Scene, Length: 945, dtype: int64"
      ]
     },
     "execution_count": 16,
     "metadata": {},
     "output_type": "execute_result"
    }
   ],
   "source": [
    "my_data['Scene']"
   ]
  },
  {
   "cell_type": "markdown",
   "metadata": {},
   "source": [
    "or..."
   ]
  },
  {
   "cell_type": "code",
   "execution_count": 17,
   "metadata": {},
   "outputs": [
    {
     "data": {
      "text/plain": [
       "0       1\n",
       "1       1\n",
       "2       1\n",
       "3       1\n",
       "4       1\n",
       "       ..\n",
       "940    36\n",
       "941    36\n",
       "942    36\n",
       "943    36\n",
       "944    36\n",
       "Name: Scene, Length: 945, dtype: int64"
      ]
     },
     "execution_count": 17,
     "metadata": {},
     "output_type": "execute_result"
    }
   ],
   "source": [
    "my_data.Scene"
   ]
  },
  {
   "cell_type": "markdown",
   "metadata": {},
   "source": [
    "With SQL we could **select multiple fields (columns)**, for example to see the *Scene* and *textNr*:\n",
    "\n",
    "<font color=blue>SELECT</font> Scene, textNr <br>\n",
    "<font color=blue>FROM</font> my_data\n",
    "\n",
    "With Pandas Dataframe the same, but note the use of an extra set of brackets."
   ]
  },
  {
   "cell_type": "code",
   "execution_count": 18,
   "metadata": {},
   "outputs": [
    {
     "data": {
      "text/html": [
       "<div>\n",
       "<style scoped>\n",
       "    .dataframe tbody tr th:only-of-type {\n",
       "        vertical-align: middle;\n",
       "    }\n",
       "\n",
       "    .dataframe tbody tr th {\n",
       "        vertical-align: top;\n",
       "    }\n",
       "\n",
       "    .dataframe thead th {\n",
       "        text-align: right;\n",
       "    }\n",
       "</style>\n",
       "<table border=\"1\" class=\"dataframe\">\n",
       "  <thead>\n",
       "    <tr style=\"text-align: right;\">\n",
       "      <th></th>\n",
       "      <th>Scene</th>\n",
       "      <th>textNr</th>\n",
       "    </tr>\n",
       "  </thead>\n",
       "  <tbody>\n",
       "    <tr>\n",
       "      <th>0</th>\n",
       "      <td>1</td>\n",
       "      <td>1</td>\n",
       "    </tr>\n",
       "    <tr>\n",
       "      <th>1</th>\n",
       "      <td>1</td>\n",
       "      <td>2</td>\n",
       "    </tr>\n",
       "    <tr>\n",
       "      <th>2</th>\n",
       "      <td>1</td>\n",
       "      <td>3</td>\n",
       "    </tr>\n",
       "    <tr>\n",
       "      <th>3</th>\n",
       "      <td>1</td>\n",
       "      <td>4</td>\n",
       "    </tr>\n",
       "    <tr>\n",
       "      <th>4</th>\n",
       "      <td>1</td>\n",
       "      <td>5</td>\n",
       "    </tr>\n",
       "    <tr>\n",
       "      <th>...</th>\n",
       "      <td>...</td>\n",
       "      <td>...</td>\n",
       "    </tr>\n",
       "    <tr>\n",
       "      <th>940</th>\n",
       "      <td>36</td>\n",
       "      <td>13</td>\n",
       "    </tr>\n",
       "    <tr>\n",
       "      <th>941</th>\n",
       "      <td>36</td>\n",
       "      <td>14</td>\n",
       "    </tr>\n",
       "    <tr>\n",
       "      <th>942</th>\n",
       "      <td>36</td>\n",
       "      <td>15</td>\n",
       "    </tr>\n",
       "    <tr>\n",
       "      <th>943</th>\n",
       "      <td>36</td>\n",
       "      <td>16</td>\n",
       "    </tr>\n",
       "    <tr>\n",
       "      <th>944</th>\n",
       "      <td>36</td>\n",
       "      <td>17</td>\n",
       "    </tr>\n",
       "  </tbody>\n",
       "</table>\n",
       "<p>945 rows × 2 columns</p>\n",
       "</div>"
      ],
      "text/plain": [
       "     Scene  textNr\n",
       "0        1       1\n",
       "1        1       2\n",
       "2        1       3\n",
       "3        1       4\n",
       "4        1       5\n",
       "..     ...     ...\n",
       "940     36      13\n",
       "941     36      14\n",
       "942     36      15\n",
       "943     36      16\n",
       "944     36      17\n",
       "\n",
       "[945 rows x 2 columns]"
      ]
     },
     "execution_count": 18,
     "metadata": {},
     "output_type": "execute_result"
    }
   ],
   "source": [
    "my_data[['Scene', 'textNr']]"
   ]
  },
  {
   "cell_type": "markdown",
   "metadata": {},
   "source": [
    "Now for **selecting specific records (rows)**. \n",
    "\n",
    "We didn't discuss this in year one, and it depends a bit on the SQL dialect you use, but one to show the first five rows would be:\n",
    "\n",
    "<font color=blue>SELECT</font> * <br>\n",
    "<font color=blue>FROM</font> my_data <br>\n",
    "<font color=blue>LIMIT</font> 1, 5\n",
    "\n",
    "With Pandas we can do the same using:"
   ]
  },
  {
   "cell_type": "code",
   "execution_count": 19,
   "metadata": {},
   "outputs": [
    {
     "data": {
      "text/html": [
       "<div>\n",
       "<style scoped>\n",
       "    .dataframe tbody tr th:only-of-type {\n",
       "        vertical-align: middle;\n",
       "    }\n",
       "\n",
       "    .dataframe tbody tr th {\n",
       "        vertical-align: top;\n",
       "    }\n",
       "\n",
       "    .dataframe thead th {\n",
       "        text-align: right;\n",
       "    }\n",
       "</style>\n",
       "<table border=\"1\" class=\"dataframe\">\n",
       "  <thead>\n",
       "    <tr style=\"text-align: right;\">\n",
       "      <th></th>\n",
       "      <th>Scene</th>\n",
       "      <th>textNr</th>\n",
       "      <th>Who</th>\n",
       "      <th>What</th>\n",
       "    </tr>\n",
       "  </thead>\n",
       "  <tbody>\n",
       "    <tr>\n",
       "      <th>0</th>\n",
       "      <td>1</td>\n",
       "      <td>1</td>\n",
       "      <td>ARTHUR</td>\n",
       "      <td>Whoa there!</td>\n",
       "    </tr>\n",
       "    <tr>\n",
       "      <th>1</th>\n",
       "      <td>1</td>\n",
       "      <td>2</td>\n",
       "      <td>GUARD #1</td>\n",
       "      <td>Halt! Who goes there?</td>\n",
       "    </tr>\n",
       "    <tr>\n",
       "      <th>2</th>\n",
       "      <td>1</td>\n",
       "      <td>3</td>\n",
       "      <td>ARTHUR</td>\n",
       "      <td>It is I, Arthur, son of Uther Pendragon, from ...</td>\n",
       "    </tr>\n",
       "    <tr>\n",
       "      <th>3</th>\n",
       "      <td>1</td>\n",
       "      <td>4</td>\n",
       "      <td>GUARD #1</td>\n",
       "      <td>Pull the other one!</td>\n",
       "    </tr>\n",
       "    <tr>\n",
       "      <th>4</th>\n",
       "      <td>1</td>\n",
       "      <td>5</td>\n",
       "      <td>ARTHUR</td>\n",
       "      <td>I am. And this my trusty servant Patsy. We hav...</td>\n",
       "    </tr>\n",
       "  </tbody>\n",
       "</table>\n",
       "</div>"
      ],
      "text/plain": [
       "   Scene  textNr       Who                                               What\n",
       "0      1       1    ARTHUR                                        Whoa there!\n",
       "1      1       2  GUARD #1                              Halt! Who goes there?\n",
       "2      1       3    ARTHUR  It is I, Arthur, son of Uther Pendragon, from ...\n",
       "3      1       4  GUARD #1                                Pull the other one!\n",
       "4      1       5    ARTHUR  I am. And this my trusty servant Patsy. We hav..."
      ]
     },
     "execution_count": 19,
     "metadata": {},
     "output_type": "execute_result"
    }
   ],
   "source": [
    "my_data[0:5]"
   ]
  },
  {
   "cell_type": "markdown",
   "metadata": {},
   "source": [
    "We can of course also **combine the selection of records and fields (rows and columns)**\n",
    "\n",
    "<font color=blue>SELECT</font> Scene, textNr <br>\n",
    "<font color=blue>FROM</font> my_data <br>\n",
    "<font color=blue>LIMIT</font> 1, 5\n",
    "\n",
    "With Pandas this goes easy with 'iloc':"
   ]
  },
  {
   "cell_type": "code",
   "execution_count": 20,
   "metadata": {},
   "outputs": [
    {
     "data": {
      "text/html": [
       "<div>\n",
       "<style scoped>\n",
       "    .dataframe tbody tr th:only-of-type {\n",
       "        vertical-align: middle;\n",
       "    }\n",
       "\n",
       "    .dataframe tbody tr th {\n",
       "        vertical-align: top;\n",
       "    }\n",
       "\n",
       "    .dataframe thead th {\n",
       "        text-align: right;\n",
       "    }\n",
       "</style>\n",
       "<table border=\"1\" class=\"dataframe\">\n",
       "  <thead>\n",
       "    <tr style=\"text-align: right;\">\n",
       "      <th></th>\n",
       "      <th>Scene</th>\n",
       "      <th>textNr</th>\n",
       "    </tr>\n",
       "  </thead>\n",
       "  <tbody>\n",
       "    <tr>\n",
       "      <th>0</th>\n",
       "      <td>1</td>\n",
       "      <td>1</td>\n",
       "    </tr>\n",
       "    <tr>\n",
       "      <th>1</th>\n",
       "      <td>1</td>\n",
       "      <td>2</td>\n",
       "    </tr>\n",
       "    <tr>\n",
       "      <th>2</th>\n",
       "      <td>1</td>\n",
       "      <td>3</td>\n",
       "    </tr>\n",
       "    <tr>\n",
       "      <th>3</th>\n",
       "      <td>1</td>\n",
       "      <td>4</td>\n",
       "    </tr>\n",
       "    <tr>\n",
       "      <th>4</th>\n",
       "      <td>1</td>\n",
       "      <td>5</td>\n",
       "    </tr>\n",
       "  </tbody>\n",
       "</table>\n",
       "</div>"
      ],
      "text/plain": [
       "   Scene  textNr\n",
       "0      1       1\n",
       "1      1       2\n",
       "2      1       3\n",
       "3      1       4\n",
       "4      1       5"
      ]
     },
     "execution_count": 20,
     "metadata": {},
     "output_type": "execute_result"
    }
   ],
   "source": [
    "my_data.iloc[0:5, 0:2]"
   ]
  },
  {
   "cell_type": "markdown",
   "metadata": {},
   "source": [
    "The next SQL clause we discussed was the WHERE, **to filter on a condition for specific records (rows)**. For example, if we only wanted to see the data from 'ARTHUR':\n",
    "\n",
    "<font color=blue>SELECT</font> Scene, textNr <br>\n",
    "<font color=blue>FROM</font> my_data <br>\n",
    "<font color=blue>WHERE</font> Who = <font color=red>'ARTHUR'</font>\n",
    "\n",
    "To accomplish this with Pandas is a two-step procedure. First we create a pandas series with booleans showing if the condition is true or not:"
   ]
  },
  {
   "cell_type": "code",
   "execution_count": 21,
   "metadata": {},
   "outputs": [
    {
     "data": {
      "text/plain": [
       "0       True\n",
       "1      False\n",
       "2       True\n",
       "3      False\n",
       "4       True\n",
       "       ...  \n",
       "940     True\n",
       "941    False\n",
       "942     True\n",
       "943    False\n",
       "944     True\n",
       "Name: Who, Length: 945, dtype: bool"
      ]
     },
     "execution_count": 21,
     "metadata": {},
     "output_type": "execute_result"
    }
   ],
   "source": [
    "my_data['Who'] == 'ARTHUR'"
   ]
  },
  {
   "cell_type": "markdown",
   "metadata": {},
   "source": [
    "Then we feed this series of booleans in a request to show the data, et voila:"
   ]
  },
  {
   "cell_type": "code",
   "execution_count": 22,
   "metadata": {},
   "outputs": [
    {
     "data": {
      "text/html": [
       "<div>\n",
       "<style scoped>\n",
       "    .dataframe tbody tr th:only-of-type {\n",
       "        vertical-align: middle;\n",
       "    }\n",
       "\n",
       "    .dataframe tbody tr th {\n",
       "        vertical-align: top;\n",
       "    }\n",
       "\n",
       "    .dataframe thead th {\n",
       "        text-align: right;\n",
       "    }\n",
       "</style>\n",
       "<table border=\"1\" class=\"dataframe\">\n",
       "  <thead>\n",
       "    <tr style=\"text-align: right;\">\n",
       "      <th></th>\n",
       "      <th>Scene</th>\n",
       "      <th>textNr</th>\n",
       "      <th>Who</th>\n",
       "      <th>What</th>\n",
       "    </tr>\n",
       "  </thead>\n",
       "  <tbody>\n",
       "    <tr>\n",
       "      <th>0</th>\n",
       "      <td>1</td>\n",
       "      <td>1</td>\n",
       "      <td>ARTHUR</td>\n",
       "      <td>Whoa there!</td>\n",
       "    </tr>\n",
       "    <tr>\n",
       "      <th>2</th>\n",
       "      <td>1</td>\n",
       "      <td>3</td>\n",
       "      <td>ARTHUR</td>\n",
       "      <td>It is I, Arthur, son of Uther Pendragon, from ...</td>\n",
       "    </tr>\n",
       "    <tr>\n",
       "      <th>4</th>\n",
       "      <td>1</td>\n",
       "      <td>5</td>\n",
       "      <td>ARTHUR</td>\n",
       "      <td>I am. And this my trusty servant Patsy. We hav...</td>\n",
       "    </tr>\n",
       "    <tr>\n",
       "      <th>6</th>\n",
       "      <td>1</td>\n",
       "      <td>7</td>\n",
       "      <td>ARTHUR</td>\n",
       "      <td>Yes!</td>\n",
       "    </tr>\n",
       "    <tr>\n",
       "      <th>8</th>\n",
       "      <td>1</td>\n",
       "      <td>9</td>\n",
       "      <td>ARTHUR</td>\n",
       "      <td>What?</td>\n",
       "    </tr>\n",
       "    <tr>\n",
       "      <th>...</th>\n",
       "      <td>...</td>\n",
       "      <td>...</td>\n",
       "      <td>...</td>\n",
       "      <td>...</td>\n",
       "    </tr>\n",
       "    <tr>\n",
       "      <th>936</th>\n",
       "      <td>36</td>\n",
       "      <td>9</td>\n",
       "      <td>ARTHUR</td>\n",
       "      <td>In the name of the Lord, we demand entrance to...</td>\n",
       "    </tr>\n",
       "    <tr>\n",
       "      <th>938</th>\n",
       "      <td>36</td>\n",
       "      <td>11</td>\n",
       "      <td>ARTHUR</td>\n",
       "      <td>If you do not open this door, we shall take th...</td>\n",
       "    </tr>\n",
       "    <tr>\n",
       "      <th>940</th>\n",
       "      <td>36</td>\n",
       "      <td>13</td>\n",
       "      <td>ARTHUR</td>\n",
       "      <td>Walk away. Just ignore them.</td>\n",
       "    </tr>\n",
       "    <tr>\n",
       "      <th>942</th>\n",
       "      <td>36</td>\n",
       "      <td>15</td>\n",
       "      <td>ARTHUR</td>\n",
       "      <td>We shall attack at once!</td>\n",
       "    </tr>\n",
       "    <tr>\n",
       "      <th>944</th>\n",
       "      <td>36</td>\n",
       "      <td>17</td>\n",
       "      <td>ARTHUR</td>\n",
       "      <td>Stand by for attack!</td>\n",
       "    </tr>\n",
       "  </tbody>\n",
       "</table>\n",
       "<p>190 rows × 4 columns</p>\n",
       "</div>"
      ],
      "text/plain": [
       "     Scene  textNr     Who                                               What\n",
       "0        1       1  ARTHUR                                        Whoa there!\n",
       "2        1       3  ARTHUR  It is I, Arthur, son of Uther Pendragon, from ...\n",
       "4        1       5  ARTHUR  I am. And this my trusty servant Patsy. We hav...\n",
       "6        1       7  ARTHUR                                               Yes!\n",
       "8        1       9  ARTHUR                                              What?\n",
       "..     ...     ...     ...                                                ...\n",
       "936     36       9  ARTHUR  In the name of the Lord, we demand entrance to...\n",
       "938     36      11  ARTHUR  If you do not open this door, we shall take th...\n",
       "940     36      13  ARTHUR                       Walk away. Just ignore them.\n",
       "942     36      15  ARTHUR                           We shall attack at once!\n",
       "944     36      17  ARTHUR                               Stand by for attack!\n",
       "\n",
       "[190 rows x 4 columns]"
      ]
     },
     "execution_count": 22,
     "metadata": {},
     "output_type": "execute_result"
    }
   ],
   "source": [
    "my_data[my_data['Who'] == 'ARTHUR']"
   ]
  },
  {
   "cell_type": "markdown",
   "metadata": {},
   "source": [
    "Another topic discussed in SQL lecture 2 from year 1 were the **aggregation functions**. So for example to see the maximum number of text lines:\n",
    "\n",
    "<font color=blue>SELECT</font> <font color=magenta>COUNT</font>(textNr) <br>\n",
    "<font color=blue>FROM</font> my_data <br>\n",
    "\n",
    "With Pandas..."
   ]
  },
  {
   "cell_type": "code",
   "execution_count": 23,
   "metadata": {},
   "outputs": [
    {
     "data": {
      "text/plain": [
       "945"
      ]
     },
     "execution_count": 23,
     "metadata": {},
     "output_type": "execute_result"
    }
   ],
   "source": [
    "my_data['textNr'].count()"
   ]
  },
  {
   "cell_type": "markdown",
   "metadata": {},
   "source": [
    "There are a lot of aggregate functions we can apply, the four basic ones:\n",
    "\n",
    "* min for minimum\n",
    "* max for maximum \n",
    "* mean for average\n",
    "* count for the number of i.e. count\n",
    "\n",
    "These and a few others can also quickly be obtained on all numeric fields using the *describe* method."
   ]
  },
  {
   "cell_type": "code",
   "execution_count": 24,
   "metadata": {},
   "outputs": [
    {
     "data": {
      "text/html": [
       "<div>\n",
       "<style scoped>\n",
       "    .dataframe tbody tr th:only-of-type {\n",
       "        vertical-align: middle;\n",
       "    }\n",
       "\n",
       "    .dataframe tbody tr th {\n",
       "        vertical-align: top;\n",
       "    }\n",
       "\n",
       "    .dataframe thead th {\n",
       "        text-align: right;\n",
       "    }\n",
       "</style>\n",
       "<table border=\"1\" class=\"dataframe\">\n",
       "  <thead>\n",
       "    <tr style=\"text-align: right;\">\n",
       "      <th></th>\n",
       "      <th>Scene</th>\n",
       "      <th>textNr</th>\n",
       "    </tr>\n",
       "  </thead>\n",
       "  <tbody>\n",
       "    <tr>\n",
       "      <th>count</th>\n",
       "      <td>945.000000</td>\n",
       "      <td>945.000000</td>\n",
       "    </tr>\n",
       "    <tr>\n",
       "      <th>mean</th>\n",
       "      <td>18.642328</td>\n",
       "      <td>26.815873</td>\n",
       "    </tr>\n",
       "    <tr>\n",
       "      <th>std</th>\n",
       "      <td>12.530856</td>\n",
       "      <td>20.055589</td>\n",
       "    </tr>\n",
       "    <tr>\n",
       "      <th>min</th>\n",
       "      <td>1.000000</td>\n",
       "      <td>1.000000</td>\n",
       "    </tr>\n",
       "    <tr>\n",
       "      <th>25%</th>\n",
       "      <td>5.000000</td>\n",
       "      <td>11.000000</td>\n",
       "    </tr>\n",
       "    <tr>\n",
       "      <th>50%</th>\n",
       "      <td>24.000000</td>\n",
       "      <td>23.000000</td>\n",
       "    </tr>\n",
       "    <tr>\n",
       "      <th>75%</th>\n",
       "      <td>31.000000</td>\n",
       "      <td>38.000000</td>\n",
       "    </tr>\n",
       "    <tr>\n",
       "      <th>max</th>\n",
       "      <td>36.000000</td>\n",
       "      <td>98.000000</td>\n",
       "    </tr>\n",
       "  </tbody>\n",
       "</table>\n",
       "</div>"
      ],
      "text/plain": [
       "            Scene      textNr\n",
       "count  945.000000  945.000000\n",
       "mean    18.642328   26.815873\n",
       "std     12.530856   20.055589\n",
       "min      1.000000    1.000000\n",
       "25%      5.000000   11.000000\n",
       "50%     24.000000   23.000000\n",
       "75%     31.000000   38.000000\n",
       "max     36.000000   98.000000"
      ]
     },
     "execution_count": 24,
     "metadata": {},
     "output_type": "execute_result"
    }
   ],
   "source": [
    "my_data.describe()"
   ]
  },
  {
   "cell_type": "markdown",
   "metadata": {},
   "source": [
    "A simple other SQL command we discussed was the ORDER BY, to uhm well **order (or sort) the results**. For example to order by *What* descending:\n",
    "\n",
    "<font color=blue>SELECT</font> * <br>\n",
    "<font color=blue>FROM</font> my_data <br>\n",
    "<font color=blue>ORDER BY</font> What <font color=grey>DESC</font>\n",
    "\n",
    "As you probably suspected, this can also be done with Pandas..."
   ]
  },
  {
   "cell_type": "code",
   "execution_count": 25,
   "metadata": {},
   "outputs": [
    {
     "data": {
      "text/html": [
       "<div>\n",
       "<style scoped>\n",
       "    .dataframe tbody tr th:only-of-type {\n",
       "        vertical-align: middle;\n",
       "    }\n",
       "\n",
       "    .dataframe tbody tr th {\n",
       "        vertical-align: top;\n",
       "    }\n",
       "\n",
       "    .dataframe thead th {\n",
       "        text-align: right;\n",
       "    }\n",
       "</style>\n",
       "<table border=\"1\" class=\"dataframe\">\n",
       "  <thead>\n",
       "    <tr style=\"text-align: right;\">\n",
       "      <th></th>\n",
       "      <th>Scene</th>\n",
       "      <th>textNr</th>\n",
       "      <th>Who</th>\n",
       "      <th>What</th>\n",
       "    </tr>\n",
       "  </thead>\n",
       "  <tbody>\n",
       "    <tr>\n",
       "      <th>297</th>\n",
       "      <td>8</td>\n",
       "      <td>35</td>\n",
       "      <td>MUTTERING GUARDS</td>\n",
       "      <td>ce labon a bunny do wha? un cadeau? a present!...</td>\n",
       "    </tr>\n",
       "    <tr>\n",
       "      <th>273</th>\n",
       "      <td>8</td>\n",
       "      <td>11</td>\n",
       "      <td>OTHER GUARDS</td>\n",
       "      <td>[Laughing]</td>\n",
       "    </tr>\n",
       "    <tr>\n",
       "      <th>409</th>\n",
       "      <td>11</td>\n",
       "      <td>45</td>\n",
       "      <td>GALAHAD</td>\n",
       "      <td>Zoot!</td>\n",
       "    </tr>\n",
       "    <tr>\n",
       "      <th>9</th>\n",
       "      <td>1</td>\n",
       "      <td>10</td>\n",
       "      <td>GUARD #1</td>\n",
       "      <td>You've got two empty halves of coconut and you...</td>\n",
       "    </tr>\n",
       "    <tr>\n",
       "      <th>591</th>\n",
       "      <td>28</td>\n",
       "      <td>6</td>\n",
       "      <td>HERBERT</td>\n",
       "      <td>You've come to rescue me!</td>\n",
       "    </tr>\n",
       "    <tr>\n",
       "      <th>...</th>\n",
       "      <td>...</td>\n",
       "      <td>...</td>\n",
       "      <td>...</td>\n",
       "      <td>...</td>\n",
       "    </tr>\n",
       "    <tr>\n",
       "      <th>933</th>\n",
       "      <td>36</td>\n",
       "      <td>6</td>\n",
       "      <td>GUARD</td>\n",
       "      <td>'Allo, daffy English kaniggets and Monsieur Ar...</td>\n",
       "    </tr>\n",
       "    <tr>\n",
       "      <th>264</th>\n",
       "      <td>8</td>\n",
       "      <td>2</td>\n",
       "      <td>GUARD</td>\n",
       "      <td>'Allo! Who is zis?</td>\n",
       "    </tr>\n",
       "    <tr>\n",
       "      <th>842</th>\n",
       "      <td>34</td>\n",
       "      <td>11</td>\n",
       "      <td>MAYNARD</td>\n",
       "      <td>'... the Castle of uuggggggh'.</td>\n",
       "    </tr>\n",
       "    <tr>\n",
       "      <th>826</th>\n",
       "      <td>33</td>\n",
       "      <td>58</td>\n",
       "      <td>BROTHER</td>\n",
       "      <td>\"And the Lord spake, saying, 'First shalt thou...</td>\n",
       "    </tr>\n",
       "    <tr>\n",
       "      <th>824</th>\n",
       "      <td>33</td>\n",
       "      <td>56</td>\n",
       "      <td>BROTHER</td>\n",
       "      <td>\"And Saint Atila raised the hand grenade up on...</td>\n",
       "    </tr>\n",
       "  </tbody>\n",
       "</table>\n",
       "<p>945 rows × 4 columns</p>\n",
       "</div>"
      ],
      "text/plain": [
       "     Scene  textNr               Who  \\\n",
       "297      8      35  MUTTERING GUARDS   \n",
       "273      8      11      OTHER GUARDS   \n",
       "409     11      45           GALAHAD   \n",
       "9        1      10          GUARD #1   \n",
       "591     28       6           HERBERT   \n",
       "..     ...     ...               ...   \n",
       "933     36       6             GUARD   \n",
       "264      8       2             GUARD   \n",
       "842     34      11           MAYNARD   \n",
       "826     33      58           BROTHER   \n",
       "824     33      56           BROTHER   \n",
       "\n",
       "                                                  What  \n",
       "297  ce labon a bunny do wha? un cadeau? a present!...  \n",
       "273                                         [Laughing]  \n",
       "409                                              Zoot!  \n",
       "9    You've got two empty halves of coconut and you...  \n",
       "591                          You've come to rescue me!  \n",
       "..                                                 ...  \n",
       "933  'Allo, daffy English kaniggets and Monsieur Ar...  \n",
       "264                                 'Allo! Who is zis?  \n",
       "842                     '... the Castle of uuggggggh'.  \n",
       "826  \"And the Lord spake, saying, 'First shalt thou...  \n",
       "824  \"And Saint Atila raised the hand grenade up on...  \n",
       "\n",
       "[945 rows x 4 columns]"
      ]
     },
     "execution_count": 25,
     "metadata": {},
     "output_type": "execute_result"
    }
   ],
   "source": [
    "my_data.sort_values('What', ascending=False)"
   ]
  },
  {
   "cell_type": "markdown",
   "metadata": {},
   "source": [
    "The last SQL clause to discuss is the GROUP BY, since we are often interested in **results per group**. For example we could be interested in the results per actor (Who) and have a few simple counts of texts each had.\n",
    "\n",
    "In SQL that would look like:\n",
    "\n",
    "<font color=blue>SELECT</font> Who, <font color=magenta>COUNT</font>(*) <br>\n",
    "<font color=blue>FROM</font> my_data <br>\n",
    "<font color=blue>GROUP BY</font> Who <br>\n",
    "<font color=blue>ORDER BY</font> 2 <font color=grey>DESC</font>\n",
    "\n",
    "With Pandas we could make one long chain of functions for this, but lets do it step by step first.\n",
    "\n",
    "To let Pandas know we want to group on something, we can use the 'groupby' method:"
   ]
  },
  {
   "cell_type": "code",
   "execution_count": 26,
   "metadata": {},
   "outputs": [
    {
     "data": {
      "text/plain": [
       "<pandas.core.groupby.generic.DataFrameGroupBy object at 0x000001C7C661CD60>"
      ]
     },
     "execution_count": 26,
     "metadata": {},
     "output_type": "execute_result"
    }
   ],
   "source": [
    "gr_who = my_data.groupby(\"Who\")\n",
    "gr_who"
   ]
  },
  {
   "cell_type": "markdown",
   "metadata": {},
   "source": [
    "This in itself is just storing the data of each group seperately. Now we can get our counts per group using this."
   ]
  },
  {
   "cell_type": "code",
   "execution_count": 27,
   "metadata": {},
   "outputs": [
    {
     "data": {
      "text/plain": [
       "Who\n",
       "ALL                     8\n",
       "ALL HEADS               5\n",
       "ARTHUR                190\n",
       "ARTHUR and BEDEMIR      1\n",
       "ARTHUR and PARTY        2\n",
       "Name: textNr, dtype: int64"
      ]
     },
     "execution_count": 27,
     "metadata": {},
     "output_type": "execute_result"
    }
   ],
   "source": [
    "who_txt_counts = gr_who['textNr'].count()\n",
    "who_txt_counts.head()"
   ]
  },
  {
   "cell_type": "markdown",
   "metadata": {},
   "source": [
    "Now we can sort this:"
   ]
  },
  {
   "cell_type": "code",
   "execution_count": 28,
   "metadata": {},
   "outputs": [
    {
     "data": {
      "text/plain": [
       "Who\n",
       "ARTHUR       190\n",
       "LAUNCELOT     64\n",
       "FATHER        57\n",
       "GALAHAD       53\n",
       "BEDEMIR       48\n",
       "Name: textNr, dtype: int64"
      ]
     },
     "execution_count": 28,
     "metadata": {},
     "output_type": "execute_result"
    }
   ],
   "source": [
    "who_txt_counts_sorted = who_txt_counts.sort_values(ascending=False)\n",
    "who_txt_counts_sorted.head()"
   ]
  },
  {
   "cell_type": "markdown",
   "metadata": {},
   "source": [
    "And yes, we could have combined all in one long chain of code:"
   ]
  },
  {
   "cell_type": "code",
   "execution_count": 29,
   "metadata": {},
   "outputs": [
    {
     "data": {
      "text/plain": [
       "Who\n",
       "ARTHUR       190\n",
       "LAUNCELOT     64\n",
       "FATHER        57\n",
       "GALAHAD       53\n",
       "BEDEMIR       48\n",
       "Name: textNr, dtype: int64"
      ]
     },
     "execution_count": 29,
     "metadata": {},
     "output_type": "execute_result"
    }
   ],
   "source": [
    "my_data.groupby(\"Who\")['textNr'].count().sort_values(ascending=False).head()"
   ]
  },
  {
   "cell_type": "markdown",
   "metadata": {},
   "source": [
    "If you do like to use this chaining, but want to somewhat structure it, you can use a set of parenthesis around the entire thing, and then you can use a new line for each new part of the chain:"
   ]
  },
  {
   "cell_type": "code",
   "execution_count": 30,
   "metadata": {},
   "outputs": [
    {
     "data": {
      "text/plain": [
       "Who\n",
       "ARTHUR       190\n",
       "LAUNCELOT     64\n",
       "FATHER        57\n",
       "GALAHAD       53\n",
       "BEDEMIR       48\n",
       "Name: textNr, dtype: int64"
      ]
     },
     "execution_count": 30,
     "metadata": {},
     "output_type": "execute_result"
    }
   ],
   "source": [
    "(\n",
    "    my_data\n",
    "    .groupby(\"Who\")['textNr']\n",
    "    .count()\n",
    "    .sort_values(ascending=False)\n",
    "    .head()\n",
    ")"
   ]
  },
  {
   "cell_type": "code",
   "execution_count": null,
   "metadata": {},
   "outputs": [],
   "source": []
  },
  {
   "cell_type": "markdown",
   "metadata": {},
   "source": [
    "## 2.3. Exercise\n",
    "\n",
    "For this exercise we'll use a datafile that actually comes from another program: R. To understand what the variables mean, you might want to check the documentation about the file, available <a href=\"https://www.rdocumentation.org/packages/datasets/versions/3.6.2/topics/ChickWeight\">here</a>.\n",
    "\n",
    "Shout-out to Mr. Van der Meer for the inspiration for this exercise.\n",
    "\n",
    "*a) Load the chickweight.csv file as a pandas dataframe, and show the first five records*"
   ]
  },
  {
   "cell_type": "code",
   "execution_count": 31,
   "metadata": {},
   "outputs": [
    {
     "data": {
      "text/html": [
       "<div>\n",
       "<style scoped>\n",
       "    .dataframe tbody tr th:only-of-type {\n",
       "        vertical-align: middle;\n",
       "    }\n",
       "\n",
       "    .dataframe tbody tr th {\n",
       "        vertical-align: top;\n",
       "    }\n",
       "\n",
       "    .dataframe thead th {\n",
       "        text-align: right;\n",
       "    }\n",
       "</style>\n",
       "<table border=\"1\" class=\"dataframe\">\n",
       "  <thead>\n",
       "    <tr style=\"text-align: right;\">\n",
       "      <th></th>\n",
       "      <th>rownum</th>\n",
       "      <th>weight</th>\n",
       "      <th>Time</th>\n",
       "      <th>Chick</th>\n",
       "      <th>Diet</th>\n",
       "    </tr>\n",
       "  </thead>\n",
       "  <tbody>\n",
       "    <tr>\n",
       "      <th>0</th>\n",
       "      <td>1</td>\n",
       "      <td>42</td>\n",
       "      <td>0</td>\n",
       "      <td>1</td>\n",
       "      <td>1</td>\n",
       "    </tr>\n",
       "    <tr>\n",
       "      <th>1</th>\n",
       "      <td>2</td>\n",
       "      <td>51</td>\n",
       "      <td>2</td>\n",
       "      <td>1</td>\n",
       "      <td>1</td>\n",
       "    </tr>\n",
       "    <tr>\n",
       "      <th>2</th>\n",
       "      <td>3</td>\n",
       "      <td>59</td>\n",
       "      <td>4</td>\n",
       "      <td>1</td>\n",
       "      <td>1</td>\n",
       "    </tr>\n",
       "    <tr>\n",
       "      <th>3</th>\n",
       "      <td>4</td>\n",
       "      <td>64</td>\n",
       "      <td>6</td>\n",
       "      <td>1</td>\n",
       "      <td>1</td>\n",
       "    </tr>\n",
       "    <tr>\n",
       "      <th>4</th>\n",
       "      <td>5</td>\n",
       "      <td>76</td>\n",
       "      <td>8</td>\n",
       "      <td>1</td>\n",
       "      <td>1</td>\n",
       "    </tr>\n",
       "  </tbody>\n",
       "</table>\n",
       "</div>"
      ],
      "text/plain": [
       "   rownum  weight  Time  Chick  Diet\n",
       "0       1      42     0      1     1\n",
       "1       2      51     2      1     1\n",
       "2       3      59     4      1     1\n",
       "3       4      64     6      1     1\n",
       "4       5      76     8      1     1"
      ]
     },
     "execution_count": 31,
     "metadata": {},
     "output_type": "execute_result"
    }
   ],
   "source": [
    "chick_data = pd.read_csv(\"chickweight.csv\", sep=',', skipinitialspace=True)\n",
    "chick_data.head()\n",
    "#print(chick_data)"
   ]
  },
  {
   "cell_type": "markdown",
   "metadata": {},
   "source": [
    "*b) Show from row numbers 10 to 15 the weight, and diet*"
   ]
  },
  {
   "cell_type": "code",
   "execution_count": 32,
   "metadata": {},
   "outputs": [
    {
     "data": {
      "text/html": [
       "<div>\n",
       "<style scoped>\n",
       "    .dataframe tbody tr th:only-of-type {\n",
       "        vertical-align: middle;\n",
       "    }\n",
       "\n",
       "    .dataframe tbody tr th {\n",
       "        vertical-align: top;\n",
       "    }\n",
       "\n",
       "    .dataframe thead th {\n",
       "        text-align: right;\n",
       "    }\n",
       "</style>\n",
       "<table border=\"1\" class=\"dataframe\">\n",
       "  <thead>\n",
       "    <tr style=\"text-align: right;\">\n",
       "      <th></th>\n",
       "      <th>weight</th>\n",
       "      <th>Diet</th>\n",
       "    </tr>\n",
       "  </thead>\n",
       "  <tbody>\n",
       "    <tr>\n",
       "      <th>10</th>\n",
       "      <td>199</td>\n",
       "      <td>1</td>\n",
       "    </tr>\n",
       "    <tr>\n",
       "      <th>11</th>\n",
       "      <td>205</td>\n",
       "      <td>1</td>\n",
       "    </tr>\n",
       "    <tr>\n",
       "      <th>12</th>\n",
       "      <td>40</td>\n",
       "      <td>1</td>\n",
       "    </tr>\n",
       "    <tr>\n",
       "      <th>13</th>\n",
       "      <td>49</td>\n",
       "      <td>1</td>\n",
       "    </tr>\n",
       "    <tr>\n",
       "      <th>14</th>\n",
       "      <td>58</td>\n",
       "      <td>1</td>\n",
       "    </tr>\n",
       "    <tr>\n",
       "      <th>15</th>\n",
       "      <td>72</td>\n",
       "      <td>1</td>\n",
       "    </tr>\n",
       "  </tbody>\n",
       "</table>\n",
       "</div>"
      ],
      "text/plain": [
       "    weight  Diet\n",
       "10     199     1\n",
       "11     205     1\n",
       "12      40     1\n",
       "13      49     1\n",
       "14      58     1\n",
       "15      72     1"
      ]
     },
     "execution_count": 32,
     "metadata": {},
     "output_type": "execute_result"
    }
   ],
   "source": [
    "#my_chick_data.iloc[10:16][['weight','Diet']]\n",
    "chick_data.iloc[10:16, [1,4]]\n"
   ]
  },
  {
   "cell_type": "markdown",
   "metadata": {},
   "source": [
    "*c) Show the fields/columns weight and time of chick 1.*"
   ]
  },
  {
   "cell_type": "code",
   "execution_count": 33,
   "metadata": {},
   "outputs": [
    {
     "data": {
      "text/html": [
       "<div>\n",
       "<style scoped>\n",
       "    .dataframe tbody tr th:only-of-type {\n",
       "        vertical-align: middle;\n",
       "    }\n",
       "\n",
       "    .dataframe tbody tr th {\n",
       "        vertical-align: top;\n",
       "    }\n",
       "\n",
       "    .dataframe thead th {\n",
       "        text-align: right;\n",
       "    }\n",
       "</style>\n",
       "<table border=\"1\" class=\"dataframe\">\n",
       "  <thead>\n",
       "    <tr style=\"text-align: right;\">\n",
       "      <th></th>\n",
       "      <th>weight</th>\n",
       "      <th>Time</th>\n",
       "    </tr>\n",
       "  </thead>\n",
       "  <tbody>\n",
       "    <tr>\n",
       "      <th>0</th>\n",
       "      <td>42</td>\n",
       "      <td>0</td>\n",
       "    </tr>\n",
       "    <tr>\n",
       "      <th>1</th>\n",
       "      <td>51</td>\n",
       "      <td>2</td>\n",
       "    </tr>\n",
       "    <tr>\n",
       "      <th>2</th>\n",
       "      <td>59</td>\n",
       "      <td>4</td>\n",
       "    </tr>\n",
       "    <tr>\n",
       "      <th>3</th>\n",
       "      <td>64</td>\n",
       "      <td>6</td>\n",
       "    </tr>\n",
       "    <tr>\n",
       "      <th>4</th>\n",
       "      <td>76</td>\n",
       "      <td>8</td>\n",
       "    </tr>\n",
       "    <tr>\n",
       "      <th>5</th>\n",
       "      <td>93</td>\n",
       "      <td>10</td>\n",
       "    </tr>\n",
       "    <tr>\n",
       "      <th>6</th>\n",
       "      <td>106</td>\n",
       "      <td>12</td>\n",
       "    </tr>\n",
       "    <tr>\n",
       "      <th>7</th>\n",
       "      <td>125</td>\n",
       "      <td>14</td>\n",
       "    </tr>\n",
       "    <tr>\n",
       "      <th>8</th>\n",
       "      <td>149</td>\n",
       "      <td>16</td>\n",
       "    </tr>\n",
       "    <tr>\n",
       "      <th>9</th>\n",
       "      <td>171</td>\n",
       "      <td>18</td>\n",
       "    </tr>\n",
       "    <tr>\n",
       "      <th>10</th>\n",
       "      <td>199</td>\n",
       "      <td>20</td>\n",
       "    </tr>\n",
       "    <tr>\n",
       "      <th>11</th>\n",
       "      <td>205</td>\n",
       "      <td>21</td>\n",
       "    </tr>\n",
       "  </tbody>\n",
       "</table>\n",
       "</div>"
      ],
      "text/plain": [
       "    weight  Time\n",
       "0       42     0\n",
       "1       51     2\n",
       "2       59     4\n",
       "3       64     6\n",
       "4       76     8\n",
       "5       93    10\n",
       "6      106    12\n",
       "7      125    14\n",
       "8      149    16\n",
       "9      171    18\n",
       "10     199    20\n",
       "11     205    21"
      ]
     },
     "execution_count": 33,
     "metadata": {},
     "output_type": "execute_result"
    }
   ],
   "source": [
    "chick_data[chick_data['Chick']==1][['weight','Time']]"
   ]
  },
  {
   "cell_type": "markdown",
   "metadata": {},
   "source": [
    "*d) Determine the maximum weight for each diet*"
   ]
  },
  {
   "cell_type": "code",
   "execution_count": 34,
   "metadata": {},
   "outputs": [
    {
     "data": {
      "text/plain": [
       "Diet\n",
       "1    305\n",
       "2    331\n",
       "3    373\n",
       "4    322\n",
       "Name: weight, dtype: int64"
      ]
     },
     "execution_count": 34,
     "metadata": {},
     "output_type": "execute_result"
    }
   ],
   "source": [
    "chick_data.groupby(\"Diet\")['weight'].max()"
   ]
  },
  {
   "cell_type": "markdown",
   "metadata": {},
   "source": [
    "*e) Determine the max time per chicken. Sort the results low to high. Which chickens seems not to have made it to the last time of measuring?*"
   ]
  },
  {
   "cell_type": "code",
   "execution_count": 35,
   "metadata": {},
   "outputs": [
    {
     "data": {
      "text/plain": [
       "Chick\n",
       "18     2\n",
       "16    12\n",
       "15    14\n",
       "44    18\n",
       "8     20\n",
       "1     21\n",
       "30    21\n",
       "31    21\n",
       "32    21\n",
       "33    21\n",
       "34    21\n",
       "35    21\n",
       "36    21\n",
       "38    21\n",
       "29    21\n",
       "39    21\n",
       "40    21\n",
       "41    21\n",
       "42    21\n",
       "43    21\n",
       "45    21\n",
       "46    21\n",
       "47    21\n",
       "48    21\n",
       "37    21\n",
       "28    21\n",
       "25    21\n",
       "26    21\n",
       "2     21\n",
       "3     21\n",
       "4     21\n",
       "5     21\n",
       "6     21\n",
       "7     21\n",
       "9     21\n",
       "10    21\n",
       "11    21\n",
       "27    21\n",
       "12    21\n",
       "14    21\n",
       "17    21\n",
       "19    21\n",
       "20    21\n",
       "21    21\n",
       "22    21\n",
       "23    21\n",
       "24    21\n",
       "49    21\n",
       "13    21\n",
       "50    21\n",
       "Name: Time, dtype: int64"
      ]
     },
     "execution_count": 35,
     "metadata": {},
     "output_type": "execute_result"
    }
   ],
   "source": [
    "chick_data.groupby('Chick')['Time'].max().sort_values()"
   ]
  },
  {
   "cell_type": "markdown",
   "metadata": {},
   "source": [
    "*f) What are the chick numbers of those with the maximum weight for each diet? (note you might need to search the internet a bit for a solution, hint: transform...)*"
   ]
  },
  {
   "cell_type": "code",
   "execution_count": 36,
   "metadata": {},
   "outputs": [
    {
     "data": {
      "text/plain": [
       "Diet\n",
       "1    305\n",
       "2    331\n",
       "3    373\n",
       "4    322\n",
       "Name: weight, dtype: int64"
      ]
     },
     "execution_count": 36,
     "metadata": {},
     "output_type": "execute_result"
    }
   ],
   "source": [
    "#Maximum weight for each diet.\n",
    "chick_data.groupby('Diet')['weight'].max()"
   ]
  },
  {
   "cell_type": "markdown",
   "metadata": {},
   "source": [
    "*g) Show the data of the chicks that did not reach the last time period. Show all their results for their last time period. (note use again the transform)*"
   ]
  },
  {
   "cell_type": "code",
   "execution_count": 37,
   "metadata": {},
   "outputs": [
    {
     "data": {
      "text/html": [
       "<div>\n",
       "<style scoped>\n",
       "    .dataframe tbody tr th:only-of-type {\n",
       "        vertical-align: middle;\n",
       "    }\n",
       "\n",
       "    .dataframe tbody tr th {\n",
       "        vertical-align: top;\n",
       "    }\n",
       "\n",
       "    .dataframe thead th {\n",
       "        text-align: right;\n",
       "    }\n",
       "</style>\n",
       "<table border=\"1\" class=\"dataframe\">\n",
       "  <thead>\n",
       "    <tr style=\"text-align: right;\">\n",
       "      <th></th>\n",
       "      <th>rownum</th>\n",
       "      <th>weight</th>\n",
       "      <th>Time</th>\n",
       "      <th>Chick</th>\n",
       "      <th>Diet</th>\n",
       "    </tr>\n",
       "  </thead>\n",
       "  <tbody>\n",
       "    <tr>\n",
       "      <th>94</th>\n",
       "      <td>95</td>\n",
       "      <td>125</td>\n",
       "      <td>20</td>\n",
       "      <td>8</td>\n",
       "      <td>1</td>\n",
       "    </tr>\n",
       "    <tr>\n",
       "      <th>174</th>\n",
       "      <td>175</td>\n",
       "      <td>68</td>\n",
       "      <td>14</td>\n",
       "      <td>15</td>\n",
       "      <td>1</td>\n",
       "    </tr>\n",
       "    <tr>\n",
       "      <th>181</th>\n",
       "      <td>182</td>\n",
       "      <td>54</td>\n",
       "      <td>12</td>\n",
       "      <td>16</td>\n",
       "      <td>1</td>\n",
       "    </tr>\n",
       "    <tr>\n",
       "      <th>195</th>\n",
       "      <td>196</td>\n",
       "      <td>35</td>\n",
       "      <td>2</td>\n",
       "      <td>18</td>\n",
       "      <td>1</td>\n",
       "    </tr>\n",
       "    <tr>\n",
       "      <th>505</th>\n",
       "      <td>506</td>\n",
       "      <td>146</td>\n",
       "      <td>18</td>\n",
       "      <td>44</td>\n",
       "      <td>4</td>\n",
       "    </tr>\n",
       "  </tbody>\n",
       "</table>\n",
       "</div>"
      ],
      "text/plain": [
       "     rownum  weight  Time  Chick  Diet\n",
       "94       95     125    20      8     1\n",
       "174     175      68    14     15     1\n",
       "181     182      54    12     16     1\n",
       "195     196      35     2     18     1\n",
       "505     506     146    18     44     4"
      ]
     },
     "execution_count": 37,
     "metadata": {},
     "output_type": "execute_result"
    }
   ],
   "source": [
    "data = chick_data.groupby(['Chick'])['Time'].transform(max) == chick_data['Time']\n",
    "chick_data[data][chick_data[data]['Time'] < 21]\n"
   ]
  },
  {
   "cell_type": "markdown",
   "metadata": {},
   "source": [
    "For a decent explanation of transform, see: https://pbpython.com/pandas_transform.html"
   ]
  },
  {
   "cell_type": "markdown",
   "metadata": {},
   "source": [
    "**Final note on SQL with Python**\n",
    "\n",
    "It is also possible to use true SQL with Python and connect to a database. This is beyond the scope of this course. If you are interested there is a free MOOC available on Coursera.org from IBM that covers this: https://www.coursera.org/learn/sql-data-science/home/welcome. "
   ]
  },
  {
   "cell_type": "markdown",
   "metadata": {},
   "source": [
    "# 3. Data Cleaning"
   ]
  },
  {
   "cell_type": "markdown",
   "metadata": {},
   "source": [
    "You might have heard about the phrase 'garbage in, garbage out'. It means that if the data is not 'good' you cannot get reliable results. \n",
    "\n",
    "Data Cleaning is a study in itself, and some claim it takes about 80% of the time of the data scientist. This claim of 80% is perhaps a bit exagerated (see for example <a href=\"https://blog.ldodds.com/2020/01/31/do-data-scientists-spend-80-of-their-time-cleaning-data-turns-out-no/\">here</a>), but that a lot of time should be spend on this is not debated by anyone in the field.\n",
    "\n",
    "How to clean your data will unfortunately depend on your specific situation. In this chapter just a few techniques are discussed, but there is a lot more. A good starting point to get some more ideas is: https://towardsdatascience.com/the-ultimate-guide-to-data-cleaning-3969843991d4\n",
    "\n",
    "Okay, first lets get some data:"
   ]
  },
  {
   "cell_type": "code",
   "execution_count": 38,
   "metadata": {},
   "outputs": [
    {
     "data": {
      "text/html": [
       "<div>\n",
       "<style scoped>\n",
       "    .dataframe tbody tr th:only-of-type {\n",
       "        vertical-align: middle;\n",
       "    }\n",
       "\n",
       "    .dataframe tbody tr th {\n",
       "        vertical-align: top;\n",
       "    }\n",
       "\n",
       "    .dataframe thead th {\n",
       "        text-align: right;\n",
       "    }\n",
       "</style>\n",
       "<table border=\"1\" class=\"dataframe\">\n",
       "  <thead>\n",
       "    <tr style=\"text-align: right;\">\n",
       "      <th></th>\n",
       "      <th>respnr</th>\n",
       "      <th>location</th>\n",
       "      <th>oaa_objcourse</th>\n",
       "      <th>oaa_objclass</th>\n",
       "      <th>oaa_courseexec</th>\n",
       "      <th>oaa_relactobj</th>\n",
       "      <th>oaa_relactexa</th>\n",
       "      <th>oaa_relobjexa</th>\n",
       "      <th>oaa_learprocact</th>\n",
       "      <th>oaa_learprocprep</th>\n",
       "      <th>...</th>\n",
       "      <th>mix_intdiscus</th>\n",
       "      <th>mix_intprep</th>\n",
       "      <th>mix_intexcel</th>\n",
       "      <th>over_grade</th>\n",
       "      <th>gen_gender</th>\n",
       "      <th>gen_age</th>\n",
       "      <th>gen_secschool</th>\n",
       "      <th>gen_classes</th>\n",
       "      <th>gen_numbersubj</th>\n",
       "      <th>gen_time</th>\n",
       "    </tr>\n",
       "  </thead>\n",
       "  <tbody>\n",
       "    <tr>\n",
       "      <th>0</th>\n",
       "      <td>1.0</td>\n",
       "      <td>Rotterdam</td>\n",
       "      <td>Fully Disagree</td>\n",
       "      <td>Fully Disagree</td>\n",
       "      <td>Fully Disagree</td>\n",
       "      <td>Disagree</td>\n",
       "      <td>Fully Disagree</td>\n",
       "      <td>Fully Disagree</td>\n",
       "      <td>Fully Disagree</td>\n",
       "      <td>Fully Disagree</td>\n",
       "      <td>...</td>\n",
       "      <td>Not at all</td>\n",
       "      <td>not so much</td>\n",
       "      <td>not so much</td>\n",
       "      <td>20.0</td>\n",
       "      <td>Female</td>\n",
       "      <td>22.0</td>\n",
       "      <td>NaN</td>\n",
       "      <td>NaN</td>\n",
       "      <td>Fully agree</td>\n",
       "      <td>20 &lt; 30</td>\n",
       "    </tr>\n",
       "    <tr>\n",
       "      <th>1</th>\n",
       "      <td>2.0</td>\n",
       "      <td>Haarlem</td>\n",
       "      <td>Disagree</td>\n",
       "      <td>Disagree</td>\n",
       "      <td>NaN</td>\n",
       "      <td>Fully Disagree</td>\n",
       "      <td>Neither disagree nor agree</td>\n",
       "      <td>Agree</td>\n",
       "      <td>Disagree</td>\n",
       "      <td>Neither disagree nor agree</td>\n",
       "      <td>...</td>\n",
       "      <td>not so much</td>\n",
       "      <td>somewhat</td>\n",
       "      <td>somewhat</td>\n",
       "      <td>50.0</td>\n",
       "      <td>Male</td>\n",
       "      <td>NaN</td>\n",
       "      <td>The Netherlands</td>\n",
       "      <td>6.0</td>\n",
       "      <td>Disagree</td>\n",
       "      <td>10 &lt; 20</td>\n",
       "    </tr>\n",
       "    <tr>\n",
       "      <th>2</th>\n",
       "      <td>3.0</td>\n",
       "      <td>Diemen</td>\n",
       "      <td>Fully agree</td>\n",
       "      <td>Fully agree</td>\n",
       "      <td>Agree</td>\n",
       "      <td>Fully agree</td>\n",
       "      <td>Fully agree</td>\n",
       "      <td>Fully agree</td>\n",
       "      <td>Fully agree</td>\n",
       "      <td>Agree</td>\n",
       "      <td>...</td>\n",
       "      <td>Very much</td>\n",
       "      <td>somewhat</td>\n",
       "      <td>somewhat</td>\n",
       "      <td>80.0</td>\n",
       "      <td>Male</td>\n",
       "      <td>37.0</td>\n",
       "      <td>Africa</td>\n",
       "      <td>7.0</td>\n",
       "      <td>Agree</td>\n",
       "      <td>10 &lt; 20</td>\n",
       "    </tr>\n",
       "    <tr>\n",
       "      <th>3</th>\n",
       "      <td>4.0</td>\n",
       "      <td>Rotterdam</td>\n",
       "      <td>Fully Disagree</td>\n",
       "      <td>Neither disagree nor agree</td>\n",
       "      <td>Disagree</td>\n",
       "      <td>Neither disagree nor agree</td>\n",
       "      <td>Neither disagree nor agree</td>\n",
       "      <td>Fully Disagree</td>\n",
       "      <td>Fully Disagree</td>\n",
       "      <td>Neither disagree nor agree</td>\n",
       "      <td>...</td>\n",
       "      <td>NaN</td>\n",
       "      <td>neutral</td>\n",
       "      <td>neutral</td>\n",
       "      <td>15.0</td>\n",
       "      <td>Female</td>\n",
       "      <td>24.0</td>\n",
       "      <td>The Netherlands</td>\n",
       "      <td>6.0</td>\n",
       "      <td>Agree</td>\n",
       "      <td>10 &lt; 20</td>\n",
       "    </tr>\n",
       "    <tr>\n",
       "      <th>4</th>\n",
       "      <td>5.0</td>\n",
       "      <td>Haarlem</td>\n",
       "      <td>Disagree</td>\n",
       "      <td>Agree</td>\n",
       "      <td>Fully Disagree</td>\n",
       "      <td>Neither disagree nor agree</td>\n",
       "      <td>Fully agree</td>\n",
       "      <td>Fully agree</td>\n",
       "      <td>Neither disagree nor agree</td>\n",
       "      <td>Fully agree</td>\n",
       "      <td>...</td>\n",
       "      <td>Not at all</td>\n",
       "      <td>somewhat</td>\n",
       "      <td>Very much</td>\n",
       "      <td>40.0</td>\n",
       "      <td>Male</td>\n",
       "      <td>19.0</td>\n",
       "      <td>The Netherlands</td>\n",
       "      <td>7.0</td>\n",
       "      <td>Fully agree</td>\n",
       "      <td>10 &lt; 20</td>\n",
       "    </tr>\n",
       "  </tbody>\n",
       "</table>\n",
       "<p>5 rows × 50 columns</p>\n",
       "</div>"
      ],
      "text/plain": [
       "   respnr   location   oaa_objcourse                oaa_objclass  \\\n",
       "0     1.0  Rotterdam  Fully Disagree              Fully Disagree   \n",
       "1     2.0    Haarlem        Disagree                    Disagree   \n",
       "2     3.0     Diemen     Fully agree                 Fully agree   \n",
       "3     4.0  Rotterdam  Fully Disagree  Neither disagree nor agree   \n",
       "4     5.0    Haarlem        Disagree                       Agree   \n",
       "\n",
       "   oaa_courseexec               oaa_relactobj               oaa_relactexa  \\\n",
       "0  Fully Disagree                    Disagree              Fully Disagree   \n",
       "1             NaN              Fully Disagree  Neither disagree nor agree   \n",
       "2           Agree                 Fully agree                 Fully agree   \n",
       "3        Disagree  Neither disagree nor agree  Neither disagree nor agree   \n",
       "4  Fully Disagree  Neither disagree nor agree                 Fully agree   \n",
       "\n",
       "    oaa_relobjexa             oaa_learprocact            oaa_learprocprep  \\\n",
       "0  Fully Disagree              Fully Disagree              Fully Disagree   \n",
       "1           Agree                    Disagree  Neither disagree nor agree   \n",
       "2     Fully agree                 Fully agree                       Agree   \n",
       "3  Fully Disagree              Fully Disagree  Neither disagree nor agree   \n",
       "4     Fully agree  Neither disagree nor agree                 Fully agree   \n",
       "\n",
       "   ... mix_intdiscus  mix_intprep mix_intexcel over_grade gen_gender gen_age  \\\n",
       "0  ...    Not at all  not so much  not so much       20.0     Female    22.0   \n",
       "1  ...   not so much     somewhat     somewhat       50.0       Male     NaN   \n",
       "2  ...     Very much     somewhat     somewhat       80.0       Male    37.0   \n",
       "3  ...           NaN      neutral      neutral       15.0     Female    24.0   \n",
       "4  ...    Not at all     somewhat    Very much       40.0       Male    19.0   \n",
       "\n",
       "     gen_secschool gen_classes gen_numbersubj gen_time  \n",
       "0              NaN         NaN    Fully agree  20 < 30  \n",
       "1  The Netherlands         6.0       Disagree  10 < 20  \n",
       "2           Africa         7.0          Agree  10 < 20  \n",
       "3  The Netherlands         6.0          Agree  10 < 20  \n",
       "4  The Netherlands         7.0    Fully agree  10 < 20  \n",
       "\n",
       "[5 rows x 50 columns]"
      ]
     },
     "execution_count": 38,
     "metadata": {},
     "output_type": "execute_result"
    }
   ],
   "source": [
    "survey_df = pd.read_csv(\"StudentStatistics.csv\", sep=';').rename(str.lower, axis='columns') \n",
    "survey_df.head()"
   ]
  },
  {
   "cell_type": "markdown",
   "metadata": {},
   "source": [
    "To get a quick impression of which columns there actually are:"
   ]
  },
  {
   "cell_type": "code",
   "execution_count": 39,
   "metadata": {},
   "outputs": [
    {
     "data": {
      "text/plain": [
       "Index(['respnr', 'location', 'oaa_objcourse', 'oaa_objclass', 'oaa_courseexec',\n",
       "       'oaa_relactobj', 'oaa_relactexa', 'oaa_relobjexa', 'oaa_learprocact',\n",
       "       'oaa_learprocprep', 'oaa_learprocdisc', 'oaa_learproclect',\n",
       "       'oaa_learprocexe', 'oaa_setupmotiv', 'oaa_usefulnessstat', 'mat_burns',\n",
       "       'mat_baarda', 'mat_laerd', 'mat_powerpoint', 'mat_addmaterial',\n",
       "       'mat_excel', 'mat_announcements', 'bb_own', 'bb_motivating',\n",
       "       'bb_userfr', 'bb_suffict', 'teach_motivate', 'teach_linktheory',\n",
       "       'teach_stimask', 'teach_avail', 'teach_stimdisc', 'teach_partic',\n",
       "       'teach_comp', 'mix_adeq1', 'mix_adeq1_open', 'mix_nrclass', 'mix_nract',\n",
       "       'mix_adeq2', 'mix_adeq2_open', 'mix_intclass', 'mix_intdiscus',\n",
       "       'mix_intprep', 'mix_intexcel', 'over_grade', 'gen_gender', 'gen_age',\n",
       "       'gen_secschool', 'gen_classes', 'gen_numbersubj', 'gen_time'],\n",
       "      dtype='object')"
      ]
     },
     "execution_count": 39,
     "metadata": {},
     "output_type": "execute_result"
    }
   ],
   "source": [
    "survey_df.columns"
   ]
  },
  {
   "cell_type": "markdown",
   "metadata": {},
   "source": [
    "An explanation of each variable is usually also available (or should be). If you haven't collected the data yourself a so-called code book is very useful. This should explain what each variable means and the different options that were available for each variable."
   ]
  },
  {
   "cell_type": "markdown",
   "metadata": {},
   "source": [
    "## 3.1. Setting the proper dtype"
   ]
  },
  {
   "cell_type": "markdown",
   "metadata": {},
   "source": [
    "Lets see what data types each column contains:"
   ]
  },
  {
   "cell_type": "code",
   "execution_count": 40,
   "metadata": {},
   "outputs": [
    {
     "data": {
      "text/plain": [
       "respnr                float64\n",
       "location               object\n",
       "oaa_objcourse          object\n",
       "oaa_objclass           object\n",
       "oaa_courseexec         object\n",
       "oaa_relactobj          object\n",
       "oaa_relactexa          object\n",
       "oaa_relobjexa          object\n",
       "oaa_learprocact        object\n",
       "oaa_learprocprep       object\n",
       "oaa_learprocdisc       object\n",
       "oaa_learproclect       object\n",
       "oaa_learprocexe        object\n",
       "oaa_setupmotiv         object\n",
       "oaa_usefulnessstat     object\n",
       "mat_burns              object\n",
       "mat_baarda             object\n",
       "mat_laerd              object\n",
       "mat_powerpoint         object\n",
       "mat_addmaterial        object\n",
       "mat_excel              object\n",
       "mat_announcements      object\n",
       "bb_own                 object\n",
       "bb_motivating          object\n",
       "bb_userfr              object\n",
       "bb_suffict             object\n",
       "teach_motivate         object\n",
       "teach_linktheory       object\n",
       "teach_stimask          object\n",
       "teach_avail            object\n",
       "teach_stimdisc         object\n",
       "teach_partic           object\n",
       "teach_comp             object\n",
       "mix_adeq1              object\n",
       "mix_adeq1_open         object\n",
       "mix_nrclass            object\n",
       "mix_nract              object\n",
       "mix_adeq2              object\n",
       "mix_adeq2_open         object\n",
       "mix_intclass           object\n",
       "mix_intdiscus          object\n",
       "mix_intprep            object\n",
       "mix_intexcel           object\n",
       "over_grade            float64\n",
       "gen_gender             object\n",
       "gen_age               float64\n",
       "gen_secschool          object\n",
       "gen_classes           float64\n",
       "gen_numbersubj         object\n",
       "gen_time               object\n",
       "dtype: object"
      ]
     },
     "execution_count": 40,
     "metadata": {},
     "output_type": "execute_result"
    }
   ],
   "source": [
    "survey_df.dtypes"
   ]
  },
  {
   "cell_type": "markdown",
   "metadata": {},
   "source": [
    "So most of them are 'object' which indicates a mix of text and numbers. This is probably the 'slowest' data type to work with. So lets change them to what they should be.\n",
    "\n",
    "The *location* is our first object column. So lets see what the results looked like:"
   ]
  },
  {
   "cell_type": "code",
   "execution_count": 41,
   "metadata": {},
   "outputs": [
    {
     "data": {
      "text/plain": [
       "array(['Rotterdam', 'Haarlem', 'Diemen'], dtype=object)"
      ]
     },
     "execution_count": 41,
     "metadata": {},
     "output_type": "execute_result"
    }
   ],
   "source": [
    "survey_df['location'].unique()"
   ]
  },
  {
   "cell_type": "markdown",
   "metadata": {},
   "source": [
    "Only three options. This appears to be a so-called nominal variable. We have clear categories and there is no logical order in the options. "
   ]
  },
  {
   "cell_type": "markdown",
   "metadata": {},
   "source": [
    "Just so we can compare later if this is indeed slower, lets do a group by on location and sum the age for each location. "
   ]
  },
  {
   "cell_type": "code",
   "execution_count": 42,
   "metadata": {},
   "outputs": [
    {
     "name": "stdout",
     "output_type": "stream",
     "text": [
      "283 µs ± 16.4 µs per loop (mean ± std. dev. of 7 runs, 1000 loops each)\n"
     ]
    }
   ],
   "source": [
    "%%timeit\n",
    "survey_df.groupby('location')['gen_age'].sum()"
   ]
  },
  {
   "cell_type": "markdown",
   "metadata": {},
   "source": [
    "Now lets change the dtype to *categorical*:"
   ]
  },
  {
   "cell_type": "code",
   "execution_count": 43,
   "metadata": {},
   "outputs": [
    {
     "data": {
      "text/plain": [
       "CategoricalDtype(categories=['Diemen', 'Haarlem', 'Rotterdam'], ordered=False)"
      ]
     },
     "execution_count": 43,
     "metadata": {},
     "output_type": "execute_result"
    }
   ],
   "source": [
    "survey_df['location'] = pd.Categorical(survey_df['location'])\n",
    "survey_df['location'].dtypes"
   ]
  },
  {
   "cell_type": "markdown",
   "metadata": {},
   "source": [
    "Note that the categories are in alphabetical order. Is this now faster?\n",
    "\n"
   ]
  },
  {
   "cell_type": "code",
   "execution_count": 44,
   "metadata": {},
   "outputs": [
    {
     "name": "stdout",
     "output_type": "stream",
     "text": [
      "264 µs ± 19.6 µs per loop (mean ± std. dev. of 7 runs, 1000 loops each)\n"
     ]
    }
   ],
   "source": [
    "%%timeit\n",
    "survey_df.groupby('location')['gen_age'].sum()"
   ]
  },
  {
   "cell_type": "markdown",
   "metadata": {},
   "source": [
    "The results should be faster now."
   ]
  },
  {
   "cell_type": "markdown",
   "metadata": {},
   "source": [
    "The next 'object' is *oaa_objcourse*. First check which scores were given:"
   ]
  },
  {
   "cell_type": "code",
   "execution_count": 45,
   "metadata": {},
   "outputs": [
    {
     "data": {
      "text/plain": [
       "array(['Fully Disagree', 'Disagree', 'Fully agree',\n",
       "       'Neither disagree nor agree', 'Agree'], dtype=object)"
      ]
     },
     "execution_count": 45,
     "metadata": {},
     "output_type": "execute_result"
    }
   ],
   "source": [
    "survey_df['oaa_objcourse'].unique()"
   ]
  },
  {
   "cell_type": "markdown",
   "metadata": {},
   "source": [
    "This is a so-called ordinal variable; a clear logical order in the possible values. We need to specify the values now, and set ordered to True:"
   ]
  },
  {
   "cell_type": "code",
   "execution_count": 46,
   "metadata": {},
   "outputs": [],
   "source": [
    "survey_df['oaa_objcourse'] = pd.Categorical(survey_df['oaa_objcourse'], categories = [\"Fully Disagree\", \"Disagree\", \"Neither disagree nor agree\", \"Agree\", \"Fully agree\"], ordered = True)"
   ]
  },
  {
   "cell_type": "code",
   "execution_count": 47,
   "metadata": {},
   "outputs": [
    {
     "data": {
      "text/plain": [
       "CategoricalDtype(categories=['Fully Disagree', 'Disagree', 'Neither disagree nor agree',\n",
       "                  'Agree', 'Fully agree'],\n",
       ", ordered=True)"
      ]
     },
     "execution_count": 47,
     "metadata": {},
     "output_type": "execute_result"
    }
   ],
   "source": [
    "survey_df['oaa_objcourse'].dtypes"
   ]
  },
  {
   "cell_type": "markdown",
   "metadata": {},
   "source": [
    "Hopefully you get the idea now. We could perhaps do a few columns in one go if they have the same values, but we'll leave that as an exercise."
   ]
  },
  {
   "cell_type": "markdown",
   "metadata": {},
   "source": [
    "## 3.2. Checking the values and counts"
   ]
  },
  {
   "cell_type": "markdown",
   "metadata": {},
   "source": [
    "A very simple check on the data is to produce a frequency table of each variable. It will show for each unique value the number of times it appears in the column. With this you can quickly see if there is perhaps a strange value, or a constant, or an unusual/unexpected high or low count.\n",
    "\n",
    "A basic frequency count can be obtained using **value_counts()**:"
   ]
  },
  {
   "cell_type": "code",
   "execution_count": 48,
   "metadata": {},
   "outputs": [
    {
     "data": {
      "text/plain": [
       "Fully Disagree                 9\n",
       "Disagree                      13\n",
       "Neither disagree nor agree    11\n",
       "Agree                         13\n",
       "Fully agree                    9\n",
       "Name: oaa_objcourse, dtype: int64"
      ]
     },
     "execution_count": 48,
     "metadata": {},
     "output_type": "execute_result"
    }
   ],
   "source": [
    "survey_df['oaa_objcourse'].value_counts().sort_index()"
   ]
  },
  {
   "cell_type": "markdown",
   "metadata": {},
   "source": [
    "Here is another example on the column *gen_classes*. This is the number of classes a student attended:"
   ]
  },
  {
   "cell_type": "code",
   "execution_count": 49,
   "metadata": {},
   "outputs": [
    {
     "data": {
      "text/plain": [
       "0.0    2\n",
       "1.0    3\n",
       "2.0    5\n",
       "3.0    6\n",
       "4.0    7\n",
       "5.0    5\n",
       "6.0    7\n",
       "7.0    7\n",
       "Name: gen_classes, dtype: int64"
      ]
     },
     "execution_count": 49,
     "metadata": {},
     "output_type": "execute_result"
    }
   ],
   "source": [
    "survey_df['gen_classes'].value_counts().sort_index()"
   ]
  },
  {
   "cell_type": "markdown",
   "metadata": {},
   "source": [
    "Notice anything strange? \n",
    "\n",
    "Well, it seems we have two students who did not attend any class. Lets take a closer look at them:"
   ]
  },
  {
   "cell_type": "code",
   "execution_count": 50,
   "metadata": {},
   "outputs": [
    {
     "data": {
      "text/html": [
       "<div>\n",
       "<style scoped>\n",
       "    .dataframe tbody tr th:only-of-type {\n",
       "        vertical-align: middle;\n",
       "    }\n",
       "\n",
       "    .dataframe tbody tr th {\n",
       "        vertical-align: top;\n",
       "    }\n",
       "\n",
       "    .dataframe thead th {\n",
       "        text-align: right;\n",
       "    }\n",
       "</style>\n",
       "<table border=\"1\" class=\"dataframe\">\n",
       "  <thead>\n",
       "    <tr style=\"text-align: right;\">\n",
       "      <th></th>\n",
       "      <th>respnr</th>\n",
       "      <th>location</th>\n",
       "      <th>oaa_objcourse</th>\n",
       "      <th>oaa_objclass</th>\n",
       "      <th>oaa_courseexec</th>\n",
       "      <th>oaa_relactobj</th>\n",
       "      <th>oaa_relactexa</th>\n",
       "      <th>oaa_relobjexa</th>\n",
       "      <th>oaa_learprocact</th>\n",
       "      <th>oaa_learprocprep</th>\n",
       "      <th>...</th>\n",
       "      <th>mix_intdiscus</th>\n",
       "      <th>mix_intprep</th>\n",
       "      <th>mix_intexcel</th>\n",
       "      <th>over_grade</th>\n",
       "      <th>gen_gender</th>\n",
       "      <th>gen_age</th>\n",
       "      <th>gen_secschool</th>\n",
       "      <th>gen_classes</th>\n",
       "      <th>gen_numbersubj</th>\n",
       "      <th>gen_time</th>\n",
       "    </tr>\n",
       "  </thead>\n",
       "  <tbody>\n",
       "    <tr>\n",
       "      <th>23</th>\n",
       "      <td>24.0</td>\n",
       "      <td>Diemen</td>\n",
       "      <td>Fully agree</td>\n",
       "      <td>Neither disagree nor agree</td>\n",
       "      <td>Neither disagree nor agree</td>\n",
       "      <td>Disagree</td>\n",
       "      <td>Fully agree</td>\n",
       "      <td>Fully agree</td>\n",
       "      <td>Agree</td>\n",
       "      <td>Neither disagree nor agree</td>\n",
       "      <td>...</td>\n",
       "      <td>somewhat</td>\n",
       "      <td>neutral</td>\n",
       "      <td>somewhat</td>\n",
       "      <td>NaN</td>\n",
       "      <td>Male</td>\n",
       "      <td>28.0</td>\n",
       "      <td>Asia</td>\n",
       "      <td>0.0</td>\n",
       "      <td>Neither disagree nor agree</td>\n",
       "      <td>Less than 10 hours</td>\n",
       "    </tr>\n",
       "    <tr>\n",
       "      <th>43</th>\n",
       "      <td>44.0</td>\n",
       "      <td>Haarlem</td>\n",
       "      <td>Disagree</td>\n",
       "      <td>Disagree</td>\n",
       "      <td>Disagree</td>\n",
       "      <td>Fully Disagree</td>\n",
       "      <td>Agree</td>\n",
       "      <td>Neither disagree nor agree</td>\n",
       "      <td>Fully Disagree</td>\n",
       "      <td>Fully Disagree</td>\n",
       "      <td>...</td>\n",
       "      <td>not so much</td>\n",
       "      <td>somewhat</td>\n",
       "      <td>Very much</td>\n",
       "      <td>40.0</td>\n",
       "      <td>Male</td>\n",
       "      <td>20.0</td>\n",
       "      <td>The Netherlands</td>\n",
       "      <td>0.0</td>\n",
       "      <td>Fully agree</td>\n",
       "      <td>20 &lt; 30</td>\n",
       "    </tr>\n",
       "  </tbody>\n",
       "</table>\n",
       "<p>2 rows × 50 columns</p>\n",
       "</div>"
      ],
      "text/plain": [
       "    respnr location oaa_objcourse                oaa_objclass  \\\n",
       "23    24.0   Diemen   Fully agree  Neither disagree nor agree   \n",
       "43    44.0  Haarlem      Disagree                    Disagree   \n",
       "\n",
       "                oaa_courseexec   oaa_relactobj oaa_relactexa  \\\n",
       "23  Neither disagree nor agree        Disagree   Fully agree   \n",
       "43                    Disagree  Fully Disagree         Agree   \n",
       "\n",
       "                 oaa_relobjexa oaa_learprocact            oaa_learprocprep  \\\n",
       "23                 Fully agree           Agree  Neither disagree nor agree   \n",
       "43  Neither disagree nor agree  Fully Disagree              Fully Disagree   \n",
       "\n",
       "    ... mix_intdiscus mix_intprep mix_intexcel over_grade gen_gender gen_age  \\\n",
       "23  ...      somewhat     neutral     somewhat        NaN       Male    28.0   \n",
       "43  ...   not so much    somewhat    Very much       40.0       Male    20.0   \n",
       "\n",
       "      gen_secschool gen_classes              gen_numbersubj  \\\n",
       "23             Asia         0.0  Neither disagree nor agree   \n",
       "43  The Netherlands         0.0                 Fully agree   \n",
       "\n",
       "              gen_time  \n",
       "23  Less than 10 hours  \n",
       "43             20 < 30  \n",
       "\n",
       "[2 rows x 50 columns]"
      ]
     },
     "execution_count": 50,
     "metadata": {},
     "output_type": "execute_result"
    }
   ],
   "source": [
    "survey_df[survey_df['gen_classes'] == 0]"
   ]
  },
  {
   "cell_type": "markdown",
   "metadata": {},
   "source": [
    "Hmmm, very odd. Even though they did not attend any classes, these two students did have a variety of opinions on everything including the classes. How can you have an opinion on a class if you never attended it?\n",
    "\n",
    "We could decide to remove these two students from our data. If you decide to remove or change data always report this and explain why you felt it was appropriate to do so.\n",
    "\n",
    "I usually would make a new copy of the data just in case I regret my decision later."
   ]
  },
  {
   "cell_type": "code",
   "execution_count": 51,
   "metadata": {},
   "outputs": [],
   "source": [
    "survey_df2 = survey_df[survey_df['gen_classes'] != 0]"
   ]
  },
  {
   "cell_type": "code",
   "execution_count": 52,
   "metadata": {},
   "outputs": [
    {
     "data": {
      "text/plain": [
       "1.0    3\n",
       "2.0    5\n",
       "3.0    6\n",
       "4.0    7\n",
       "5.0    5\n",
       "6.0    7\n",
       "7.0    7\n",
       "Name: gen_classes, dtype: int64"
      ]
     },
     "execution_count": 52,
     "metadata": {},
     "output_type": "execute_result"
    }
   ],
   "source": [
    "survey_df2['gen_classes'].value_counts().sort_index()"
   ]
  },
  {
   "cell_type": "markdown",
   "metadata": {},
   "source": [
    "We can continue with all of the variables, and would come across:"
   ]
  },
  {
   "cell_type": "code",
   "execution_count": 53,
   "metadata": {},
   "outputs": [
    {
     "data": {
      "text/plain": [
       "18.0     5\n",
       "19.0     7\n",
       "20.0     7\n",
       "21.0     5\n",
       "22.0     3\n",
       "23.0     2\n",
       "24.0     3\n",
       "25.0     1\n",
       "26.0     2\n",
       "27.0     1\n",
       "28.0     1\n",
       "29.0     2\n",
       "30.0     1\n",
       "37.0     1\n",
       "119.0    1\n",
       "Name: gen_age, dtype: int64"
      ]
     },
     "execution_count": 53,
     "metadata": {},
     "output_type": "execute_result"
    }
   ],
   "source": [
    "survey_df2['gen_age'].value_counts().sort_index()"
   ]
  },
  {
   "cell_type": "markdown",
   "metadata": {},
   "source": [
    "Notice something odd again? You are never too old to learn, but an age of 119 is not likely. Perhaps a typo was made and 19 was meant. If you have the original surveys we could double check, but we don't. Unfortunately we should make this a missing value."
   ]
  },
  {
   "cell_type": "markdown",
   "metadata": {},
   "source": [
    "Note that we don't want to remove the entire row now, just replace the value."
   ]
  },
  {
   "cell_type": "code",
   "execution_count": 54,
   "metadata": {},
   "outputs": [
    {
     "name": "stderr",
     "output_type": "stream",
     "text": [
      "C:\\Users\\steph\\AppData\\Local\\Temp/ipykernel_9716/311869519.py:1: SettingWithCopyWarning: \n",
      "A value is trying to be set on a copy of a slice from a DataFrame.\n",
      "Try using .loc[row_indexer,col_indexer] = value instead\n",
      "\n",
      "See the caveats in the documentation: https://pandas.pydata.org/pandas-docs/stable/user_guide/indexing.html#returning-a-view-versus-a-copy\n",
      "  survey_df2['gen_age'] = survey_df2['gen_age'].replace(119, np.nan)\n"
     ]
    }
   ],
   "source": [
    "survey_df2['gen_age'] = survey_df2['gen_age'].replace(119, np.nan)"
   ]
  },
  {
   "cell_type": "markdown",
   "metadata": {},
   "source": [
    "We get a warning, but a warning is not the same as an error. It has actually worked:"
   ]
  },
  {
   "cell_type": "code",
   "execution_count": 55,
   "metadata": {},
   "outputs": [
    {
     "data": {
      "text/plain": [
       "18.0    5\n",
       "19.0    7\n",
       "20.0    7\n",
       "21.0    5\n",
       "22.0    3\n",
       "23.0    2\n",
       "24.0    3\n",
       "25.0    1\n",
       "26.0    2\n",
       "27.0    1\n",
       "28.0    1\n",
       "29.0    2\n",
       "30.0    1\n",
       "37.0    1\n",
       "Name: gen_age, dtype: int64"
      ]
     },
     "execution_count": 55,
     "metadata": {},
     "output_type": "execute_result"
    }
   ],
   "source": [
    "survey_df2['gen_age'].value_counts().sort_index()"
   ]
  },
  {
   "cell_type": "markdown",
   "metadata": {},
   "source": [
    "Again, we need to be clear in our report that we made this change."
   ]
  },
  {
   "cell_type": "markdown",
   "metadata": {},
   "source": [
    "## 3.3. A Visual Inspection"
   ]
  },
  {
   "cell_type": "markdown",
   "metadata": {},
   "source": [
    "A visual inspection might also be helpful. For categorical data a bar-chart is useful. Pandas has a plot function (which is actually based on another library Matplotlib's PyPlot)"
   ]
  },
  {
   "cell_type": "code",
   "execution_count": 56,
   "metadata": {},
   "outputs": [
    {
     "data": {
      "text/plain": [
       "<AxesSubplot:>"
      ]
     },
     "execution_count": 56,
     "metadata": {},
     "output_type": "execute_result"
    },
    {
     "data": {
      "image/png": "[encoded data removed]",
      "text/plain": [
       "<Figure size 432x288 with 1 Axes>"
      ]
     },
     "metadata": {
      "needs_background": "light"
     },
     "output_type": "display_data"
    }
   ],
   "source": [
    "my_counts = survey_df2['location'].value_counts().sort_index()\n",
    "my_counts.plot(kind = 'bar')"
   ]
  },
  {
   "cell_type": "markdown",
   "metadata": {},
   "source": [
    "Nothing seems out of the ordinary. We made this chart just for a quick inspection. If we wanted to make it look a bit nicer, we can probably better use the Pyplot library from Matplotlib. This is usually abbreviated to 'plt':"
   ]
  },
  {
   "cell_type": "code",
   "execution_count": 57,
   "metadata": {},
   "outputs": [
    {
     "name": "stdout",
     "output_type": "stream",
     "text": [
      "matplotlib already installed, only imported\n"
     ]
    }
   ],
   "source": [
    "try:\n",
    "    import matplotlib.pyplot as plt\n",
    "    print('matplotlib already installed, only imported')\n",
    "except:\n",
    "    !pip install matplotlib\n",
    "    import matplotlib.pyplot as plt\n",
    "    print('matplotlib was not installed, installed and imported')"
   ]
  },
  {
   "cell_type": "markdown",
   "metadata": {},
   "source": [
    "Now we can add all kinds of things, for example:"
   ]
  },
  {
   "cell_type": "code",
   "execution_count": 58,
   "metadata": {},
   "outputs": [
    {
     "data": {
      "text/plain": [
       "(array([0, 1, 2]),\n",
       " [Text(0, 0, 'Diemen'), Text(1, 0, 'Haarlem'), Text(2, 0, 'Rotterdam')])"
      ]
     },
     "execution_count": 58,
     "metadata": {},
     "output_type": "execute_result"
    },
    {
     "data": {
      "image/png": "[encoded data removed]",
      "text/plain": [
       "<Figure size 432x288 with 1 Axes>"
      ]
     },
     "metadata": {
      "needs_background": "light"
     },
     "output_type": "display_data"
    }
   ],
   "source": [
    "my_counts.plot(kind = 'bar')\n",
    "plt.xlabel(\"Location\")\n",
    "plt.ylabel(\"Frequency\")\n",
    "plt.xticks(rotation = 0)"
   ]
  },
  {
   "cell_type": "markdown",
   "metadata": {},
   "source": [
    "For numerical fields (columns/variables) we can use something known as a box plot. Pandas also has this available for us in their <a href=\"https://pandas.pydata.org/pandas-docs/stable/reference/api/pandas.DataFrame.boxplot.html\">boxplot</a> method."
   ]
  },
  {
   "cell_type": "code",
   "execution_count": 59,
   "metadata": {},
   "outputs": [
    {
     "data": {
      "text/plain": [
       "<AxesSubplot:>"
      ]
     },
     "execution_count": 59,
     "metadata": {},
     "output_type": "execute_result"
    },
    {
     "data": {
      "image/png": "[encoded data removed]",
      "text/plain": [
       "<Figure size 432x288 with 1 Axes>"
      ]
     },
     "metadata": {
      "needs_background": "light"
     },
     "output_type": "display_data"
    }
   ],
   "source": [
    "survey_df2.boxplot('gen_age', grid = False, vert = False)"
   ]
  },
  {
   "cell_type": "markdown",
   "metadata": {},
   "source": [
    "So, what do we see in this diagram?\n",
    "\n",
    "* The vertical line on the left is placed at the minimum value (excluding outliers). So the minimum age was 18.\n",
    "* The box in the middle starts at the so-called first quartile. In this example at 19. This indicates that 25% of all students were 19 or younger.\n",
    "* The vertical line in the box is placed at the median. In this example at 21. This indicates that 50% of all students were 21 or younger.\n",
    "* The end of the box is drawn at the third quartile. In this example at 24. This indicates that 75% of all students were 21 or younger.\n",
    "* The vertical line on the right is placed at the maximum value, excluding outliers. So the maximum age (not counting outliers) was 30\n",
    "* The dot at the far right (O) is a so called outlier. Its a score that seems to be quite unusual.\n",
    "\n",
    "When cleaning your data it are those outliers that are to be looked out for. This could indicate an error in measurement, but not necesairly. An outlier can have quite a big effect on the results later, when we start analyzing the data. \n",
    "\n",
    "Again, if you decide on removing an outlier, make sure you indicate this in your report with an explanation on why you felt it was justified to do so.\n",
    "\n",
    "If you are curious an outlier is a datapoint that is 1.5 times the Inter Quartile Range (IQR) below the first or above the third quartile. The IQR is the difference between the third and first quartile. In the example the IQR = 24 - 19 = 5. So any score below 19 - 1.5 x 5 = 19 - 7.5 = 11.5 would be considered an outlier, or any score above 24 + 1.5 x 5 = 24 + 7.5 = 31.5. The 37 is therefor indeed correctly an outlier."
   ]
  },
  {
   "cell_type": "markdown",
   "metadata": {},
   "source": [
    "## 3.4. Exercises"
   ]
  },
  {
   "cell_type": "markdown",
   "metadata": {},
   "source": [
    "**Exercise 1**\n",
    "\n",
    "*1a) Change the dtype for the field mix_intexcel, first check the scores so you can determine the proper dtype for it*"
   ]
  },
  {
   "cell_type": "code",
   "execution_count": 60,
   "metadata": {},
   "outputs": [
    {
     "data": {
      "text/plain": [
       "array(['not so much', 'somewhat', 'neutral', 'Very much', nan,\n",
       "       'Not at all'], dtype=object)"
      ]
     },
     "execution_count": 60,
     "metadata": {},
     "output_type": "execute_result"
    }
   ],
   "source": [
    "# code to see the different options that were used for this variable\n",
    "survey_df2['mix_intexcel'].dtypes\n",
    "survey_df2['mix_intexcel'].unique()"
   ]
  },
  {
   "cell_type": "code",
   "execution_count": 61,
   "metadata": {},
   "outputs": [
    {
     "name": "stderr",
     "output_type": "stream",
     "text": [
      "C:\\Users\\steph\\AppData\\Local\\Temp/ipykernel_9716/892203443.py:2: SettingWithCopyWarning: \n",
      "A value is trying to be set on a copy of a slice from a DataFrame.\n",
      "Try using .loc[row_indexer,col_indexer] = value instead\n",
      "\n",
      "See the caveats in the documentation: https://pandas.pydata.org/pandas-docs/stable/user_guide/indexing.html#returning-a-view-versus-a-copy\n",
      "  survey_df2['mix_intexcel'] = pd.Categorical(survey_df2['mix_intexcel'], categories = [\"Not at all\", 'not so much', 'neutral', 'somewhat', 'Very much'], ordered = True )\n"
     ]
    },
    {
     "data": {
      "text/plain": [
       "CategoricalDtype(categories=['Not at all', 'not so much', 'neutral', 'somewhat',\n",
       "                  'Very much'],\n",
       ", ordered=True)"
      ]
     },
     "execution_count": 61,
     "metadata": {},
     "output_type": "execute_result"
    }
   ],
   "source": [
    "# code to change the dtype\n",
    "survey_df2['mix_intexcel'] = pd.Categorical(survey_df2['mix_intexcel'], categories = [\"Not at all\", 'not so much', 'neutral', 'somewhat', 'Very much'], ordered = True )\n",
    "survey_df2['mix_intexcel'].dtypes"
   ]
  },
  {
   "cell_type": "markdown",
   "metadata": {},
   "source": [
    "*1b) Check the counts of the mix_intexcel field*"
   ]
  },
  {
   "cell_type": "code",
   "execution_count": 62,
   "metadata": {},
   "outputs": [
    {
     "data": {
      "text/plain": [
       "Not at all      3\n",
       "not so much     3\n",
       "neutral        16\n",
       "somewhat       14\n",
       "Very much       9\n",
       "Name: mix_intexcel, dtype: int64"
      ]
     },
     "execution_count": 62,
     "metadata": {},
     "output_type": "execute_result"
    }
   ],
   "source": [
    "survey_df2['mix_intexcel'].value_counts().sort_index()"
   ]
  },
  {
   "cell_type": "markdown",
   "metadata": {},
   "source": [
    "*1c) Create an appropriate diagram to visualise the counts of mix_intexcel*"
   ]
  },
  {
   "cell_type": "code",
   "execution_count": 63,
   "metadata": {},
   "outputs": [
    {
     "data": {
      "text/plain": [
       "(array([0, 1, 2, 3, 4]),\n",
       " [Text(0, 0, 'Not at all'),\n",
       "  Text(1, 0, 'not so much'),\n",
       "  Text(2, 0, 'neutral'),\n",
       "  Text(3, 0, 'somewhat'),\n",
       "  Text(4, 0, 'Very much')])"
      ]
     },
     "execution_count": 63,
     "metadata": {},
     "output_type": "execute_result"
    },
    {
     "data": {
      "image/png": "[encoded data removed]",
      "text/plain": [
       "<Figure size 432x288 with 1 Axes>"
      ]
     },
     "metadata": {
      "needs_background": "light"
     },
     "output_type": "display_data"
    }
   ],
   "source": [
    "graph = survey_df2['mix_intexcel'].value_counts().sort_index()\n",
    "graph.plot(kind = 'bar')\n",
    "plt.xlabel(\"Opinion\")\n",
    "plt.ylabel(\"Frequency\")\n",
    "plt.xticks(rotation = 0)"
   ]
  },
  {
   "cell_type": "markdown",
   "metadata": {},
   "source": [
    "**Exercise 2: Automating the Process**"
   ]
  },
  {
   "cell_type": "markdown",
   "metadata": {},
   "source": [
    "Below is some code to adjust the dtype for all fields that use the fully disagree to fully agree scale. \n",
    "\n",
    "Inspect the code carefully so you understand what it does."
   ]
  },
  {
   "cell_type": "code",
   "execution_count": 64,
   "metadata": {},
   "outputs": [
    {
     "data": {
      "text/plain": [
       "respnr                 float64\n",
       "location              category\n",
       "oaa_objcourse         category\n",
       "oaa_objclass          category\n",
       "oaa_courseexec        category\n",
       "oaa_relactobj         category\n",
       "oaa_relactexa         category\n",
       "oaa_relobjexa         category\n",
       "oaa_learprocact       category\n",
       "oaa_learprocprep      category\n",
       "oaa_learprocdisc      category\n",
       "oaa_learproclect      category\n",
       "oaa_learprocexe       category\n",
       "oaa_setupmotiv        category\n",
       "oaa_usefulnessstat    category\n",
       "mat_burns               object\n",
       "mat_baarda              object\n",
       "mat_laerd               object\n",
       "mat_powerpoint          object\n",
       "mat_addmaterial         object\n",
       "mat_excel               object\n",
       "mat_announcements       object\n",
       "bb_own                category\n",
       "bb_motivating         category\n",
       "bb_userfr             category\n",
       "bb_suffict            category\n",
       "teach_motivate        category\n",
       "teach_linktheory      category\n",
       "teach_stimask         category\n",
       "teach_avail           category\n",
       "teach_stimdisc        category\n",
       "teach_partic          category\n",
       "teach_comp            category\n",
       "mix_adeq1             category\n",
       "mix_adeq1_open          object\n",
       "mix_nrclass             object\n",
       "mix_nract               object\n",
       "mix_adeq2             category\n",
       "mix_adeq2_open          object\n",
       "mix_intclass            object\n",
       "mix_intdiscus           object\n",
       "mix_intprep             object\n",
       "mix_intexcel          category\n",
       "over_grade             float64\n",
       "gen_gender              object\n",
       "gen_age                float64\n",
       "gen_secschool           object\n",
       "gen_classes            float64\n",
       "gen_numbersubj        category\n",
       "gen_time                object\n",
       "dtype: object"
      ]
     },
     "execution_count": 64,
     "metadata": {},
     "output_type": "execute_result"
    }
   ],
   "source": [
    "#Create a real copy and not a reference in memory.\n",
    "survey_df3 = survey_df2.copy()\n",
    "\n",
    "#The labels we want to use\n",
    "labels = [\"Fully Disagree\", \"Disagree\", \"Neither disagree nor agree\", \"Agree\", \"Fully agree\", np.nan]\n",
    "\n",
    "#The fields in the data frame\n",
    "fields = survey_df3.columns\n",
    "\n",
    "#Loop over each field\n",
    "for field in fields:\n",
    "    \n",
    "    #check if the data type is 'object'\n",
    "    if survey_df3[field].dtype.name == 'object':\n",
    "        \n",
    "        # get the unique values of the field\n",
    "        values = survey_df3[field].unique()\n",
    "        \n",
    "        # check if those values are in our labels\n",
    "        allin = True\n",
    "        n_values = len(values)\n",
    "        i = 0\n",
    "        while allin and i < n_values:\n",
    "            allin = values[i] in labels\n",
    "            i = i + 1\n",
    "        \n",
    "        # only if the values are in the labels adjust the dtype\n",
    "        if allin:\n",
    "            survey_df3[field] = pd.Categorical(survey_df3[field], categories = [\"Fully Disagree\", \"Disagree\", \"Neither disagree nor agree\", \"Agree\", \"Fully agree\"], ordered = True)\n",
    "            \n",
    "#Check if it worked\n",
    "survey_df3.dtypes"
   ]
  },
  {
   "cell_type": "markdown",
   "metadata": {},
   "source": [
    "*2a) Create a similar code for the variables that start with 'mat_' and run it.*"
   ]
  },
  {
   "cell_type": "code",
   "execution_count": 65,
   "metadata": {},
   "outputs": [
    {
     "data": {
      "text/plain": [
       "array(['Not at all', nan, 'neutral', 'not so much', 'Very much',\n",
       "       'somewhat'], dtype=object)"
      ]
     },
     "execution_count": 65,
     "metadata": {},
     "output_type": "execute_result"
    }
   ],
   "source": [
    "# code to check the different options that were used\n",
    "survey_df3['mat_burns'].unique()"
   ]
  },
  {
   "cell_type": "code",
   "execution_count": 66,
   "metadata": {},
   "outputs": [
    {
     "data": {
      "text/plain": [
       "respnr                 float64\n",
       "location              category\n",
       "oaa_objcourse         category\n",
       "oaa_objclass          category\n",
       "oaa_courseexec        category\n",
       "oaa_relactobj         category\n",
       "oaa_relactexa         category\n",
       "oaa_relobjexa         category\n",
       "oaa_learprocact       category\n",
       "oaa_learprocprep      category\n",
       "oaa_learprocdisc      category\n",
       "oaa_learproclect      category\n",
       "oaa_learprocexe       category\n",
       "oaa_setupmotiv        category\n",
       "oaa_usefulnessstat    category\n",
       "mat_burns             category\n",
       "mat_baarda            category\n",
       "mat_laerd             category\n",
       "mat_powerpoint        category\n",
       "mat_addmaterial       category\n",
       "mat_excel             category\n",
       "mat_announcements     category\n",
       "bb_own                category\n",
       "bb_motivating         category\n",
       "bb_userfr             category\n",
       "bb_suffict            category\n",
       "teach_motivate        category\n",
       "teach_linktheory      category\n",
       "teach_stimask         category\n",
       "teach_avail           category\n",
       "teach_stimdisc        category\n",
       "teach_partic          category\n",
       "teach_comp            category\n",
       "mix_adeq1             category\n",
       "mix_adeq1_open          object\n",
       "mix_nrclass             object\n",
       "mix_nract               object\n",
       "mix_adeq2             category\n",
       "mix_adeq2_open          object\n",
       "mix_intclass          category\n",
       "mix_intdiscus         category\n",
       "mix_intprep           category\n",
       "mix_intexcel          category\n",
       "over_grade             float64\n",
       "gen_gender              object\n",
       "gen_age                float64\n",
       "gen_secschool           object\n",
       "gen_classes            float64\n",
       "gen_numbersubj        category\n",
       "gen_time                object\n",
       "dtype: object"
      ]
     },
     "execution_count": 66,
     "metadata": {},
     "output_type": "execute_result"
    }
   ],
   "source": [
    "# code to change the dtypes\n",
    "burns_data = survey_df3.copy()\n",
    "\n",
    "#the choices\n",
    "options = [\"Not at all\", \"not so much\", \"neutral\", \"somewhat\", \"Very much\", np.nan ]\n",
    "\n",
    "fields = burns_data.columns\n",
    "\n",
    "#the for loop\n",
    "for field in fields:\n",
    "    \n",
    "    #check if the datatypes is \"Object\"\n",
    "    if burns_data[field].dtype.name == 'object':\n",
    "        \n",
    "        #get the unique values of the field\n",
    "        values = burns_data[field].unique()\n",
    "\n",
    "        #check if those values in our labels\n",
    "        allin = True\n",
    "        n_values = len(values)\n",
    "        i = 0\n",
    "        while allin and i < n_values:\n",
    "            allin = values[i] in options\n",
    "            i = i + 1\n",
    "        \n",
    "        #only if the values are in the labels adjust the dtype\n",
    "        if allin:\n",
    "            burns_data[field] = pd.Categorical(burns_data[field], categories = [\"Not at all\", \"not so much\", \"neutral\", \"somewhat\", \"Very much\"], ordered = True)\n",
    "\n",
    "\n",
    "burns_data.dtypes"
   ]
  },
  {
   "cell_type": "markdown",
   "metadata": {},
   "source": [
    "*2b) Create a codeblock to show the frequencies of all category dtypes in the dataframe*"
   ]
  },
  {
   "cell_type": "code",
   "execution_count": 67,
   "metadata": {},
   "outputs": [
    {
     "name": "stdout",
     "output_type": "stream",
     "text": [
      "location\n",
      "Diemen       16\n",
      "Haarlem      21\n",
      "Rotterdam    16\n",
      "Name: location, dtype: int64\n",
      "\n",
      "oaa_objcourse\n",
      "Fully Disagree                 9\n",
      "Disagree                      12\n",
      "Neither disagree nor agree    11\n",
      "Agree                         13\n",
      "Fully agree                    8\n",
      "Name: oaa_objcourse, dtype: int64\n",
      "\n",
      "oaa_objclass\n",
      "Fully Disagree                 5\n",
      "Disagree                      14\n",
      "Neither disagree nor agree    13\n",
      "Agree                         13\n",
      "Fully agree                    8\n",
      "Name: oaa_objclass, dtype: int64\n",
      "\n",
      "oaa_courseexec\n",
      "Fully Disagree                13\n",
      "Disagree                      13\n",
      "Neither disagree nor agree    10\n",
      "Agree                          7\n",
      "Fully agree                    6\n",
      "Name: oaa_courseexec, dtype: int64\n",
      "\n",
      "oaa_relactobj\n",
      "Fully Disagree                 4\n",
      "Disagree                       9\n",
      "Neither disagree nor agree    17\n",
      "Agree                         11\n",
      "Fully agree                   12\n",
      "Name: oaa_relactobj, dtype: int64\n",
      "\n",
      "oaa_relactexa\n",
      "Fully Disagree                 4\n",
      "Disagree                       7\n",
      "Neither disagree nor agree    15\n",
      "Agree                         13\n",
      "Fully agree                   14\n",
      "Name: oaa_relactexa, dtype: int64\n",
      "\n",
      "oaa_relobjexa\n",
      "Fully Disagree                 6\n",
      "Disagree                       8\n",
      "Neither disagree nor agree    17\n",
      "Agree                         13\n",
      "Fully agree                    9\n",
      "Name: oaa_relobjexa, dtype: int64\n",
      "\n",
      "oaa_learprocact\n",
      "Fully Disagree                11\n",
      "Disagree                       9\n",
      "Neither disagree nor agree    15\n",
      "Agree                          8\n",
      "Fully agree                   10\n",
      "Name: oaa_learprocact, dtype: int64\n",
      "\n",
      "oaa_learprocprep\n",
      "Fully Disagree                 8\n",
      "Disagree                       9\n",
      "Neither disagree nor agree    18\n",
      "Agree                          8\n",
      "Fully agree                    9\n",
      "Name: oaa_learprocprep, dtype: int64\n",
      "\n",
      "oaa_learprocdisc\n",
      "Fully Disagree                14\n",
      "Disagree                       7\n",
      "Neither disagree nor agree    16\n",
      "Agree                          7\n",
      "Fully agree                    8\n",
      "Name: oaa_learprocdisc, dtype: int64\n",
      "\n",
      "oaa_learproclect\n",
      "Fully Disagree                13\n",
      "Disagree                       9\n",
      "Neither disagree nor agree    14\n",
      "Agree                         10\n",
      "Fully agree                    6\n",
      "Name: oaa_learproclect, dtype: int64\n",
      "\n",
      "oaa_learprocexe\n",
      "Fully Disagree                 5\n",
      "Disagree                       8\n",
      "Neither disagree nor agree    16\n",
      "Agree                          9\n",
      "Fully agree                   14\n",
      "Name: oaa_learprocexe, dtype: int64\n",
      "\n",
      "oaa_setupmotiv\n",
      "Fully Disagree                10\n",
      "Disagree                      10\n",
      "Neither disagree nor agree    17\n",
      "Agree                          9\n",
      "Fully agree                    7\n",
      "Name: oaa_setupmotiv, dtype: int64\n",
      "\n",
      "oaa_usefulnessstat\n",
      "Fully Disagree                13\n",
      "Disagree                       8\n",
      "Neither disagree nor agree    20\n",
      "Agree                          3\n",
      "Fully agree                    9\n",
      "Name: oaa_usefulnessstat, dtype: int64\n",
      "\n",
      "mat_burns\n",
      "Not at all     10\n",
      "not so much     6\n",
      "neutral         8\n",
      "somewhat        6\n",
      "Very much       4\n",
      "Name: mat_burns, dtype: int64\n",
      "\n",
      "mat_baarda\n",
      "Not at all     12\n",
      "not so much     4\n",
      "neutral         7\n",
      "somewhat        2\n",
      "Very much       0\n",
      "Name: mat_baarda, dtype: int64\n",
      "\n",
      "mat_laerd\n",
      "Not at all      5\n",
      "not so much     7\n",
      "neutral        12\n",
      "somewhat        7\n",
      "Very much      10\n",
      "Name: mat_laerd, dtype: int64\n",
      "\n",
      "mat_powerpoint\n",
      "Not at all      0\n",
      "not so much     4\n",
      "neutral        18\n",
      "somewhat       12\n",
      "Very much      15\n",
      "Name: mat_powerpoint, dtype: int64\n",
      "\n",
      "mat_addmaterial\n",
      "Not at all      5\n",
      "not so much     6\n",
      "neutral        18\n",
      "somewhat        4\n",
      "Very much      10\n",
      "Name: mat_addmaterial, dtype: int64\n",
      "\n",
      "mat_excel\n",
      "Not at all      2\n",
      "not so much     5\n",
      "neutral        13\n",
      "somewhat       13\n",
      "Very much      15\n",
      "Name: mat_excel, dtype: int64\n",
      "\n",
      "mat_announcements\n",
      "Not at all     11\n",
      "not so much     8\n",
      "neutral        12\n",
      "somewhat        9\n",
      "Very much       8\n",
      "Name: mat_announcements, dtype: int64\n",
      "\n",
      "bb_own\n",
      "Fully Disagree                 2\n",
      "Disagree                       2\n",
      "Neither disagree nor agree    14\n",
      "Agree                          9\n",
      "Fully agree                   25\n",
      "Name: bb_own, dtype: int64\n",
      "\n",
      "bb_motivating\n",
      "Fully Disagree                 4\n",
      "Disagree                      14\n",
      "Neither disagree nor agree    17\n",
      "Agree                          4\n",
      "Fully agree                   13\n",
      "Name: bb_motivating, dtype: int64\n",
      "\n",
      "bb_userfr\n",
      "Fully Disagree                 4\n",
      "Disagree                       3\n",
      "Neither disagree nor agree    12\n",
      "Agree                         15\n",
      "Fully agree                   18\n",
      "Name: bb_userfr, dtype: int64\n",
      "\n",
      "bb_suffict\n",
      "Fully Disagree                 3\n",
      "Disagree                       3\n",
      "Neither disagree nor agree    11\n",
      "Agree                          9\n",
      "Fully agree                   26\n",
      "Name: bb_suffict, dtype: int64\n",
      "\n",
      "teach_motivate\n",
      "Fully Disagree                19\n",
      "Disagree                       9\n",
      "Neither disagree nor agree    11\n",
      "Agree                          7\n",
      "Fully agree                    6\n",
      "Name: teach_motivate, dtype: int64\n",
      "\n",
      "teach_linktheory\n",
      "Fully Disagree                10\n",
      "Disagree                      12\n",
      "Neither disagree nor agree    15\n",
      "Agree                          8\n",
      "Fully agree                    7\n",
      "Name: teach_linktheory, dtype: int64\n",
      "\n",
      "teach_stimask\n",
      "Fully Disagree                16\n",
      "Disagree                       6\n",
      "Neither disagree nor agree    13\n",
      "Agree                         10\n",
      "Fully agree                    6\n",
      "Name: teach_stimask, dtype: int64\n",
      "\n",
      "teach_avail\n",
      "Fully Disagree                 8\n",
      "Disagree                       2\n",
      "Neither disagree nor agree    16\n",
      "Agree                         14\n",
      "Fully agree                   12\n",
      "Name: teach_avail, dtype: int64\n",
      "\n",
      "teach_stimdisc\n",
      "Fully Disagree                15\n",
      "Disagree                      10\n",
      "Neither disagree nor agree    16\n",
      "Agree                          4\n",
      "Fully agree                    7\n",
      "Name: teach_stimdisc, dtype: int64\n",
      "\n",
      "teach_partic\n",
      "Fully Disagree                15\n",
      "Disagree                       9\n",
      "Neither disagree nor agree    14\n",
      "Agree                          6\n",
      "Fully agree                    8\n",
      "Name: teach_partic, dtype: int64\n",
      "\n",
      "teach_comp\n",
      "Fully Disagree                10\n",
      "Disagree                       7\n",
      "Neither disagree nor agree     7\n",
      "Agree                         13\n",
      "Fully agree                   14\n",
      "Name: teach_comp, dtype: int64\n",
      "\n",
      "mix_adeq1\n",
      "Fully Disagree                 5\n",
      "Disagree                       4\n",
      "Neither disagree nor agree    15\n",
      "Agree                         17\n",
      "Fully agree                    8\n",
      "Name: mix_adeq1, dtype: int64\n",
      "\n",
      "mix_adeq2\n",
      "Fully Disagree                 3\n",
      "Disagree                      10\n",
      "Neither disagree nor agree    23\n",
      "Agree                          6\n",
      "Fully agree                    6\n",
      "Name: mix_adeq2, dtype: int64\n",
      "\n",
      "mix_intclass\n",
      "Not at all     10\n",
      "not so much     6\n",
      "neutral        21\n",
      "somewhat        5\n",
      "Very much       4\n",
      "Name: mix_intclass, dtype: int64\n",
      "\n",
      "mix_intdiscus\n",
      "Not at all      8\n",
      "not so much    11\n",
      "neutral        18\n",
      "somewhat        6\n",
      "Very much       3\n",
      "Name: mix_intdiscus, dtype: int64\n",
      "\n",
      "mix_intprep\n",
      "Not at all      3\n",
      "not so much    10\n",
      "neutral        14\n",
      "somewhat       15\n",
      "Very much       4\n",
      "Name: mix_intprep, dtype: int64\n",
      "\n",
      "mix_intexcel\n",
      "Not at all      3\n",
      "not so much     3\n",
      "neutral        16\n",
      "somewhat       14\n",
      "Very much       9\n",
      "Name: mix_intexcel, dtype: int64\n",
      "\n",
      "gen_numbersubj\n",
      "Fully Disagree                 2\n",
      "Disagree                       8\n",
      "Neither disagree nor agree    10\n",
      "Agree                         17\n",
      "Fully agree                    6\n",
      "Name: gen_numbersubj, dtype: int64\n",
      "\n"
     ]
    }
   ],
   "source": [
    "df = burns_data.columns\n",
    "\n",
    "for field in df:\n",
    "    if burns_data[field].dtype.name == 'category':\n",
    "        print(field)\n",
    "        print(burns_data[field].value_counts().sort_index())\n",
    "        print()"
   ]
  },
  {
   "cell_type": "markdown",
   "metadata": {},
   "source": [
    "*2c) Create a codeblock that shows a bar-chart if the dtype is categorical, and a box-plot if it is a float.*"
   ]
  },
  {
   "cell_type": "code",
   "execution_count": 87,
   "metadata": {},
   "outputs": [
    {
     "name": "stdout",
     "output_type": "stream",
     "text": [
      "respnr\n"
     ]
    },
    {
     "data": {
      "image/png": "[encoded data removed]",
      "text/plain": [
       "<Figure size 432x288 with 1 Axes>"
      ]
     },
     "metadata": {
      "needs_background": "light"
     },
     "output_type": "display_data"
    },
    {
     "name": "stdout",
     "output_type": "stream",
     "text": [
      "location\n"
     ]
    },
    {
     "data": {
      "image/png": "[encoded data removed]",
      "text/plain": [
       "<Figure size 432x288 with 1 Axes>"
      ]
     },
     "metadata": {
      "needs_background": "light"
     },
     "output_type": "display_data"
    },
    {
     "name": "stdout",
     "output_type": "stream",
     "text": [
      "oaa_objcourse\n"
     ]
    },
    {
     "data": {
      "image/png": "[encoded data removed]",
      "text/plain": [
       "<Figure size 432x288 with 1 Axes>"
      ]
     },
     "metadata": {
      "needs_background": "light"
     },
     "output_type": "display_data"
    },
    {
     "name": "stdout",
     "output_type": "stream",
     "text": [
      "oaa_objclass\n"
     ]
    },
    {
     "data": {
      "image/png": "[encoded data removed]",
      "text/plain": [
       "<Figure size 432x288 with 1 Axes>"
      ]
     },
     "metadata": {
      "needs_background": "light"
     },
     "output_type": "display_data"
    },
    {
     "name": "stdout",
     "output_type": "stream",
     "text": [
      "oaa_courseexec\n"
     ]
    },
    {
     "data": {
      "image/png": "[encoded data removed]",
      "text/plain": [
       "<Figure size 432x288 with 1 Axes>"
      ]
     },
     "metadata": {
      "needs_background": "light"
     },
     "output_type": "display_data"
    },
    {
     "name": "stdout",
     "output_type": "stream",
     "text": [
      "oaa_relactobj\n"
     ]
    },
    {
     "data": {
      "image/png": "[encoded data removed]",
      "text/plain": [
       "<Figure size 432x288 with 1 Axes>"
      ]
     },
     "metadata": {
      "needs_background": "light"
     },
     "output_type": "display_data"
    },
    {
     "name": "stdout",
     "output_type": "stream",
     "text": [
      "oaa_relactexa\n"
     ]
    },
    {
     "data": {
      "image/png": "[encoded data removed]",
      "text/plain": [
       "<Figure size 432x288 with 1 Axes>"
      ]
     },
     "metadata": {
      "needs_background": "light"
     },
     "output_type": "display_data"
    },
    {
     "name": "stdout",
     "output_type": "stream",
     "text": [
      "oaa_relobjexa\n"
     ]
    },
    {
     "data": {
      "image/png": "[encoded data removed]",
      "text/plain": [
       "<Figure size 432x288 with 1 Axes>"
      ]
     },
     "metadata": {
      "needs_background": "light"
     },
     "output_type": "display_data"
    },
    {
     "name": "stdout",
     "output_type": "stream",
     "text": [
      "oaa_learprocact\n"
     ]
    },
    {
     "data": {
      "image/png": "[encoded data removed]",
      "text/plain": [
       "<Figure size 432x288 with 1 Axes>"
      ]
     },
     "metadata": {
      "needs_background": "light"
     },
     "output_type": "display_data"
    },
    {
     "name": "stdout",
     "output_type": "stream",
     "text": [
      "oaa_learprocprep\n"
     ]
    },
    {
     "data": {
      "image/png": "[encoded data removed]",
      "text/plain": [
       "<Figure size 432x288 with 1 Axes>"
      ]
     },
     "metadata": {
      "needs_background": "light"
     },
     "output_type": "display_data"
    },
    {
     "name": "stdout",
     "output_type": "stream",
     "text": [
      "oaa_learprocdisc\n"
     ]
    },
    {
     "data": {
      "image/png": "[encoded data removed]",
      "text/plain": [
       "<Figure size 432x288 with 1 Axes>"
      ]
     },
     "metadata": {
      "needs_background": "light"
     },
     "output_type": "display_data"
    },
    {
     "name": "stdout",
     "output_type": "stream",
     "text": [
      "oaa_learproclect\n"
     ]
    },
    {
     "data": {
      "image/png": "[encoded data removed]",
      "text/plain": [
       "<Figure size 432x288 with 1 Axes>"
      ]
     },
     "metadata": {
      "needs_background": "light"
     },
     "output_type": "display_data"
    },
    {
     "name": "stdout",
     "output_type": "stream",
     "text": [
      "oaa_learprocexe\n"
     ]
    },
    {
     "data": {
      "image/png": "[encoded data removed]",
      "text/plain": [
       "<Figure size 432x288 with 1 Axes>"
      ]
     },
     "metadata": {
      "needs_background": "light"
     },
     "output_type": "display_data"
    },
    {
     "name": "stdout",
     "output_type": "stream",
     "text": [
      "oaa_setupmotiv\n"
     ]
    },
    {
     "data": {
      "image/png": "[encoded data removed]",
      "text/plain": [
       "<Figure size 432x288 with 1 Axes>"
      ]
     },
     "metadata": {
      "needs_background": "light"
     },
     "output_type": "display_data"
    },
    {
     "name": "stdout",
     "output_type": "stream",
     "text": [
      "oaa_usefulnessstat\n"
     ]
    },
    {
     "data": {
      "image/png": "[encoded data removed]",
      "text/plain": [
       "<Figure size 432x288 with 1 Axes>"
      ]
     },
     "metadata": {
      "needs_background": "light"
     },
     "output_type": "display_data"
    },
    {
     "name": "stdout",
     "output_type": "stream",
     "text": [
      "mat_burns\n"
     ]
    },
    {
     "data": {
      "image/png": "[encoded data removed]",
      "text/plain": [
       "<Figure size 432x288 with 1 Axes>"
      ]
     },
     "metadata": {
      "needs_background": "light"
     },
     "output_type": "display_data"
    },
    {
     "name": "stdout",
     "output_type": "stream",
     "text": [
      "mat_baarda\n"
     ]
    },
    {
     "data": {
      "image/png": "[encoded data removed]",
      "text/plain": [
       "<Figure size 432x288 with 1 Axes>"
      ]
     },
     "metadata": {
      "needs_background": "light"
     },
     "output_type": "display_data"
    },
    {
     "name": "stdout",
     "output_type": "stream",
     "text": [
      "mat_laerd\n"
     ]
    },
    {
     "data": {
      "image/png": "[encoded data removed]",
      "text/plain": [
       "<Figure size 432x288 with 1 Axes>"
      ]
     },
     "metadata": {
      "needs_background": "light"
     },
     "output_type": "display_data"
    },
    {
     "name": "stdout",
     "output_type": "stream",
     "text": [
      "mat_powerpoint\n"
     ]
    },
    {
     "data": {
      "image/png": "[encoded data removed]",
      "text/plain": [
       "<Figure size 432x288 with 1 Axes>"
      ]
     },
     "metadata": {
      "needs_background": "light"
     },
     "output_type": "display_data"
    },
    {
     "name": "stdout",
     "output_type": "stream",
     "text": [
      "mat_addmaterial\n"
     ]
    },
    {
     "data": {
      "image/png": "[encoded data removed]",
      "text/plain": [
       "<Figure size 432x288 with 1 Axes>"
      ]
     },
     "metadata": {
      "needs_background": "light"
     },
     "output_type": "display_data"
    },
    {
     "name": "stdout",
     "output_type": "stream",
     "text": [
      "mat_excel\n"
     ]
    },
    {
     "data": {
      "image/png": "[encoded data removed]",
      "text/plain": [
       "<Figure size 432x288 with 1 Axes>"
      ]
     },
     "metadata": {
      "needs_background": "light"
     },
     "output_type": "display_data"
    },
    {
     "name": "stdout",
     "output_type": "stream",
     "text": [
      "mat_announcements\n"
     ]
    },
    {
     "data": {
      "image/png": "[encoded data removed]",
      "text/plain": [
       "<Figure size 432x288 with 1 Axes>"
      ]
     },
     "metadata": {
      "needs_background": "light"
     },
     "output_type": "display_data"
    },
    {
     "name": "stdout",
     "output_type": "stream",
     "text": [
      "bb_own\n"
     ]
    },
    {
     "data": {
      "image/png": "[encoded data removed]",
      "text/plain": [
       "<Figure size 432x288 with 1 Axes>"
      ]
     },
     "metadata": {
      "needs_background": "light"
     },
     "output_type": "display_data"
    },
    {
     "name": "stdout",
     "output_type": "stream",
     "text": [
      "bb_motivating\n"
     ]
    },
    {
     "data": {
      "image/png": "[encoded data removed]",
      "text/plain": [
       "<Figure size 432x288 with 1 Axes>"
      ]
     },
     "metadata": {
      "needs_background": "light"
     },
     "output_type": "display_data"
    },
    {
     "name": "stdout",
     "output_type": "stream",
     "text": [
      "bb_userfr\n"
     ]
    },
    {
     "data": {
      "image/png": "[encoded data removed]",
      "text/plain": [
       "<Figure size 432x288 with 1 Axes>"
      ]
     },
     "metadata": {
      "needs_background": "light"
     },
     "output_type": "display_data"
    },
    {
     "name": "stdout",
     "output_type": "stream",
     "text": [
      "bb_suffict\n"
     ]
    },
    {
     "data": {
      "image/png": "[encoded data removed]",
      "text/plain": [
       "<Figure size 432x288 with 1 Axes>"
      ]
     },
     "metadata": {
      "needs_background": "light"
     },
     "output_type": "display_data"
    },
    {
     "name": "stdout",
     "output_type": "stream",
     "text": [
      "teach_motivate\n"
     ]
    },
    {
     "data": {
      "image/png": "[encoded data removed]",
      "text/plain": [
       "<Figure size 432x288 with 1 Axes>"
      ]
     },
     "metadata": {
      "needs_background": "light"
     },
     "output_type": "display_data"
    },
    {
     "name": "stdout",
     "output_type": "stream",
     "text": [
      "teach_linktheory\n"
     ]
    },
    {
     "data": {
      "image/png": "[encoded data removed]",
      "text/plain": [
       "<Figure size 432x288 with 1 Axes>"
      ]
     },
     "metadata": {
      "needs_background": "light"
     },
     "output_type": "display_data"
    },
    {
     "name": "stdout",
     "output_type": "stream",
     "text": [
      "teach_stimask\n"
     ]
    },
    {
     "data": {
      "image/png": "[encoded data removed]",
      "text/plain": [
       "<Figure size 432x288 with 1 Axes>"
      ]
     },
     "metadata": {
      "needs_background": "light"
     },
     "output_type": "display_data"
    },
    {
     "name": "stdout",
     "output_type": "stream",
     "text": [
      "teach_avail\n"
     ]
    },
    {
     "data": {
      "image/png": "[encoded data removed]",
      "text/plain": [
       "<Figure size 432x288 with 1 Axes>"
      ]
     },
     "metadata": {
      "needs_background": "light"
     },
     "output_type": "display_data"
    },
    {
     "name": "stdout",
     "output_type": "stream",
     "text": [
      "teach_stimdisc\n"
     ]
    },
    {
     "data": {
      "image/png": "[encoded data removed]",
      "text/plain": [
       "<Figure size 432x288 with 1 Axes>"
      ]
     },
     "metadata": {
      "needs_background": "light"
     },
     "output_type": "display_data"
    },
    {
     "name": "stdout",
     "output_type": "stream",
     "text": [
      "teach_partic\n"
     ]
    },
    {
     "data": {
      "image/png": "[encoded data removed]",
      "text/plain": [
       "<Figure size 432x288 with 1 Axes>"
      ]
     },
     "metadata": {
      "needs_background": "light"
     },
     "output_type": "display_data"
    },
    {
     "name": "stdout",
     "output_type": "stream",
     "text": [
      "teach_comp\n"
     ]
    },
    {
     "data": {
      "image/png": "[encoded data removed]",
      "text/plain": [
       "<Figure size 432x288 with 1 Axes>"
      ]
     },
     "metadata": {
      "needs_background": "light"
     },
     "output_type": "display_data"
    },
    {
     "name": "stdout",
     "output_type": "stream",
     "text": [
      "mix_adeq1\n"
     ]
    },
    {
     "data": {
      "image/png": "[encoded data removed]",
      "text/plain": [
       "<Figure size 432x288 with 1 Axes>"
      ]
     },
     "metadata": {
      "needs_background": "light"
     },
     "output_type": "display_data"
    },
    {
     "name": "stdout",
     "output_type": "stream",
     "text": [
      "mix_adeq2\n"
     ]
    },
    {
     "data": {
      "image/png": "[encoded data removed]",
      "text/plain": [
       "<Figure size 432x288 with 1 Axes>"
      ]
     },
     "metadata": {
      "needs_background": "light"
     },
     "output_type": "display_data"
    },
    {
     "name": "stdout",
     "output_type": "stream",
     "text": [
      "mix_intclass\n"
     ]
    },
    {
     "data": {
      "image/png": "[encoded data removed]",
      "text/plain": [
       "<Figure size 432x288 with 1 Axes>"
      ]
     },
     "metadata": {
      "needs_background": "light"
     },
     "output_type": "display_data"
    },
    {
     "name": "stdout",
     "output_type": "stream",
     "text": [
      "mix_intdiscus\n"
     ]
    },
    {
     "data": {
      "image/png": "[encoded data removed]",
      "text/plain": [
       "<Figure size 432x288 with 1 Axes>"
      ]
     },
     "metadata": {
      "needs_background": "light"
     },
     "output_type": "display_data"
    },
    {
     "name": "stdout",
     "output_type": "stream",
     "text": [
      "mix_intprep\n"
     ]
    },
    {
     "data": {
      "image/png": "[encoded data removed]",
      "text/plain": [
       "<Figure size 432x288 with 1 Axes>"
      ]
     },
     "metadata": {
      "needs_background": "light"
     },
     "output_type": "display_data"
    },
    {
     "name": "stdout",
     "output_type": "stream",
     "text": [
      "mix_intexcel\n"
     ]
    },
    {
     "data": {
      "image/png": "[encoded data removed]",
      "text/plain": [
       "<Figure size 432x288 with 1 Axes>"
      ]
     },
     "metadata": {
      "needs_background": "light"
     },
     "output_type": "display_data"
    },
    {
     "name": "stdout",
     "output_type": "stream",
     "text": [
      "over_grade\n"
     ]
    },
    {
     "data": {
      "image/png": "[encoded data removed]",
      "text/plain": [
       "<Figure size 432x288 with 1 Axes>"
      ]
     },
     "metadata": {
      "needs_background": "light"
     },
     "output_type": "display_data"
    },
    {
     "name": "stdout",
     "output_type": "stream",
     "text": [
      "gen_age\n"
     ]
    },
    {
     "data": {
      "image/png": "[encoded data removed]",
      "text/plain": [
       "<Figure size 432x288 with 1 Axes>"
      ]
     },
     "metadata": {
      "needs_background": "light"
     },
     "output_type": "display_data"
    },
    {
     "name": "stdout",
     "output_type": "stream",
     "text": [
      "gen_classes\n"
     ]
    },
    {
     "data": {
      "image/png": "[encoded data removed]",
      "text/plain": [
       "<Figure size 432x288 with 1 Axes>"
      ]
     },
     "metadata": {
      "needs_background": "light"
     },
     "output_type": "display_data"
    },
    {
     "name": "stdout",
     "output_type": "stream",
     "text": [
      "gen_numbersubj\n"
     ]
    },
    {
     "data": {
      "image/png": "[encoded data removed]",
      "text/plain": [
       "<Figure size 432x288 with 1 Axes>"
      ]
     },
     "metadata": {
      "needs_background": "light"
     },
     "output_type": "display_data"
    }
   ],
   "source": [
    "graph_data = burns_data.columns\n",
    "#print(graph_data)\n",
    "\n",
    "for field in graph_data:\n",
    "    catergory = burns_data[field].dtype.name == 'category'\n",
    "    numb = burns_data[field].dtype.name == 'float64'\n",
    "    columnName= burns_data[field].name\n",
    "\n",
    "    #if category print as bar\n",
    "    if catergory:\n",
    "        print(columnName)\n",
    "        amount = burns_data[field].value_counts().sort_index()\n",
    "        amount.plot(kind = 'bar')\n",
    "    #if float print as boxplot\n",
    "    if numb:\n",
    "        print(columnName)\n",
    "        burns_data.boxplot(field, grid = True, vert = True)\n",
    "\n",
    "    plt.show()\n",
    "\n"
   ]
  },
  {
   "cell_type": "markdown",
   "metadata": {},
   "source": [
    "**Exercise 3: Convert to Numbers**\n",
    "\n",
    "Although we already changed for *oaa_objcourse* the dtype from *object* to *category* it can be helpful to change it to numeric values. If we use a coding of for example 0 = fully disagree, 1 = disagree,...4 = fully agree. \n",
    "\n",
    "*3a) Try to change the *oaa_objcourse* field to a numeric one (hint: use replace, or codes). Check if coding indeed assigned fully disagree to 0.*"
   ]
  },
  {
   "cell_type": "code",
   "execution_count": 89,
   "metadata": {},
   "outputs": [
    {
     "data": {
      "text/plain": [
       "0     0\n",
       "1     1\n",
       "2     4\n",
       "3     0\n",
       "4     1\n",
       "5     4\n",
       "6     0\n",
       "7     1\n",
       "8     2\n",
       "9     3\n",
       "10    2\n",
       "11    0\n",
       "12    1\n",
       "13    1\n",
       "14    2\n",
       "15    2\n",
       "16    1\n",
       "17    3\n",
       "18    4\n",
       "19    0\n",
       "20    2\n",
       "21    3\n",
       "22    3\n",
       "23    4\n",
       "24    1\n",
       "25    1\n",
       "26    3\n",
       "27    0\n",
       "28    3\n",
       "29    1\n",
       "30    2\n",
       "31    2\n",
       "32    3\n",
       "33    1\n",
       "34    4\n",
       "35    3\n",
       "36    3\n",
       "37    2\n",
       "38    2\n",
       "39    1\n",
       "40    3\n",
       "41    4\n",
       "42    0\n",
       "43    1\n",
       "44    2\n",
       "45    2\n",
       "46    3\n",
       "47    0\n",
       "48    4\n",
       "49    4\n",
       "50    0\n",
       "51    3\n",
       "52    3\n",
       "53    4\n",
       "54    1\n",
       "Name: oaa_objcourse, dtype: int64"
      ]
     },
     "execution_count": 89,
     "metadata": {},
     "output_type": "execute_result"
    }
   ],
   "source": [
    "# USING REPLACE\n",
    "copy_survey = survey_df.copy()\n",
    "\n",
    "copy_survey['oaa_objcourse'].replace(\n",
    "    [\"Fully Disagree\", \"Disagree\", \"Neither disagree nor agree\", \"Agree\", \"Fully agree\"],\n",
    "    [0,1,2,3,4],\n",
    "    inplace=True\n",
    ")\n",
    "\n",
    "copy_survey['oaa_objcourse']\n"
   ]
  },
  {
   "cell_type": "code",
   "execution_count": 93,
   "metadata": {},
   "outputs": [
    {
     "name": "stdout",
     "output_type": "stream",
     "text": [
      "    respnr   location  oaa_objcourse                oaa_objclass  \\\n",
      "0      1.0  Rotterdam              0              Fully Disagree   \n",
      "1      2.0    Haarlem              1                    Disagree   \n",
      "2      3.0     Diemen              4                 Fully agree   \n",
      "3      4.0  Rotterdam              0  Neither disagree nor agree   \n",
      "4      5.0    Haarlem              1                       Agree   \n",
      "5      6.0     Diemen              4                       Agree   \n",
      "6      7.0  Rotterdam              0  Neither disagree nor agree   \n",
      "7      8.0    Haarlem              1                    Disagree   \n",
      "8      9.0     Diemen              2                       Agree   \n",
      "9     10.0  Rotterdam              3                       Agree   \n",
      "10    11.0    Haarlem              2                       Agree   \n",
      "11    12.0     Diemen              0                       Agree   \n",
      "12    13.0  Rotterdam              1  Neither disagree nor agree   \n",
      "13    14.0    Haarlem              1  Neither disagree nor agree   \n",
      "14    15.0     Diemen              2  Neither disagree nor agree   \n",
      "15    16.0  Rotterdam              2  Neither disagree nor agree   \n",
      "16    17.0    Haarlem              1  Neither disagree nor agree   \n",
      "17    18.0     Diemen              3                 Fully agree   \n",
      "18    19.0  Rotterdam              4                 Fully agree   \n",
      "19    20.0    Haarlem              0              Fully Disagree   \n",
      "20    21.0     Diemen              2                    Disagree   \n",
      "21    22.0  Rotterdam              3                       Agree   \n",
      "22    23.0    Haarlem              3                    Disagree   \n",
      "23    24.0     Diemen              4  Neither disagree nor agree   \n",
      "24    25.0  Rotterdam              1                    Disagree   \n",
      "25    26.0    Haarlem              1                    Disagree   \n",
      "26    27.0     Diemen              3                       Agree   \n",
      "27    28.0  Rotterdam              0                    Disagree   \n",
      "28    29.0    Haarlem              3  Neither disagree nor agree   \n",
      "29    30.0     Diemen              1              Fully Disagree   \n",
      "30    31.0  Rotterdam              2                    Disagree   \n",
      "31    32.0    Haarlem              2  Neither disagree nor agree   \n",
      "32    33.0     Diemen              3                       Agree   \n",
      "33    34.0  Rotterdam              1              Fully Disagree   \n",
      "34    35.0    Haarlem              4                 Fully agree   \n",
      "35    36.0     Diemen              3                       Agree   \n",
      "36    37.0  Rotterdam              3                       Agree   \n",
      "37    38.0    Haarlem              2  Neither disagree nor agree   \n",
      "38    39.0     Diemen              2                    Disagree   \n",
      "39    40.0  Rotterdam              1  Neither disagree nor agree   \n",
      "40    41.0    Haarlem              3                 Fully agree   \n",
      "41    42.0     Diemen              4                 Fully agree   \n",
      "42    43.0  Rotterdam              0                    Disagree   \n",
      "43    44.0    Haarlem              1                    Disagree   \n",
      "44    45.0     Diemen              2  Neither disagree nor agree   \n",
      "45    46.0  Rotterdam              2                    Disagree   \n",
      "46    47.0    Haarlem              3                       Agree   \n",
      "47    48.0     Diemen              0                    Disagree   \n",
      "48    49.0    Haarlem              4                 Fully agree   \n",
      "49    50.0     Diemen              4                 Fully agree   \n",
      "50    51.0    Haarlem              0                    Disagree   \n",
      "51    52.0    Haarlem              3                       Agree   \n",
      "52    53.0    Haarlem              3                    Disagree   \n",
      "53    54.0    Haarlem              4  Neither disagree nor agree   \n",
      "54    55.0    Haarlem              1              Fully Disagree   \n",
      "\n",
      "                oaa_courseexec               oaa_relactobj  \\\n",
      "0               Fully Disagree                    Disagree   \n",
      "1                          NaN              Fully Disagree   \n",
      "2                        Agree                 Fully agree   \n",
      "3                     Disagree  Neither disagree nor agree   \n",
      "4               Fully Disagree  Neither disagree nor agree   \n",
      "5                  Fully agree                 Fully agree   \n",
      "6               Fully Disagree  Neither disagree nor agree   \n",
      "7               Fully Disagree                    Disagree   \n",
      "8                          NaN                 Fully agree   \n",
      "9                     Disagree  Neither disagree nor agree   \n",
      "10                    Disagree                    Disagree   \n",
      "11  Neither disagree nor agree                 Fully agree   \n",
      "12                    Disagree                       Agree   \n",
      "13                         NaN                    Disagree   \n",
      "14                       Agree                       Agree   \n",
      "15  Neither disagree nor agree  Neither disagree nor agree   \n",
      "16              Fully Disagree                    Disagree   \n",
      "17                       Agree  Neither disagree nor agree   \n",
      "18                 Fully agree                 Fully agree   \n",
      "19              Fully Disagree  Neither disagree nor agree   \n",
      "20  Neither disagree nor agree  Neither disagree nor agree   \n",
      "21                    Disagree                       Agree   \n",
      "22              Fully Disagree                       Agree   \n",
      "23  Neither disagree nor agree                    Disagree   \n",
      "24                    Disagree                       Agree   \n",
      "25              Fully Disagree              Fully Disagree   \n",
      "26  Neither disagree nor agree                 Fully agree   \n",
      "27                    Disagree                    Disagree   \n",
      "28                    Disagree                       Agree   \n",
      "29  Neither disagree nor agree              Fully Disagree   \n",
      "30                    Disagree  Neither disagree nor agree   \n",
      "31  Neither disagree nor agree  Neither disagree nor agree   \n",
      "32                       Agree                       Agree   \n",
      "33              Fully Disagree                       Agree   \n",
      "34                 Fully agree                 Fully agree   \n",
      "35  Neither disagree nor agree  Neither disagree nor agree   \n",
      "36                         NaN  Neither disagree nor agree   \n",
      "37  Neither disagree nor agree  Neither disagree nor agree   \n",
      "38                       Agree                       Agree   \n",
      "39              Fully Disagree                    Disagree   \n",
      "40                       Agree                 Fully agree   \n",
      "41                 Fully agree                 Fully agree   \n",
      "42                    Disagree                    Disagree   \n",
      "43                    Disagree              Fully Disagree   \n",
      "44                    Disagree  Neither disagree nor agree   \n",
      "45  Neither disagree nor agree  Neither disagree nor agree   \n",
      "46  Neither disagree nor agree                 Fully agree   \n",
      "47              Fully Disagree              Fully Disagree   \n",
      "48                 Fully agree                 Fully agree   \n",
      "49                 Fully agree                 Fully agree   \n",
      "50              Fully Disagree  Neither disagree nor agree   \n",
      "51              Fully Disagree                       Agree   \n",
      "52                    Disagree  Neither disagree nor agree   \n",
      "53                       Agree                       Agree   \n",
      "54                    Disagree                    Disagree   \n",
      "\n",
      "                 oaa_relactexa               oaa_relobjexa  \\\n",
      "0               Fully Disagree              Fully Disagree   \n",
      "1   Neither disagree nor agree                       Agree   \n",
      "2                  Fully agree                 Fully agree   \n",
      "3   Neither disagree nor agree              Fully Disagree   \n",
      "4                  Fully agree                 Fully agree   \n",
      "5                  Fully agree                 Fully agree   \n",
      "6                  Fully agree  Neither disagree nor agree   \n",
      "7   Neither disagree nor agree                    Disagree   \n",
      "8                  Fully agree  Neither disagree nor agree   \n",
      "9                        Agree                       Agree   \n",
      "10  Neither disagree nor agree  Neither disagree nor agree   \n",
      "11                 Fully agree  Neither disagree nor agree   \n",
      "12  Neither disagree nor agree  Neither disagree nor agree   \n",
      "13  Neither disagree nor agree              Fully Disagree   \n",
      "14                       Agree                       Agree   \n",
      "15  Neither disagree nor agree  Neither disagree nor agree   \n",
      "16                    Disagree                    Disagree   \n",
      "17                       Agree  Neither disagree nor agree   \n",
      "18                 Fully agree                       Agree   \n",
      "19                    Disagree  Neither disagree nor agree   \n",
      "20  Neither disagree nor agree                 Fully agree   \n",
      "21                    Disagree                    Disagree   \n",
      "22                       Agree  Neither disagree nor agree   \n",
      "23                 Fully agree                 Fully agree   \n",
      "24                       Agree                       Agree   \n",
      "25  Neither disagree nor agree  Neither disagree nor agree   \n",
      "26                 Fully agree                       Agree   \n",
      "27                       Agree                       Agree   \n",
      "28                    Disagree  Neither disagree nor agree   \n",
      "29              Fully Disagree              Fully Disagree   \n",
      "30  Neither disagree nor agree  Neither disagree nor agree   \n",
      "31  Neither disagree nor agree  Neither disagree nor agree   \n",
      "32                 Fully agree  Neither disagree nor agree   \n",
      "33                       Agree                    Disagree   \n",
      "34                 Fully agree                 Fully agree   \n",
      "35                       Agree                       Agree   \n",
      "36                       Agree                       Agree   \n",
      "37  Neither disagree nor agree  Neither disagree nor agree   \n",
      "38  Neither disagree nor agree                    Disagree   \n",
      "39                    Disagree                       Agree   \n",
      "40                 Fully agree                 Fully agree   \n",
      "41                 Fully agree                 Fully agree   \n",
      "42                    Disagree                    Disagree   \n",
      "43                       Agree  Neither disagree nor agree   \n",
      "44                       Agree  Neither disagree nor agree   \n",
      "45  Neither disagree nor agree  Neither disagree nor agree   \n",
      "46                 Fully agree                 Fully agree   \n",
      "47              Fully Disagree              Fully Disagree   \n",
      "48                 Fully agree                 Fully agree   \n",
      "49                       Agree                       Agree   \n",
      "50              Fully Disagree              Fully Disagree   \n",
      "51                       Agree                       Agree   \n",
      "52  Neither disagree nor agree                    Disagree   \n",
      "53                       Agree                       Agree   \n",
      "54                    Disagree                    Disagree   \n",
      "\n",
      "               oaa_learprocact            oaa_learprocprep  ... mix_intdiscus  \\\n",
      "0               Fully Disagree              Fully Disagree  ...    Not at all   \n",
      "1                     Disagree  Neither disagree nor agree  ...   not so much   \n",
      "2                  Fully agree                       Agree  ...     Very much   \n",
      "3               Fully Disagree  Neither disagree nor agree  ...           NaN   \n",
      "4   Neither disagree nor agree                 Fully agree  ...    Not at all   \n",
      "5                  Fully agree  Neither disagree nor agree  ...     Very much   \n",
      "6   Neither disagree nor agree  Neither disagree nor agree  ...       neutral   \n",
      "7               Fully Disagree  Neither disagree nor agree  ...   not so much   \n",
      "8   Neither disagree nor agree                    Disagree  ...           NaN   \n",
      "9   Neither disagree nor agree  Neither disagree nor agree  ...   not so much   \n",
      "10              Fully Disagree                    Disagree  ...           NaN   \n",
      "11                 Fully agree                 Fully agree  ...           NaN   \n",
      "12              Fully Disagree                    Disagree  ...    Not at all   \n",
      "13              Fully Disagree              Fully Disagree  ...   not so much   \n",
      "14                       Agree                       Agree  ...      somewhat   \n",
      "15  Neither disagree nor agree  Neither disagree nor agree  ...       neutral   \n",
      "16                    Disagree  Neither disagree nor agree  ...           NaN   \n",
      "17  Neither disagree nor agree  Neither disagree nor agree  ...       neutral   \n",
      "18                       Agree                 Fully agree  ...       neutral   \n",
      "19              Fully Disagree                    Disagree  ...       neutral   \n",
      "20                 Fully agree                    Disagree  ...       neutral   \n",
      "21                       Agree                       Agree  ...   not so much   \n",
      "22              Fully Disagree              Fully Disagree  ...    Not at all   \n",
      "23                       Agree  Neither disagree nor agree  ...      somewhat   \n",
      "24                       Agree  Neither disagree nor agree  ...   not so much   \n",
      "25              Fully Disagree              Fully Disagree  ...   not so much   \n",
      "26                       Agree  Neither disagree nor agree  ...      somewhat   \n",
      "27  Neither disagree nor agree                    Disagree  ...       neutral   \n",
      "28  Neither disagree nor agree                       Agree  ...       neutral   \n",
      "29              Fully Disagree              Fully Disagree  ...    Not at all   \n",
      "30  Neither disagree nor agree                    Disagree  ...           NaN   \n",
      "31  Neither disagree nor agree  Neither disagree nor agree  ...    Not at all   \n",
      "32                       Agree  Neither disagree nor agree  ...       neutral   \n",
      "33                    Disagree  Neither disagree nor agree  ...      somewhat   \n",
      "34                 Fully agree                 Fully agree  ...           NaN   \n",
      "35                       Agree                 Fully agree  ...      somewhat   \n",
      "36  Neither disagree nor agree  Neither disagree nor agree  ...       neutral   \n",
      "37  Neither disagree nor agree  Neither disagree nor agree  ...       neutral   \n",
      "38                    Disagree                         NaN  ...      somewhat   \n",
      "39  Neither disagree nor agree                    Disagree  ...   not so much   \n",
      "40                 Fully agree                 Fully agree  ...   not so much   \n",
      "41                 Fully agree                       Agree  ...       neutral   \n",
      "42                    Disagree  Neither disagree nor agree  ...       neutral   \n",
      "43              Fully Disagree              Fully Disagree  ...   not so much   \n",
      "44                    Disagree                       Agree  ...       neutral   \n",
      "45  Neither disagree nor agree  Neither disagree nor agree  ...       neutral   \n",
      "46                 Fully agree                 Fully agree  ...       neutral   \n",
      "47              Fully Disagree              Fully Disagree  ...       neutral   \n",
      "48                 Fully agree                 Fully agree  ...      somewhat   \n",
      "49                 Fully agree                 Fully agree  ...     Very much   \n",
      "50                    Disagree                       Agree  ...   not so much   \n",
      "51                    Disagree              Fully Disagree  ...    Not at all   \n",
      "52  Neither disagree nor agree                    Disagree  ...   not so much   \n",
      "53                       Agree                       Agree  ...       neutral   \n",
      "54                    Disagree              Fully Disagree  ...    Not at all   \n",
      "\n",
      "    mix_intprep mix_intexcel over_grade gen_gender gen_age  \\\n",
      "0   not so much  not so much       20.0     Female    22.0   \n",
      "1      somewhat     somewhat       50.0       Male     NaN   \n",
      "2      somewhat     somewhat       80.0       Male    37.0   \n",
      "3       neutral      neutral       15.0     Female    24.0   \n",
      "4      somewhat    Very much       40.0       Male    19.0   \n",
      "5      somewhat     somewhat       85.0       Male    25.0   \n",
      "6       neutral      neutral       30.0     Female     NaN   \n",
      "7   not so much  not so much       45.0     Female    19.0   \n",
      "8           NaN          NaN       70.0       Male    26.0   \n",
      "9   not so much  not so much       60.0       Male    19.0   \n",
      "10          NaN          NaN        NaN       Male    20.0   \n",
      "11          NaN          NaN       90.0       Male    26.0   \n",
      "12  not so much     somewhat       25.0       Male    19.0   \n",
      "13  not so much   Not at all       40.0       Male    18.0   \n",
      "14     somewhat     somewhat       70.0     Female    24.0   \n",
      "15  not so much      neutral       65.0       Male    27.0   \n",
      "16          NaN          NaN        NaN        NaN     NaN   \n",
      "17     somewhat     somewhat       70.0     Female    23.0   \n",
      "18    Very much     somewhat       98.0       Male    21.0   \n",
      "19      neutral      neutral       40.0       Male    18.0   \n",
      "20  not so much    Very much       65.0     Female    19.0   \n",
      "21     somewhat      neutral       60.0        NaN     NaN   \n",
      "22     somewhat          NaN       35.0     Female    21.0   \n",
      "23      neutral     somewhat        NaN       Male    28.0   \n",
      "24      neutral      neutral       50.0       Male    18.0   \n",
      "25   Not at all   Not at all       40.0       Male    18.0   \n",
      "26      neutral      neutral       75.0       Male    28.0   \n",
      "27      neutral      neutral        NaN       Male    23.0   \n",
      "28    Very much    Very much       65.0       Male    21.0   \n",
      "29      neutral      neutral       70.0       Male    22.0   \n",
      "30          NaN          NaN        NaN     Female    24.0   \n",
      "31   Not at all   Not at all       20.0        NaN     NaN   \n",
      "32     somewhat     somewhat       80.0       Male    19.0   \n",
      "33      neutral      neutral       35.0       Male   119.0   \n",
      "34          NaN          NaN        NaN        NaN     NaN   \n",
      "35     somewhat     somewhat       68.0       Male    19.0   \n",
      "36      neutral      neutral       70.0       Male    20.0   \n",
      "37      neutral      neutral       60.0       Male    20.0   \n",
      "38     somewhat     somewhat       70.0       Male    29.0   \n",
      "39      neutral     somewhat        NaN       Male    21.0   \n",
      "40     somewhat    Very much       80.0        NaN     NaN   \n",
      "41     somewhat    Very much       98.0     Female    29.0   \n",
      "42      neutral      neutral       10.0        NaN     NaN   \n",
      "43     somewhat    Very much       40.0       Male    20.0   \n",
      "44          NaN          NaN       63.0       Male    18.0   \n",
      "45      neutral      neutral       75.0       Male    20.0   \n",
      "46  not so much      neutral       80.0       Male    30.0   \n",
      "47      neutral      neutral       40.0       Male    20.0   \n",
      "48   Not at all    Very much       90.0        NaN     NaN   \n",
      "49    Very much    Very much      100.0        NaN     NaN   \n",
      "50  not so much     somewhat       33.0       Male    21.0   \n",
      "51     somewhat     somewhat       36.0       Male    20.0   \n",
      "52  not so much     somewhat       65.0     Female    20.0   \n",
      "53     somewhat    Very much       78.0     Female    22.0   \n",
      "54    Very much    Very much       50.0        NaN     NaN   \n",
      "\n",
      "            gen_secschool gen_classes              gen_numbersubj  \\\n",
      "0                     NaN         NaN                 Fully agree   \n",
      "1         The Netherlands         6.0                    Disagree   \n",
      "2                  Africa         7.0                       Agree   \n",
      "3         The Netherlands         6.0                       Agree   \n",
      "4         The Netherlands         7.0                 Fully agree   \n",
      "5                     NaN         6.0  Neither disagree nor agree   \n",
      "6                  Africa         NaN                         NaN   \n",
      "7         The Netherlands         6.0  Neither disagree nor agree   \n",
      "8                    Asia         2.0                    Disagree   \n",
      "9                    Asia         4.0                       Agree   \n",
      "10        The Netherlands         5.0                       Agree   \n",
      "11                   Asia         1.0                       Agree   \n",
      "12        The Netherlands         3.0                       Agree   \n",
      "13          South America         7.0                       Agree   \n",
      "14  Othern Western Europe         4.0                       Agree   \n",
      "15                    NaN         3.0                 Fully agree   \n",
      "16                    NaN         NaN                         NaN   \n",
      "17        The Netherlands         6.0  Neither disagree nor agree   \n",
      "18        The Netherlands         7.0                 Fully agree   \n",
      "19        The Netherlands         NaN  Neither disagree nor agree   \n",
      "20        The Netherlands         NaN                    Disagree   \n",
      "21                    NaN         NaN                         NaN   \n",
      "22        The Netherlands         5.0              Fully Disagree   \n",
      "23                   Asia         0.0  Neither disagree nor agree   \n",
      "24        The Netherlands         2.0                    Disagree   \n",
      "25        The Netherlands         6.0                       Agree   \n",
      "26  Othern Western Europe         4.0                       Agree   \n",
      "27                 Africa         7.0                       Agree   \n",
      "28                 Africa         7.0                 Fully agree   \n",
      "29        The Netherlands         4.0                    Disagree   \n",
      "30        The Netherlands         1.0  Neither disagree nor agree   \n",
      "31                    NaN         NaN                         NaN   \n",
      "32  Othern Western Europe         2.0  Neither disagree nor agree   \n",
      "33        The Netherlands         4.0                    Disagree   \n",
      "34                    NaN         NaN                         NaN   \n",
      "35                    NaN         3.0              Fully Disagree   \n",
      "36          North America         3.0                       Agree   \n",
      "37                   Asia         4.0  Neither disagree nor agree   \n",
      "38                   Asia         3.0                    Disagree   \n",
      "39        The Netherlands         4.0                    Disagree   \n",
      "40                    NaN         NaN                         NaN   \n",
      "41                 Africa         5.0  Neither disagree nor agree   \n",
      "42                    NaN         NaN                         NaN   \n",
      "43        The Netherlands         0.0                 Fully agree   \n",
      "44         Eastern Europe         2.0  Neither disagree nor agree   \n",
      "45        The Netherlands         5.0                 Fully agree   \n",
      "46                   Asia         1.0  Neither disagree nor agree   \n",
      "47        The Netherlands         3.0                       Agree   \n",
      "48                    NaN         NaN                         NaN   \n",
      "49                    NaN         NaN                         NaN   \n",
      "50        The Netherlands         6.0                       Agree   \n",
      "51        The Netherlands         2.0                       Agree   \n",
      "52        The Netherlands         5.0                       Agree   \n",
      "53        The Netherlands         7.0                       Agree   \n",
      "54                    NaN         NaN                         NaN   \n",
      "\n",
      "              gen_time  \n",
      "0              20 < 30  \n",
      "1              10 < 20  \n",
      "2              10 < 20  \n",
      "3              10 < 20  \n",
      "4              10 < 20  \n",
      "5              20 < 30  \n",
      "6                  NaN  \n",
      "7              10 < 20  \n",
      "8              10 < 20  \n",
      "9   Less than 10 hours  \n",
      "10  Less than 10 hours  \n",
      "11  Less than 10 hours  \n",
      "12             10 < 20  \n",
      "13             10 < 20  \n",
      "14             30 < 40  \n",
      "15  Less than 10 hours  \n",
      "16                 NaN  \n",
      "17             20 < 30  \n",
      "18                 NaN  \n",
      "19             10 < 20  \n",
      "20             10 < 20  \n",
      "21                 NaN  \n",
      "22  Less than 10 hours  \n",
      "23  Less than 10 hours  \n",
      "24  Less than 10 hours  \n",
      "25             20 < 30  \n",
      "26             10 < 20  \n",
      "27             10 < 20  \n",
      "28             30 < 40  \n",
      "29             10 < 20  \n",
      "30  Less than 10 hours  \n",
      "31                 NaN  \n",
      "32             10 < 20  \n",
      "33             10 < 20  \n",
      "34                 NaN  \n",
      "35             20 < 30  \n",
      "36  Less than 10 hours  \n",
      "37  Less than 10 hours  \n",
      "38  Less than 10 hours  \n",
      "39             30 < 40  \n",
      "40                 NaN  \n",
      "41    40 or more hours  \n",
      "42                 NaN  \n",
      "43             20 < 30  \n",
      "44             10 < 20  \n",
      "45             20 < 30  \n",
      "46             20 < 30  \n",
      "47             10 < 20  \n",
      "48                 NaN  \n",
      "49                 NaN  \n",
      "50             20 < 30  \n",
      "51  Less than 10 hours  \n",
      "52             20 < 30  \n",
      "53             10 < 20  \n",
      "54                 NaN  \n",
      "\n",
      "[55 rows x 50 columns]\n"
     ]
    }
   ],
   "source": [
    "# USING CODES\n",
    "copy_survey2 = copy_survey.copy()\n",
    "print(copy_survey2)\n",
    "\n",
    "#copy_survey2['oaa_objcourse'].cat.codes\n"
   ]
  },
  {
   "cell_type": "markdown",
   "metadata": {},
   "source": [
    "After the values have been converted to numbers, we have no way of knowing anymore what each value represented (except for looking through the code). It can therefor be a good idea to store this information somewhere. One possible option that comes to mind is a dictionary with each entry being the variable name, and as a key another dictionary with the code and the corresponding values.\n",
    "\n",
    "*3b) Create a dictionary named **codebook** and add the first entry of 'oaa_objcourse' as a dictionary with the appropriate labels*"
   ]
  },
  {
   "cell_type": "code",
   "execution_count": 96,
   "metadata": {},
   "outputs": [],
   "source": [
    "# code\n",
    "codebook = {'oaa_objcourse' : {0: \"Fully Disagree\", 1 : \"Disagree\", 2 : \"Neither disagree nor agree\", 3: \"Agree\", 4: \"Fully agree\"}}"
   ]
  },
  {
   "cell_type": "code",
   "execution_count": 97,
   "metadata": {},
   "outputs": [
    {
     "data": {
      "text/plain": [
       "{0: 'Fully Disagree',\n",
       " 1: 'Disagree',\n",
       " 2: 'Neither disagree nor agree',\n",
       " 3: 'Agree',\n",
       " 4: 'Fully agree'}"
      ]
     },
     "execution_count": 97,
     "metadata": {},
     "output_type": "execute_result"
    }
   ],
   "source": [
    "# check if it worked\n",
    "codebook['oaa_objcourse']\n"
   ]
  },
  {
   "cell_type": "markdown",
   "metadata": {},
   "source": [
    "Seaborn is a powerful data visualisation library that is often used in data mining. It couldn't hurt to play around a bit with it. So...."
   ]
  },
  {
   "cell_type": "markdown",
   "metadata": {},
   "source": [
    "*3c) Create a bar-chart and a box-plot with the Seaborn library.*"
   ]
  },
  {
   "cell_type": "code",
   "execution_count": 102,
   "metadata": {},
   "outputs": [
    {
     "name": "stdout",
     "output_type": "stream",
     "text": [
      "seaborn already installed, only imported\n"
     ]
    },
    {
     "data": {
      "image/png": "[encoded data removed]",
      "text/plain": [
       "<Figure size 432x288 with 1 Axes>"
      ]
     },
     "metadata": {
      "needs_background": "light"
     },
     "output_type": "display_data"
    },
    {
     "data": {
      "image/png": "[encoded data removed]",
      "text/plain": [
       "<Figure size 432x288 with 1 Axes>"
      ]
     },
     "metadata": {
      "needs_background": "light"
     },
     "output_type": "display_data"
    }
   ],
   "source": [
    "#try:\n",
    "#    import pandas as pd\n",
    "#    print('pandas already installed, only imported')\n",
    "#except:\n",
    "#    !pip install pandas\n",
    "#    import pandas as pd\n",
    "#    print('pandas was not installed, installed and imported')\n",
    "\n",
    "try:\n",
    "    import seaborn as sb\n",
    "    print('seaborn already installed, only imported')\n",
    "except:\n",
    "    !pip install seaborn\n",
    "    import seaborn as sb\n",
    "    print('seaborn was not installed, installing and importing now')\n",
    "\n",
    "#creating bar chart and box-plot\n",
    "barPlot = sb.barplot(x = copy_survey['oaa_objcourse'])\n",
    "plt.show()\n",
    "\n",
    "\n",
    "boxPlot = sb.boxplot(data = copy_survey['oaa_objcourse'])\n",
    "plt.show()"
   ]
  },
  {
   "cell_type": "markdown",
   "metadata": {},
   "source": [
    "# Appendix"
   ]
  },
  {
   "cell_type": "markdown",
   "metadata": {},
   "source": [
    "## Appendix 1: Python's CSV Reader"
   ]
  },
  {
   "cell_type": "markdown",
   "metadata": {},
   "source": [
    "To import data Python has a CSV reader (similar as the file.writer you hopefully remember from C#). To use this, we do need to import Python's library csv."
   ]
  },
  {
   "cell_type": "code",
   "execution_count": 73,
   "metadata": {},
   "outputs": [],
   "source": [
    "import csv"
   ]
  },
  {
   "cell_type": "markdown",
   "metadata": {},
   "source": [
    "Now we can read files using the 'csv.reader'. Since the file is a bit long, I've added a small if statement so it will only show the first ten rows:"
   ]
  },
  {
   "cell_type": "code",
   "execution_count": 74,
   "metadata": {},
   "outputs": [
    {
     "name": "stdout",
     "output_type": "stream",
     "text": [
      "['Scene', 'textNr', 'Who', 'What']\n",
      "['1', '1', ' ARTHUR', 'Whoa there!']\n",
      "['1', '2', ' GUARD #1', 'Halt! Who goes there?']\n",
      "['1', '3', ' ARTHUR', 'It is I, Arthur, son of Uther Pendragon, from the castle of Camelot. King of the Britons, defeator of the Saxons, sovereign of all England!']\n",
      "['1', '4', ' GUARD #1', 'Pull the other one!']\n",
      "['1', '5', ' ARTHUR', 'I am. And this my trusty servant Patsy. We have ridden the length and breadth of the land in search of knights who will join me in my court of Camelot. I must speak with your lord and master.']\n",
      "['1', '6', ' GUARD #1', 'What, ridden on a horse?']\n",
      "['1', '7', ' ARTHUR', 'Yes!']\n",
      "['1', '8', ' GUARD #1', \"You're using coconuts!\"]\n"
     ]
    }
   ],
   "source": [
    "with open('MontyPython.csv', newline='') as csvfile:\n",
    "    csv_reader = csv.reader(csvfile, delimiter=';')\n",
    "    i = 0\n",
    "    for row in csv_reader:\n",
    "        i = i + 1\n",
    "        if i < 10:\n",
    "            print(row)"
   ]
  },
  {
   "cell_type": "markdown",
   "metadata": {},
   "source": [
    "We could of course, store the results in a List:"
   ]
  },
  {
   "cell_type": "code",
   "execution_count": 75,
   "metadata": {},
   "outputs": [],
   "source": [
    "my_data = []\n",
    "\n",
    "with open('MontyPython.csv', newline='') as csvfile:\n",
    "    csv_reader = csv.reader(csvfile, delimiter=';')\n",
    "    for row in csv_reader:\n",
    "        my_data.append(row)"
   ]
  },
  {
   "cell_type": "markdown",
   "metadata": {},
   "source": [
    "Now we can see the first 10 rows using:"
   ]
  },
  {
   "cell_type": "code",
   "execution_count": 76,
   "metadata": {},
   "outputs": [
    {
     "data": {
      "text/plain": [
       "[['Scene', 'textNr', 'Who', 'What'],\n",
       " ['1', '1', ' ARTHUR', 'Whoa there!'],\n",
       " ['1', '2', ' GUARD #1', 'Halt! Who goes there?'],\n",
       " ['1',\n",
       "  '3',\n",
       "  ' ARTHUR',\n",
       "  'It is I, Arthur, son of Uther Pendragon, from the castle of Camelot. King of the Britons, defeator of the Saxons, sovereign of all England!'],\n",
       " ['1', '4', ' GUARD #1', 'Pull the other one!'],\n",
       " ['1',\n",
       "  '5',\n",
       "  ' ARTHUR',\n",
       "  'I am. And this my trusty servant Patsy. We have ridden the length and breadth of the land in search of knights who will join me in my court of Camelot. I must speak with your lord and master.'],\n",
       " ['1', '6', ' GUARD #1', 'What, ridden on a horse?'],\n",
       " ['1', '7', ' ARTHUR', 'Yes!'],\n",
       " ['1', '8', ' GUARD #1', \"You're using coconuts!\"]]"
      ]
     },
     "execution_count": 76,
     "metadata": {},
     "output_type": "execute_result"
    }
   ],
   "source": [
    "my_data[0:9]"
   ]
  },
  {
   "cell_type": "markdown",
   "metadata": {},
   "source": [
    "There are a lot of options with the csv.reader, but usually another reader is used when importing data. "
   ]
  }
 ],
 "metadata": {
  "kernelspec": {
   "display_name": "Python 3",
   "language": "python",
   "name": "python3"
  },
  "language_info": {
   "codemirror_mode": {
    "name": "ipython",
    "version": 3
   },
   "file_extension": ".py",
   "mimetype": "text/x-python",
   "name": "python",
   "nbconvert_exporter": "python",
   "pygments_lexer": "ipython3",
   "version": "3.9.7"
  }
 },
 "nbformat": 4,
 "nbformat_minor": 4
}
